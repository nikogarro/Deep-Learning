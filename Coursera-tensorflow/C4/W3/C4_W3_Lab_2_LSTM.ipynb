{
  "nbformat": 4,
  "nbformat_minor": 0,
  "metadata": {
    "colab": {
      "provenance": [],
      "gpuType": "T4",
      "authorship_tag": "ABX9TyOG31oXrnXTe/wURDiOZ1fO",
      "include_colab_link": true
    },
    "kernelspec": {
      "name": "python3",
      "display_name": "Python 3"
    },
    "language_info": {
      "name": "python"
    },
    "accelerator": "GPU"
  },
  "cells": [
    {
      "cell_type": "markdown",
      "metadata": {
        "id": "view-in-github",
        "colab_type": "text"
      },
      "source": [
        "<a href=\"https://colab.research.google.com/github/nikogarro/Deep-Learning/blob/main/Coursera-tensorflow/C4/W3/C4_W3_Lab_2_LSTM.ipynb\" target=\"_parent\"><img src=\"https://colab.research.google.com/assets/colab-badge.svg\" alt=\"Open In Colab\"/></a>"
      ]
    },
    {
      "cell_type": "markdown",
      "metadata": {
        "id": "sV_nvXSQGJPK"
      },
      "source": [
        "# Ungraded Lab: Using a multi-layer LSTM for forecasting\n",
        "\n",
        "In this lab, you will use the same RNN architecure in the first lab but will instead stack [LSTM](https://www.tensorflow.org/api_docs/python/tf/keras/layers/LSTM) layers instead of `SimpleRNN`."
      ]
    },
    {
      "cell_type": "markdown",
      "metadata": {
        "id": "3IMbAWETGOWD"
      },
      "source": [
        "## Imports"
      ]
    },
    {
      "cell_type": "code",
      "execution_count": 1,
      "metadata": {
        "id": "BOjujz601HcS"
      },
      "outputs": [],
      "source": [
        "import tensorflow as tf\n",
        "import numpy as np\n",
        "import matplotlib.pyplot as plt"
      ]
    },
    {
      "cell_type": "markdown",
      "metadata": {
        "id": "kD7RQQ0xGQVH"
      },
      "source": [
        "## Utilities"
      ]
    },
    {
      "cell_type": "code",
      "execution_count": 2,
      "metadata": {
        "id": "Zswl7jRtGzkk"
      },
      "outputs": [],
      "source": [
        "def plot_series(time, series, format=\"-\", start=0, end=None):\n",
        "    \"\"\"\n",
        "    Visualizes time series data\n",
        "\n",
        "    Args:\n",
        "      time (array of int) - contains the time steps\n",
        "      series (array of int) - contains the measurements for each time step\n",
        "      format - line style when plotting the graph\n",
        "      start - first time step to plot\n",
        "      end - last time step to plot\n",
        "    \"\"\"\n",
        "\n",
        "    # Setup dimensions of the graph figure\n",
        "    plt.figure(figsize=(10, 6))\n",
        "\n",
        "    if type(series) is tuple:\n",
        "\n",
        "      for series_num in series:\n",
        "        # Plot the time series data\n",
        "        plt.plot(time[start:end], series_num[start:end], format)\n",
        "\n",
        "    else:\n",
        "      # Plot the time series data\n",
        "      plt.plot(time[start:end], series[start:end], format)\n",
        "\n",
        "    # Label the x-axis\n",
        "    plt.xlabel(\"Time\")\n",
        "\n",
        "    # Label the y-axis\n",
        "    plt.ylabel(\"Value\")\n",
        "\n",
        "    # Overlay a grid on the graph\n",
        "    plt.grid(True)\n",
        "\n",
        "    # Draw the graph on screen\n",
        "    plt.show()\n",
        "\n",
        "def trend(time, slope=0):\n",
        "    \"\"\"\n",
        "    Generates synthetic data that follows a straight line given a slope value.\n",
        "\n",
        "    Args:\n",
        "      time (array of int) - contains the time steps\n",
        "      slope (float) - determines the direction and steepness of the line\n",
        "\n",
        "    Returns:\n",
        "      series (array of float) - measurements that follow a straight line\n",
        "    \"\"\"\n",
        "\n",
        "    # Compute the linear series given the slope\n",
        "    series = slope * time\n",
        "\n",
        "    return series\n",
        "\n",
        "def seasonal_pattern(season_time):\n",
        "    \"\"\"\n",
        "    Just an arbitrary pattern, you can change it if you wish\n",
        "\n",
        "    Args:\n",
        "      season_time (array of float) - contains the measurements per time step\n",
        "\n",
        "    Returns:\n",
        "      data_pattern (array of float) -  contains revised measurement values according\n",
        "                                  to the defined pattern\n",
        "    \"\"\"\n",
        "\n",
        "    # Generate the values using an arbitrary pattern\n",
        "    data_pattern = np.where(season_time < 0.4,\n",
        "                    np.cos(season_time * 2 * np.pi),\n",
        "                    1 / np.exp(3 * season_time))\n",
        "\n",
        "    return data_pattern\n",
        "\n",
        "def seasonality(time, period, amplitude=1, phase=0):\n",
        "    \"\"\"\n",
        "    Repeats the same pattern at each period\n",
        "\n",
        "    Args:\n",
        "      time (array of int) - contains the time steps\n",
        "      period (int) - number of time steps before the pattern repeats\n",
        "      amplitude (int) - peak measured value in a period\n",
        "      phase (int) - number of time steps to shift the measured values\n",
        "\n",
        "    Returns:\n",
        "      data_pattern (array of float) - seasonal data scaled by the defined amplitude\n",
        "    \"\"\"\n",
        "\n",
        "    # Define the measured values per period\n",
        "    season_time = ((time + phase) % period) / period\n",
        "\n",
        "    # Generates the seasonal data scaled by the defined amplitude\n",
        "    data_pattern = amplitude * seasonal_pattern(season_time)\n",
        "\n",
        "    return data_pattern\n",
        "\n",
        "def noise(time, noise_level=1, seed=None):\n",
        "    \"\"\"Generates a normally distributed noisy signal\n",
        "\n",
        "    Args:\n",
        "      time (array of int) - contains the time steps\n",
        "      noise_level (float) - scaling factor for the generated signal\n",
        "      seed (int) - number generator seed for repeatability\n",
        "\n",
        "    Returns:\n",
        "      noise (array of float) - the noisy signal\n",
        "    \"\"\"\n",
        "\n",
        "    # Initialize the random number generator\n",
        "    rnd = np.random.RandomState(seed)\n",
        "\n",
        "    # Generate a random number for each time step and scale by the noise level\n",
        "    noise = rnd.randn(len(time)) * noise_level\n",
        "\n",
        "    return noise"
      ]
    },
    {
      "cell_type": "markdown",
      "metadata": {
        "id": "yxNyeFWjGSdj"
      },
      "source": [
        "## Generate the Synthetic Data"
      ]
    },
    {
      "cell_type": "code",
      "execution_count": 3,
      "metadata": {
        "id": "KYEUfDbdpHPm",
        "colab": {
          "base_uri": "https://localhost:8080/",
          "height": 542
        },
        "outputId": "3b06e2f6-20fc-4a98-c51a-f0d7cb0f19b6"
      },
      "outputs": [
        {
          "output_type": "display_data",
          "data": {
            "text/plain": [
              "<Figure size 1000x600 with 1 Axes>"
            ],
            "image/png": "[encoded data removed]"
          },
          "metadata": {}
        }
      ],
      "source": [
        "# Parameters\n",
        "time = np.arange(4 * 365 + 1, dtype=\"float32\")\n",
        "baseline = 10\n",
        "amplitude = 40\n",
        "slope = 0.05\n",
        "noise_level = 5\n",
        "\n",
        "# Create the series\n",
        "series = baseline + trend(time, slope) + seasonality(time, period=365, amplitude=amplitude)\n",
        "\n",
        "# Update with noise\n",
        "series += noise(time, noise_level, seed=42)\n",
        "\n",
        "# Plot the results\n",
        "plot_series(time, series)"
      ]
    },
    {
      "cell_type": "markdown",
      "metadata": {
        "id": "MYKCvv-eGWRc"
      },
      "source": [
        "## Split the Dataset"
      ]
    },
    {
      "cell_type": "code",
      "execution_count": 4,
      "metadata": {
        "id": "hpp0slenpKVD"
      },
      "outputs": [],
      "source": [
        "# Define the split time\n",
        "split_time = 1000\n",
        "\n",
        "# Get the train set\n",
        "time_train = time[:split_time]\n",
        "x_train = series[:split_time]\n",
        "\n",
        "# Get the validation set\n",
        "time_valid = time[split_time:]\n",
        "x_valid = series[split_time:]"
      ]
    },
    {
      "cell_type": "markdown",
      "metadata": {
        "id": "cktHz9aOGYtV"
      },
      "source": [
        "## Prepare Features and Labels"
      ]
    },
    {
      "cell_type": "code",
      "execution_count": 5,
      "metadata": {
        "id": "G_j_2_Mqwn7-"
      },
      "outputs": [],
      "source": [
        "# Parameters\n",
        "window_size = 20\n",
        "batch_size = 32\n",
        "shuffle_buffer_size = 1000"
      ]
    },
    {
      "cell_type": "code",
      "execution_count": 6,
      "metadata": {
        "id": "4sTTIOCbyShY"
      },
      "outputs": [],
      "source": [
        "def windowed_dataset(series, window_size, batch_size, shuffle_buffer):\n",
        "    \"\"\"Generates dataset windows\n",
        "\n",
        "    Args:\n",
        "      series (array of float) - contains the values of the time series\n",
        "      window_size (int) - the number of time steps to include in the feature\n",
        "      batch_size (int) - the batch size\n",
        "      shuffle_buffer(int) - buffer size to use for the shuffle method\n",
        "\n",
        "    Returns:\n",
        "      dataset (TF Dataset) - TF Dataset containing time windows\n",
        "    \"\"\"\n",
        "\n",
        "    # Generate a TF Dataset from the series values\n",
        "    dataset = tf.data.Dataset.from_tensor_slices(series)\n",
        "\n",
        "    # Window the data but only take those with the specified size\n",
        "    dataset = dataset.window(window_size + 1, shift=1, drop_remainder=True)\n",
        "\n",
        "    # Flatten the windows by putting its elements in a single batch\n",
        "    dataset = dataset.flat_map(lambda window: window.batch(window_size + 1))\n",
        "\n",
        "    # Create tuples with features and labels\n",
        "    dataset = dataset.map(lambda window: (window[:-1], window[-1]))\n",
        "\n",
        "    # Shuffle the windows\n",
        "    dataset = dataset.shuffle(shuffle_buffer)\n",
        "\n",
        "    # Create batches of windows\n",
        "    dataset = dataset.batch(batch_size).prefetch(1)\n",
        "\n",
        "    return dataset"
      ]
    },
    {
      "cell_type": "code",
      "execution_count": 7,
      "metadata": {
        "id": "vGj5-InSwtQQ"
      },
      "outputs": [],
      "source": [
        "# Generate the dataset windows\n",
        "dataset = windowed_dataset(x_train, window_size, batch_size, shuffle_buffer_size)"
      ]
    },
    {
      "cell_type": "markdown",
      "metadata": {
        "id": "p9-Ke8ZaGcjd"
      },
      "source": [
        "## Build the Model\n",
        "\n",
        "As mentioned, you will swap `SimpleRNN` for `LSTM` in this lab. It is also set as bidirectional below but feel free to revise later and see what results you get. LSTMs are much more complex in their internal architecture than simpleRNNs. It implements a cell state that allows it to remember sequences better than simple implementations. This added complexity results in a bigger set of parameters to train and you'll see that when you print the model summary below."
      ]
    },
    {
      "cell_type": "code",
      "execution_count": 8,
      "metadata": {
        "id": "A1Hl39rklkLm",
        "colab": {
          "base_uri": "https://localhost:8080/"
        },
        "outputId": "ee0f6fc0-d74d-4d58-dee2-26ff10ce58f7"
      },
      "outputs": [
        {
          "output_type": "stream",
          "name": "stdout",
          "text": [
            "Model: \"sequential\"\n",
            "_________________________________________________________________\n",
            " Layer (type)                Output Shape              Param #   \n",
            "=================================================================\n",
            " lambda (Lambda)             (None, 20, 1)             0         \n",
            "                                                                 \n",
            " bidirectional (Bidirectiona  (None, 20, 64)           8704      \n",
            " l)                                                              \n",
            "                                                                 \n",
            " bidirectional_1 (Bidirectio  (None, 64)               24832     \n",
            " nal)                                                            \n",
            "                                                                 \n",
            " dense (Dense)               (None, 1)                 65        \n",
            "                                                                 \n",
            " lambda_1 (Lambda)           (None, 1)                 0         \n",
            "                                                                 \n",
            "=================================================================\n",
            "Total params: 33,601\n",
            "Trainable params: 33,601\n",
            "Non-trainable params: 0\n",
            "_________________________________________________________________\n"
          ]
        }
      ],
      "source": [
        "# Build the Model\n",
        "model_tune = tf.keras.models.Sequential([\n",
        "  tf.keras.layers.Lambda(lambda x: tf.expand_dims(x, axis=-1),\n",
        "                      input_shape=[window_size]),\n",
        "    tf.keras.layers.Bidirectional(tf.keras.layers.LSTM(32, return_sequences=True)),\n",
        "  tf.keras.layers.Bidirectional(tf.keras.layers.LSTM(32)),\n",
        "  tf.keras.layers.Dense(1),\n",
        "  tf.keras.layers.Lambda(lambda x: x * 100.0)\n",
        "])\n",
        "\n",
        "# Print the model summary\n",
        "model_tune.summary()"
      ]
    },
    {
      "cell_type": "markdown",
      "metadata": {
        "id": "FHaFblbwq0GV"
      },
      "source": [
        "## Tune the Learning Rate\n",
        "\n",
        "As usual, you will pick a learning rate by running the tuning code below."
      ]
    },
    {
      "cell_type": "code",
      "execution_count": 9,
      "metadata": {
        "id": "qE7al18qw48G",
        "colab": {
          "base_uri": "https://localhost:8080/"
        },
        "outputId": "6cedd894-da48-405e-d44c-e0bc05d06efb"
      },
      "outputs": [
        {
          "output_type": "stream",
          "name": "stdout",
          "text": [
            "Epoch 1/100\n",
            "31/31 [==============================] - 20s 19ms/step - loss: 53.4938 - lr: 1.0000e-08\n",
            "Epoch 2/100\n",
            "31/31 [==============================] - 0s 10ms/step - loss: 52.8434 - lr: 1.1220e-08\n",
            "Epoch 3/100\n",
            "31/31 [==============================] - 0s 9ms/step - loss: 52.0630 - lr: 1.2589e-08\n",
            "Epoch 4/100\n",
            "31/31 [==============================] - 0s 9ms/step - loss: 51.1902 - lr: 1.4125e-08\n",
            "Epoch 5/100\n",
            "31/31 [==============================] - 0s 8ms/step - loss: 50.2187 - lr: 1.5849e-08\n",
            "Epoch 6/100\n",
            "31/31 [==============================] - 0s 10ms/step - loss: 49.1305 - lr: 1.7783e-08\n",
            "Epoch 7/100\n",
            "31/31 [==============================] - 0s 9ms/step - loss: 47.9188 - lr: 1.9953e-08\n",
            "Epoch 8/100\n",
            "31/31 [==============================] - 0s 9ms/step - loss: 46.5718 - lr: 2.2387e-08\n",
            "Epoch 9/100\n",
            "31/31 [==============================] - 0s 10ms/step - loss: 45.0733 - lr: 2.5119e-08\n",
            "Epoch 10/100\n",
            "31/31 [==============================] - 0s 10ms/step - loss: 43.4084 - lr: 2.8184e-08\n",
            "Epoch 11/100\n",
            "31/31 [==============================] - 0s 10ms/step - loss: 41.5489 - lr: 3.1623e-08\n",
            "Epoch 12/100\n",
            "31/31 [==============================] - 0s 9ms/step - loss: 39.4814 - lr: 3.5481e-08\n",
            "Epoch 13/100\n",
            "31/31 [==============================] - 0s 9ms/step - loss: 37.1663 - lr: 3.9811e-08\n",
            "Epoch 14/100\n",
            "31/31 [==============================] - 0s 9ms/step - loss: 34.6321 - lr: 4.4668e-08\n",
            "Epoch 15/100\n",
            "31/31 [==============================] - 0s 9ms/step - loss: 31.8445 - lr: 5.0119e-08\n",
            "Epoch 16/100\n",
            "31/31 [==============================] - 0s 9ms/step - loss: 28.8077 - lr: 5.6234e-08\n",
            "Epoch 17/100\n",
            "31/31 [==============================] - 1s 13ms/step - loss: 25.5779 - lr: 6.3096e-08\n",
            "Epoch 18/100\n",
            "31/31 [==============================] - 1s 14ms/step - loss: 22.2929 - lr: 7.0795e-08\n",
            "Epoch 19/100\n",
            "31/31 [==============================] - 1s 10ms/step - loss: 19.4456 - lr: 7.9433e-08\n",
            "Epoch 20/100\n",
            "31/31 [==============================] - 0s 9ms/step - loss: 17.3959 - lr: 8.9125e-08\n",
            "Epoch 21/100\n",
            "31/31 [==============================] - 0s 9ms/step - loss: 16.1961 - lr: 1.0000e-07\n",
            "Epoch 22/100\n",
            "31/31 [==============================] - 0s 10ms/step - loss: 15.3941 - lr: 1.1220e-07\n",
            "Epoch 23/100\n",
            "31/31 [==============================] - 0s 9ms/step - loss: 14.7834 - lr: 1.2589e-07\n",
            "Epoch 24/100\n",
            "31/31 [==============================] - 0s 10ms/step - loss: 14.3463 - lr: 1.4125e-07\n",
            "Epoch 25/100\n",
            "31/31 [==============================] - 0s 9ms/step - loss: 14.0329 - lr: 1.5849e-07\n",
            "Epoch 26/100\n",
            "31/31 [==============================] - 0s 9ms/step - loss: 13.7552 - lr: 1.7783e-07\n",
            "Epoch 27/100\n",
            "31/31 [==============================] - 0s 9ms/step - loss: 13.4730 - lr: 1.9953e-07\n",
            "Epoch 28/100\n",
            "31/31 [==============================] - 0s 9ms/step - loss: 13.1619 - lr: 2.2387e-07\n",
            "Epoch 29/100\n",
            "31/31 [==============================] - 0s 9ms/step - loss: 12.8122 - lr: 2.5119e-07\n",
            "Epoch 30/100\n",
            "31/31 [==============================] - 0s 9ms/step - loss: 12.4108 - lr: 2.8184e-07\n",
            "Epoch 31/100\n",
            "31/31 [==============================] - 0s 9ms/step - loss: 11.9580 - lr: 3.1623e-07\n",
            "Epoch 32/100\n",
            "31/31 [==============================] - 0s 10ms/step - loss: 11.4800 - lr: 3.5481e-07\n",
            "Epoch 33/100\n",
            "31/31 [==============================] - 0s 9ms/step - loss: 10.9210 - lr: 3.9811e-07\n",
            "Epoch 34/100\n",
            "31/31 [==============================] - 0s 10ms/step - loss: 10.3357 - lr: 4.4668e-07\n",
            "Epoch 35/100\n",
            "31/31 [==============================] - 0s 9ms/step - loss: 9.6817 - lr: 5.0119e-07\n",
            "Epoch 36/100\n",
            "31/31 [==============================] - 0s 9ms/step - loss: 8.9654 - lr: 5.6234e-07\n",
            "Epoch 37/100\n",
            "31/31 [==============================] - 0s 10ms/step - loss: 8.1851 - lr: 6.3096e-07\n",
            "Epoch 38/100\n",
            "31/31 [==============================] - 0s 9ms/step - loss: 7.3850 - lr: 7.0795e-07\n",
            "Epoch 39/100\n",
            "31/31 [==============================] - 0s 9ms/step - loss: 6.7407 - lr: 7.9433e-07\n",
            "Epoch 40/100\n",
            "31/31 [==============================] - 0s 11ms/step - loss: 6.3747 - lr: 8.9125e-07\n",
            "Epoch 41/100\n",
            "31/31 [==============================] - 1s 14ms/step - loss: 6.1692 - lr: 1.0000e-06\n",
            "Epoch 42/100\n",
            "31/31 [==============================] - 1s 13ms/step - loss: 6.0653 - lr: 1.1220e-06\n",
            "Epoch 43/100\n",
            "31/31 [==============================] - 1s 13ms/step - loss: 5.9620 - lr: 1.2589e-06\n",
            "Epoch 44/100\n",
            "31/31 [==============================] - 1s 12ms/step - loss: 6.0885 - lr: 1.4125e-06\n",
            "Epoch 45/100\n",
            "31/31 [==============================] - 0s 9ms/step - loss: 5.8353 - lr: 1.5849e-06\n",
            "Epoch 46/100\n",
            "31/31 [==============================] - 0s 9ms/step - loss: 5.8565 - lr: 1.7783e-06\n",
            "Epoch 47/100\n",
            "31/31 [==============================] - 0s 9ms/step - loss: 5.9706 - lr: 1.9953e-06\n",
            "Epoch 48/100\n",
            "31/31 [==============================] - 0s 9ms/step - loss: 5.8647 - lr: 2.2387e-06\n",
            "Epoch 49/100\n",
            "31/31 [==============================] - 0s 9ms/step - loss: 6.2232 - lr: 2.5119e-06\n",
            "Epoch 50/100\n",
            "31/31 [==============================] - 0s 9ms/step - loss: 6.0421 - lr: 2.8184e-06\n",
            "Epoch 51/100\n",
            "31/31 [==============================] - 0s 10ms/step - loss: 5.6823 - lr: 3.1623e-06\n",
            "Epoch 52/100\n",
            "31/31 [==============================] - 0s 9ms/step - loss: 5.6033 - lr: 3.5481e-06\n",
            "Epoch 53/100\n",
            "31/31 [==============================] - 0s 9ms/step - loss: 5.3968 - lr: 3.9811e-06\n",
            "Epoch 54/100\n",
            "31/31 [==============================] - 0s 10ms/step - loss: 5.3792 - lr: 4.4668e-06\n",
            "Epoch 55/100\n",
            "31/31 [==============================] - 0s 9ms/step - loss: 5.5484 - lr: 5.0119e-06\n",
            "Epoch 56/100\n",
            "31/31 [==============================] - 0s 9ms/step - loss: 5.4097 - lr: 5.6234e-06\n",
            "Epoch 57/100\n",
            "31/31 [==============================] - 0s 9ms/step - loss: 5.9079 - lr: 6.3096e-06\n",
            "Epoch 58/100\n",
            "31/31 [==============================] - 0s 9ms/step - loss: 5.6705 - lr: 7.0795e-06\n",
            "Epoch 59/100\n",
            "31/31 [==============================] - 0s 10ms/step - loss: 5.4146 - lr: 7.9433e-06\n",
            "Epoch 60/100\n",
            "31/31 [==============================] - 0s 9ms/step - loss: 5.4917 - lr: 8.9125e-06\n",
            "Epoch 61/100\n",
            "31/31 [==============================] - 0s 9ms/step - loss: 5.2856 - lr: 1.0000e-05\n",
            "Epoch 62/100\n",
            "31/31 [==============================] - 0s 9ms/step - loss: 5.3861 - lr: 1.1220e-05\n",
            "Epoch 63/100\n",
            "31/31 [==============================] - 0s 10ms/step - loss: 5.1513 - lr: 1.2589e-05\n",
            "Epoch 64/100\n",
            "31/31 [==============================] - 0s 9ms/step - loss: 5.1830 - lr: 1.4125e-05\n",
            "Epoch 65/100\n",
            "31/31 [==============================] - 0s 10ms/step - loss: 5.1743 - lr: 1.5849e-05\n",
            "Epoch 66/100\n",
            "31/31 [==============================] - 1s 14ms/step - loss: 5.3685 - lr: 1.7783e-05\n",
            "Epoch 67/100\n",
            "31/31 [==============================] - 1s 13ms/step - loss: 5.2587 - lr: 1.9953e-05\n",
            "Epoch 68/100\n",
            "31/31 [==============================] - 1s 13ms/step - loss: 6.0274 - lr: 2.2387e-05\n",
            "Epoch 69/100\n",
            "31/31 [==============================] - 1s 13ms/step - loss: 5.1377 - lr: 2.5119e-05\n",
            "Epoch 70/100\n",
            "31/31 [==============================] - 0s 9ms/step - loss: 5.8642 - lr: 2.8184e-05\n",
            "Epoch 71/100\n",
            "31/31 [==============================] - 0s 9ms/step - loss: 5.7641 - lr: 3.1623e-05\n",
            "Epoch 72/100\n",
            "31/31 [==============================] - 0s 9ms/step - loss: 5.5156 - lr: 3.5481e-05\n",
            "Epoch 73/100\n",
            "31/31 [==============================] - 0s 9ms/step - loss: 5.6759 - lr: 3.9811e-05\n",
            "Epoch 74/100\n",
            "31/31 [==============================] - 0s 9ms/step - loss: 5.9378 - lr: 4.4668e-05\n",
            "Epoch 75/100\n",
            "31/31 [==============================] - 0s 9ms/step - loss: 5.5867 - lr: 5.0119e-05\n",
            "Epoch 76/100\n",
            "31/31 [==============================] - 0s 9ms/step - loss: 5.0546 - lr: 5.6234e-05\n",
            "Epoch 77/100\n",
            "31/31 [==============================] - 0s 9ms/step - loss: 5.3674 - lr: 6.3096e-05\n",
            "Epoch 78/100\n",
            "31/31 [==============================] - 0s 9ms/step - loss: 6.0060 - lr: 7.0795e-05\n",
            "Epoch 79/100\n",
            "31/31 [==============================] - 0s 10ms/step - loss: 6.0020 - lr: 7.9433e-05\n",
            "Epoch 80/100\n",
            "31/31 [==============================] - 0s 9ms/step - loss: 6.1607 - lr: 8.9125e-05\n",
            "Epoch 81/100\n",
            "31/31 [==============================] - 0s 9ms/step - loss: 6.3046 - lr: 1.0000e-04\n",
            "Epoch 82/100\n",
            "31/31 [==============================] - 0s 9ms/step - loss: 6.3831 - lr: 1.1220e-04\n",
            "Epoch 83/100\n",
            "31/31 [==============================] - 0s 8ms/step - loss: 5.7824 - lr: 1.2589e-04\n",
            "Epoch 84/100\n",
            "31/31 [==============================] - 0s 10ms/step - loss: 7.1703 - lr: 1.4125e-04\n",
            "Epoch 85/100\n",
            "31/31 [==============================] - 0s 9ms/step - loss: 6.2175 - lr: 1.5849e-04\n",
            "Epoch 86/100\n",
            "31/31 [==============================] - 0s 9ms/step - loss: 6.0552 - lr: 1.7783e-04\n",
            "Epoch 87/100\n",
            "31/31 [==============================] - 0s 9ms/step - loss: 6.9220 - lr: 1.9953e-04\n",
            "Epoch 88/100\n",
            "31/31 [==============================] - 0s 10ms/step - loss: 8.7433 - lr: 2.2387e-04\n",
            "Epoch 89/100\n",
            "31/31 [==============================] - 0s 9ms/step - loss: 6.9046 - lr: 2.5119e-04\n",
            "Epoch 90/100\n",
            "31/31 [==============================] - 0s 9ms/step - loss: 6.8980 - lr: 2.8184e-04\n",
            "Epoch 91/100\n",
            "31/31 [==============================] - 0s 10ms/step - loss: 7.3440 - lr: 3.1623e-04\n",
            "Epoch 92/100\n",
            "31/31 [==============================] - 0s 9ms/step - loss: 7.1851 - lr: 3.5481e-04\n",
            "Epoch 93/100\n",
            "31/31 [==============================] - 1s 13ms/step - loss: 8.2297 - lr: 3.9811e-04\n",
            "Epoch 94/100\n",
            "31/31 [==============================] - 1s 15ms/step - loss: 12.2727 - lr: 4.4668e-04\n",
            "Epoch 95/100\n",
            "31/31 [==============================] - 0s 10ms/step - loss: 8.3949 - lr: 5.0119e-04\n",
            "Epoch 96/100\n",
            "31/31 [==============================] - 0s 9ms/step - loss: 8.8618 - lr: 5.6234e-04\n",
            "Epoch 97/100\n",
            "31/31 [==============================] - 0s 10ms/step - loss: 8.8532 - lr: 6.3096e-04\n",
            "Epoch 98/100\n",
            "31/31 [==============================] - 0s 9ms/step - loss: 13.6131 - lr: 7.0795e-04\n",
            "Epoch 99/100\n",
            "31/31 [==============================] - 0s 9ms/step - loss: 12.4424 - lr: 7.9433e-04\n",
            "Epoch 100/100\n",
            "31/31 [==============================] - 0s 10ms/step - loss: 17.4278 - lr: 8.9125e-04\n"
          ]
        }
      ],
      "source": [
        "# Set the learning rate scheduler\n",
        "lr_schedule = tf.keras.callbacks.LearningRateScheduler(\n",
        "    lambda epoch: 1e-8 * 10**(epoch / 20))\n",
        "\n",
        "# Initialize the optimizer\n",
        "optimizer = tf.keras.optimizers.SGD(momentum=0.9)\n",
        "\n",
        "# Set the training parameters\n",
        "model_tune.compile(loss=tf.keras.losses.Huber(), optimizer=optimizer)\n",
        "\n",
        "# Train the model\n",
        "history = model_tune.fit(dataset, epochs=100, callbacks=[lr_schedule])"
      ]
    },
    {
      "cell_type": "code",
      "execution_count": 10,
      "metadata": {
        "id": "AkBsrsXMzoWR",
        "colab": {
          "base_uri": "https://localhost:8080/",
          "height": 559
        },
        "outputId": "44416d90-d630-4cad-fbc1-b28212de53af"
      },
      "outputs": [
        {
          "output_type": "execute_result",
          "data": {
            "text/plain": [
              "(1e-08, 0.001, 0.0, 30.0)"
            ]
          },
          "metadata": {},
          "execution_count": 10
        },
        {
          "output_type": "display_data",
          "data": {
            "text/plain": [
              "<Figure size 1000x600 with 1 Axes>"
            ],
            "image/png": "[encoded data removed]"
          },
          "metadata": {}
        }
      ],
      "source": [
        "# Define the learning rate array\n",
        "lrs = 1e-8 * (10 ** (np.arange(100) / 20))\n",
        "\n",
        "# Set the figure size\n",
        "plt.figure(figsize=(10, 6))\n",
        "\n",
        "# Set the grid\n",
        "plt.grid(True)\n",
        "\n",
        "# Plot the loss in log scale\n",
        "plt.semilogx(lrs, history.history[\"loss\"])\n",
        "\n",
        "# Increase the tickmarks size\n",
        "plt.tick_params('both', length=10, width=1, which='both')\n",
        "\n",
        "# Set the plot boundaries\n",
        "plt.axis([1e-8, 1e-3, 0, 30])"
      ]
    },
    {
      "cell_type": "markdown",
      "metadata": {
        "id": "i-lKNp4pq_w8"
      },
      "source": [
        "## Train the Model\n",
        "\n",
        "You can then proceed to train the model with your chosen learning rate.\n",
        "\n",
        "*Tip: When experimenting and you find yourself running different iterations of a model, you may want to use the [`clear_session()`](https://www.tensorflow.org/api_docs/python/tf/keras/backend/clear_session) method to declutter memory used by Keras. This is added in the first line below.*\n"
      ]
    },
    {
      "cell_type": "code",
      "execution_count": 11,
      "metadata": {
        "id": "4uh-97bpLZCA",
        "colab": {
          "base_uri": "https://localhost:8080/"
        },
        "outputId": "27f8f956-4a84-42c0-8abf-4c6c813144ce"
      },
      "outputs": [
        {
          "output_type": "stream",
          "name": "stdout",
          "text": [
            "Epoch 1/100\n",
            "31/31 [==============================] - 7s 15ms/step - loss: 24.1883 - mae: 24.6831\n",
            "Epoch 2/100\n",
            "31/31 [==============================] - 0s 9ms/step - loss: 13.6013 - mae: 14.0920\n",
            "Epoch 3/100\n",
            "31/31 [==============================] - 0s 9ms/step - loss: 11.1733 - mae: 11.6627\n",
            "Epoch 4/100\n",
            "31/31 [==============================] - 0s 9ms/step - loss: 9.9173 - mae: 10.4016\n",
            "Epoch 5/100\n",
            "31/31 [==============================] - 0s 9ms/step - loss: 8.6448 - mae: 9.1278\n",
            "Epoch 6/100\n",
            "31/31 [==============================] - 0s 9ms/step - loss: 7.8416 - mae: 8.3240\n",
            "Epoch 7/100\n",
            "31/31 [==============================] - 0s 9ms/step - loss: 7.3213 - mae: 7.8019\n",
            "Epoch 8/100\n",
            "31/31 [==============================] - 0s 10ms/step - loss: 7.0759 - mae: 7.5576\n",
            "Epoch 9/100\n",
            "31/31 [==============================] - 0s 9ms/step - loss: 6.8438 - mae: 7.3280\n",
            "Epoch 10/100\n",
            "31/31 [==============================] - 0s 10ms/step - loss: 6.7364 - mae: 7.2180\n",
            "Epoch 11/100\n",
            "31/31 [==============================] - 0s 10ms/step - loss: 6.6183 - mae: 7.1017\n",
            "Epoch 12/100\n",
            "31/31 [==============================] - 0s 9ms/step - loss: 6.4689 - mae: 6.9497\n",
            "Epoch 13/100\n",
            "31/31 [==============================] - 0s 10ms/step - loss: 6.3788 - mae: 6.8554\n",
            "Epoch 14/100\n",
            "31/31 [==============================] - 0s 9ms/step - loss: 6.3351 - mae: 6.8169\n",
            "Epoch 15/100\n",
            "31/31 [==============================] - 1s 14ms/step - loss: 6.3302 - mae: 6.8117\n",
            "Epoch 16/100\n",
            "31/31 [==============================] - 1s 10ms/step - loss: 6.2429 - mae: 6.7245\n",
            "Epoch 17/100\n",
            "31/31 [==============================] - 0s 9ms/step - loss: 6.1704 - mae: 6.6559\n",
            "Epoch 18/100\n",
            "31/31 [==============================] - 0s 9ms/step - loss: 6.0644 - mae: 6.5433\n",
            "Epoch 19/100\n",
            "31/31 [==============================] - 0s 10ms/step - loss: 5.9861 - mae: 6.4632\n",
            "Epoch 20/100\n",
            "31/31 [==============================] - 0s 9ms/step - loss: 5.9542 - mae: 6.4344\n",
            "Epoch 21/100\n",
            "31/31 [==============================] - 0s 10ms/step - loss: 6.0269 - mae: 6.5107\n",
            "Epoch 22/100\n",
            "31/31 [==============================] - 0s 10ms/step - loss: 5.9110 - mae: 6.3901\n",
            "Epoch 23/100\n",
            "31/31 [==============================] - 1s 14ms/step - loss: 5.8275 - mae: 6.3050\n",
            "Epoch 24/100\n",
            "31/31 [==============================] - 1s 13ms/step - loss: 5.8758 - mae: 6.3582\n",
            "Epoch 25/100\n",
            "31/31 [==============================] - 0s 10ms/step - loss: 5.7234 - mae: 6.2013\n",
            "Epoch 26/100\n",
            "31/31 [==============================] - 0s 10ms/step - loss: 5.6696 - mae: 6.1486\n",
            "Epoch 27/100\n",
            "31/31 [==============================] - 0s 10ms/step - loss: 5.6852 - mae: 6.1648\n",
            "Epoch 28/100\n",
            "31/31 [==============================] - 0s 10ms/step - loss: 5.6911 - mae: 6.1699\n",
            "Epoch 29/100\n",
            "31/31 [==============================] - 0s 9ms/step - loss: 5.5802 - mae: 6.0592\n",
            "Epoch 30/100\n",
            "31/31 [==============================] - 0s 9ms/step - loss: 5.5469 - mae: 6.0249\n",
            "Epoch 31/100\n",
            "31/31 [==============================] - 0s 9ms/step - loss: 5.5536 - mae: 6.0326\n",
            "Epoch 32/100\n",
            "31/31 [==============================] - 0s 10ms/step - loss: 5.4894 - mae: 5.9687\n",
            "Epoch 33/100\n",
            "31/31 [==============================] - 0s 10ms/step - loss: 5.5032 - mae: 5.9820\n",
            "Epoch 34/100\n",
            "31/31 [==============================] - 0s 9ms/step - loss: 5.4208 - mae: 5.8984\n",
            "Epoch 35/100\n",
            "31/31 [==============================] - 0s 10ms/step - loss: 5.4363 - mae: 5.9153\n",
            "Epoch 36/100\n",
            "31/31 [==============================] - 0s 9ms/step - loss: 5.4178 - mae: 5.8935\n",
            "Epoch 37/100\n",
            "31/31 [==============================] - 0s 9ms/step - loss: 5.3789 - mae: 5.8557\n",
            "Epoch 38/100\n",
            "31/31 [==============================] - 0s 10ms/step - loss: 5.3451 - mae: 5.8242\n",
            "Epoch 39/100\n",
            "31/31 [==============================] - 0s 10ms/step - loss: 5.3811 - mae: 5.8590\n",
            "Epoch 40/100\n",
            "31/31 [==============================] - 0s 9ms/step - loss: 5.3576 - mae: 5.8371\n",
            "Epoch 41/100\n",
            "31/31 [==============================] - 0s 10ms/step - loss: 5.3615 - mae: 5.8404\n",
            "Epoch 42/100\n",
            "31/31 [==============================] - 0s 10ms/step - loss: 5.3045 - mae: 5.7824\n",
            "Epoch 43/100\n",
            "31/31 [==============================] - 0s 9ms/step - loss: 5.3777 - mae: 5.8552\n",
            "Epoch 44/100\n",
            "31/31 [==============================] - 0s 9ms/step - loss: 5.1951 - mae: 5.6745\n",
            "Epoch 45/100\n",
            "31/31 [==============================] - 1s 14ms/step - loss: 5.4001 - mae: 5.8784\n",
            "Epoch 46/100\n",
            "31/31 [==============================] - 1s 14ms/step - loss: 5.2233 - mae: 5.7035\n",
            "Epoch 47/100\n",
            "31/31 [==============================] - 1s 14ms/step - loss: 5.1865 - mae: 5.6656\n",
            "Epoch 48/100\n",
            "31/31 [==============================] - 0s 10ms/step - loss: 5.1207 - mae: 5.5978\n",
            "Epoch 49/100\n",
            "31/31 [==============================] - 1s 20ms/step - loss: 5.1104 - mae: 5.5862\n",
            "Epoch 50/100\n",
            "31/31 [==============================] - 1s 25ms/step - loss: 5.1005 - mae: 5.5818\n",
            "Epoch 51/100\n",
            "31/31 [==============================] - 0s 10ms/step - loss: 5.1602 - mae: 5.6368\n",
            "Epoch 52/100\n",
            "31/31 [==============================] - 1s 20ms/step - loss: 5.0405 - mae: 5.5182\n",
            "Epoch 53/100\n",
            "31/31 [==============================] - 1s 10ms/step - loss: 4.9970 - mae: 5.4703\n",
            "Epoch 54/100\n",
            "31/31 [==============================] - 0s 10ms/step - loss: 5.0789 - mae: 5.5527\n",
            "Epoch 55/100\n",
            "31/31 [==============================] - 0s 10ms/step - loss: 4.9956 - mae: 5.4699\n",
            "Epoch 56/100\n",
            "31/31 [==============================] - 0s 9ms/step - loss: 4.9794 - mae: 5.4576\n",
            "Epoch 57/100\n",
            "31/31 [==============================] - 0s 10ms/step - loss: 5.0504 - mae: 5.5303\n",
            "Epoch 58/100\n",
            "31/31 [==============================] - 0s 9ms/step - loss: 4.9945 - mae: 5.4729\n",
            "Epoch 59/100\n",
            "31/31 [==============================] - 0s 9ms/step - loss: 4.9787 - mae: 5.4530\n",
            "Epoch 60/100\n",
            "31/31 [==============================] - 0s 9ms/step - loss: 4.9153 - mae: 5.3911\n",
            "Epoch 61/100\n",
            "31/31 [==============================] - 0s 10ms/step - loss: 4.9208 - mae: 5.3937\n",
            "Epoch 62/100\n",
            "31/31 [==============================] - 0s 9ms/step - loss: 4.9269 - mae: 5.4047\n",
            "Epoch 63/100\n",
            "31/31 [==============================] - 0s 9ms/step - loss: 4.8623 - mae: 5.3354\n",
            "Epoch 64/100\n",
            "31/31 [==============================] - 0s 9ms/step - loss: 4.8302 - mae: 5.3018\n",
            "Epoch 65/100\n",
            "31/31 [==============================] - 0s 9ms/step - loss: 4.9644 - mae: 5.4396\n",
            "Epoch 66/100\n",
            "31/31 [==============================] - 1s 14ms/step - loss: 4.8661 - mae: 5.3417\n",
            "Epoch 67/100\n",
            "31/31 [==============================] - 1s 13ms/step - loss: 4.8815 - mae: 5.3602\n",
            "Epoch 68/100\n",
            "31/31 [==============================] - 1s 13ms/step - loss: 4.7888 - mae: 5.2645\n",
            "Epoch 69/100\n",
            "31/31 [==============================] - 1s 11ms/step - loss: 4.8251 - mae: 5.3006\n",
            "Epoch 70/100\n",
            "31/31 [==============================] - 0s 9ms/step - loss: 4.7863 - mae: 5.2643\n",
            "Epoch 71/100\n",
            "31/31 [==============================] - 0s 10ms/step - loss: 4.7496 - mae: 5.2240\n",
            "Epoch 72/100\n",
            "31/31 [==============================] - 0s 9ms/step - loss: 4.8559 - mae: 5.3330\n",
            "Epoch 73/100\n",
            "31/31 [==============================] - 0s 10ms/step - loss: 4.8966 - mae: 5.3748\n",
            "Epoch 74/100\n",
            "31/31 [==============================] - 0s 10ms/step - loss: 4.7332 - mae: 5.2047\n",
            "Epoch 75/100\n",
            "31/31 [==============================] - 0s 10ms/step - loss: 4.8221 - mae: 5.2956\n",
            "Epoch 76/100\n",
            "31/31 [==============================] - 0s 9ms/step - loss: 4.7759 - mae: 5.2553\n",
            "Epoch 77/100\n",
            "31/31 [==============================] - 0s 10ms/step - loss: 4.6972 - mae: 5.1735\n",
            "Epoch 78/100\n",
            "31/31 [==============================] - 0s 10ms/step - loss: 4.7495 - mae: 5.2271\n",
            "Epoch 79/100\n",
            "31/31 [==============================] - 0s 9ms/step - loss: 4.8503 - mae: 5.3276\n",
            "Epoch 80/100\n",
            "31/31 [==============================] - 0s 9ms/step - loss: 4.6284 - mae: 5.0994\n",
            "Epoch 81/100\n",
            "31/31 [==============================] - 0s 10ms/step - loss: 4.6786 - mae: 5.1595\n",
            "Epoch 82/100\n",
            "31/31 [==============================] - 0s 10ms/step - loss: 4.6452 - mae: 5.1261\n",
            "Epoch 83/100\n",
            "31/31 [==============================] - 0s 9ms/step - loss: 4.7355 - mae: 5.2090\n",
            "Epoch 84/100\n",
            "31/31 [==============================] - 0s 10ms/step - loss: 4.7151 - mae: 5.1918\n",
            "Epoch 85/100\n",
            "31/31 [==============================] - 0s 9ms/step - loss: 4.8146 - mae: 5.2939\n",
            "Epoch 86/100\n",
            "31/31 [==============================] - 0s 10ms/step - loss: 4.5922 - mae: 5.0656\n",
            "Epoch 87/100\n",
            "31/31 [==============================] - 0s 10ms/step - loss: 4.6695 - mae: 5.1463\n",
            "Epoch 88/100\n",
            "31/31 [==============================] - 0s 10ms/step - loss: 4.6606 - mae: 5.1336\n",
            "Epoch 89/100\n",
            "31/31 [==============================] - 0s 9ms/step - loss: 4.5500 - mae: 5.0247\n",
            "Epoch 90/100\n",
            "31/31 [==============================] - 0s 10ms/step - loss: 4.6498 - mae: 5.1221\n",
            "Epoch 91/100\n",
            "31/31 [==============================] - 1s 14ms/step - loss: 4.5806 - mae: 5.0581\n",
            "Epoch 92/100\n",
            "31/31 [==============================] - 1s 15ms/step - loss: 4.6012 - mae: 5.0767\n",
            "Epoch 93/100\n",
            "31/31 [==============================] - 1s 10ms/step - loss: 4.5316 - mae: 5.0074\n",
            "Epoch 94/100\n",
            "31/31 [==============================] - 0s 10ms/step - loss: 4.5963 - mae: 5.0698\n",
            "Epoch 95/100\n",
            "31/31 [==============================] - 0s 10ms/step - loss: 4.5870 - mae: 5.0638\n",
            "Epoch 96/100\n",
            "31/31 [==============================] - 0s 10ms/step - loss: 4.6400 - mae: 5.1137\n",
            "Epoch 97/100\n",
            "31/31 [==============================] - 0s 10ms/step - loss: 4.5418 - mae: 5.0174\n",
            "Epoch 98/100\n",
            "31/31 [==============================] - 0s 10ms/step - loss: 4.5373 - mae: 5.0179\n",
            "Epoch 99/100\n",
            "31/31 [==============================] - 0s 10ms/step - loss: 4.6852 - mae: 5.1627\n",
            "Epoch 100/100\n",
            "31/31 [==============================] - 0s 10ms/step - loss: 4.6180 - mae: 5.0917\n"
          ]
        }
      ],
      "source": [
        "# Reset states generated by Keras\n",
        "tf.keras.backend.clear_session()\n",
        "\n",
        "# Build the model\n",
        "model = tf.keras.models.Sequential([\n",
        "  tf.keras.layers.Lambda(lambda x: tf.expand_dims(x, axis=-1),\n",
        "                      input_shape=[None]),\n",
        "   tf.keras.layers.Bidirectional(tf.keras.layers.LSTM(32, return_sequences=True)),\n",
        "  tf.keras.layers.Bidirectional(tf.keras.layers.LSTM(32)),\n",
        "  tf.keras.layers.Dense(1),\n",
        "  tf.keras.layers.Lambda(lambda x: x * 100.0)\n",
        "])\n",
        "\n",
        "# Set the learning rate\n",
        "learning_rate = 2e-6\n",
        "\n",
        "# Set the optimizer\n",
        "optimizer = tf.keras.optimizers.SGD(learning_rate=learning_rate, momentum=0.9)\n",
        "\n",
        "# Set the training parameters\n",
        "model.compile(loss=tf.keras.losses.Huber(),\n",
        "              optimizer=optimizer,\n",
        "              metrics=[\"mae\"])\n",
        "\n",
        "# Train the model\n",
        "history = model.fit(dataset,epochs=100)"
      ]
    },
    {
      "cell_type": "markdown",
      "metadata": {
        "id": "RjP4kbGiI7cw"
      },
      "source": [
        "## Model Prediction\n",
        "\n",
        "You will then generate batches of windows to generate predictions that align with the validation set."
      ]
    },
    {
      "cell_type": "code",
      "execution_count": 12,
      "metadata": {
        "id": "QO8cfKwKBBG6"
      },
      "outputs": [],
      "source": [
        "def model_forecast(model, series, window_size, batch_size):\n",
        "    \"\"\"Uses an input model to generate predictions on data windows\n",
        "\n",
        "    Args:\n",
        "      model (TF Keras Model) - model that accepts data windows\n",
        "      series (array of float) - contains the values of the time series\n",
        "      window_size (int) - the number of time steps to include in the window\n",
        "      batch_size (int) - the batch size\n",
        "\n",
        "    Returns:\n",
        "      forecast (numpy array) - array containing predictions\n",
        "    \"\"\"\n",
        "\n",
        "    # Generate a TF Dataset from the series values\n",
        "    dataset = tf.data.Dataset.from_tensor_slices(series)\n",
        "\n",
        "    # Window the data but only take those with the specified size\n",
        "    dataset = dataset.window(window_size, shift=1, drop_remainder=True)\n",
        "\n",
        "    # Flatten the windows by putting its elements in a single batch\n",
        "    dataset = dataset.flat_map(lambda w: w.batch(window_size))\n",
        "\n",
        "    # Create batches of windows\n",
        "    dataset = dataset.batch(batch_size).prefetch(1)\n",
        "\n",
        "    # Get predictions on the entire dataset\n",
        "    forecast = model.predict(dataset)\n",
        "\n",
        "    return forecast"
      ]
    },
    {
      "cell_type": "code",
      "execution_count": 13,
      "metadata": {
        "id": "_plB3UseBD8o",
        "colab": {
          "base_uri": "https://localhost:8080/",
          "height": 560
        },
        "outputId": "15d4b287-eb2b-4de4-e933-f5fc91723aea"
      },
      "outputs": [
        {
          "output_type": "stream",
          "name": "stdout",
          "text": [
            "15/15 [==============================] - 1s 8ms/step\n"
          ]
        },
        {
          "output_type": "display_data",
          "data": {
            "text/plain": [
              "<Figure size 1000x600 with 1 Axes>"
            ],
            "image/png": "[encoded data removed]"
          },
          "metadata": {}
        }
      ],
      "source": [
        "# Reduce the original series\n",
        "forecast_series = series[split_time-window_size:-1]\n",
        "\n",
        "# Use helper function to generate predictions\n",
        "forecast = model_forecast(model, forecast_series, window_size, batch_size)\n",
        "\n",
        "# Drop single dimensional axis\n",
        "results = forecast.squeeze()\n",
        "\n",
        "# Plot the results\n",
        "plot_series(time_valid, (x_valid, results))"
      ]
    },
    {
      "cell_type": "markdown",
      "metadata": {
        "id": "Nn8iSQkZtaRC"
      },
      "source": [
        "You can then generate the metrics to evaluate the model's performance."
      ]
    },
    {
      "cell_type": "code",
      "execution_count": 14,
      "metadata": {
        "id": "-IKhueZaBGID",
        "colab": {
          "base_uri": "https://localhost:8080/"
        },
        "outputId": "289820d2-b72d-497a-82d5-255ad8e3cd91"
      },
      "outputs": [
        {
          "output_type": "stream",
          "name": "stdout",
          "text": [
            "84.96522\n",
            "6.5989804\n"
          ]
        }
      ],
      "source": [
        "# Compute the MSE and MAE\n",
        "print(tf.keras.metrics.mean_squared_error(x_valid, results).numpy())\n",
        "print(tf.keras.metrics.mean_absolute_error(x_valid, results).numpy())"
      ]
    },
    {
      "cell_type": "markdown",
      "metadata": {
        "id": "bzPIqeMWvbPy"
      },
      "source": [
        "## Wrap Up\n",
        "\n",
        "This concludes this short exercise on using LSTMs for time series forecasting. Next week, you will build upon this and add convolutions. Then, you will start to move away from synthetic data and use real-world datasets. See you there!"
      ]
    },
    {
      "cell_type": "markdown",
      "metadata": {
        "id": "U5PqTePGHeMH"
      },
      "source": [
        "## Optional: Including a Validation Set while Training\n",
        "\n",
        "Back in the first course of this specialization, you saw how you can also monitor the performance of your model against a validation set while training. You can also do that for this lab.\n",
        "\n",
        "First, you need to generate a `val_set` which are data windows and labels that your model can accept. You can simply reuse the `windowed_dataset` function for that and you can pass in the `x_valid` points to generate the windows."
      ]
    },
    {
      "cell_type": "code",
      "execution_count": 15,
      "metadata": {
        "id": "kvFVwL3PC4iX"
      },
      "outputs": [],
      "source": [
        "# Generate data windows of the validation set\n",
        "val_set = windowed_dataset(x_valid, window_size, batch_size, shuffle_buffer_size)"
      ]
    },
    {
      "cell_type": "markdown",
      "metadata": {
        "id": "p68j6XxEvP9K"
      },
      "source": [
        "You can then do the same training as before but pass in the `val_set` to the `validation_data` parameter of the `fit()` method."
      ]
    },
    {
      "cell_type": "code",
      "execution_count": 16,
      "metadata": {
        "id": "wujKz6tXDSn0",
        "colab": {
          "base_uri": "https://localhost:8080/"
        },
        "outputId": "62c821ed-4a5e-4c24-d21e-78f03a35e085"
      },
      "outputs": [
        {
          "output_type": "stream",
          "name": "stdout",
          "text": [
            "Epoch 1/100\n",
            "31/31 [==============================] - 8s 58ms/step - loss: 14.9461 - mae: 15.4366 - val_loss: 26.5522 - val_mae: 27.0494\n",
            "Epoch 2/100\n",
            "31/31 [==============================] - 1s 14ms/step - loss: 10.0984 - mae: 10.5871 - val_loss: 20.2382 - val_mae: 20.7352\n",
            "Epoch 3/100\n",
            "31/31 [==============================] - 1s 14ms/step - loss: 7.9039 - mae: 8.3861 - val_loss: 15.8875 - val_mae: 16.3838\n",
            "Epoch 4/100\n",
            "31/31 [==============================] - 1s 14ms/step - loss: 7.0293 - mae: 7.5097 - val_loss: 13.6839 - val_mae: 14.1779\n",
            "Epoch 5/100\n",
            "31/31 [==============================] - 1s 14ms/step - loss: 6.6275 - mae: 7.1090 - val_loss: 11.9942 - val_mae: 12.4846\n",
            "Epoch 6/100\n",
            "31/31 [==============================] - 1s 15ms/step - loss: 6.3638 - mae: 6.8456 - val_loss: 11.6789 - val_mae: 12.1739\n",
            "Epoch 7/100\n",
            "31/31 [==============================] - 1s 13ms/step - loss: 6.2051 - mae: 6.6874 - val_loss: 9.7183 - val_mae: 10.2103\n",
            "Epoch 8/100\n",
            "31/31 [==============================] - 1s 13ms/step - loss: 6.1187 - mae: 6.6010 - val_loss: 11.4777 - val_mae: 11.9715\n",
            "Epoch 9/100\n",
            "31/31 [==============================] - 0s 13ms/step - loss: 6.1018 - mae: 6.5829 - val_loss: 9.5498 - val_mae: 10.0365\n",
            "Epoch 10/100\n",
            "31/31 [==============================] - 1s 14ms/step - loss: 5.8657 - mae: 6.3425 - val_loss: 8.3034 - val_mae: 8.7902\n",
            "Epoch 11/100\n",
            "31/31 [==============================] - 1s 24ms/step - loss: 5.7087 - mae: 6.1858 - val_loss: 8.4969 - val_mae: 8.9858\n",
            "Epoch 12/100\n",
            "31/31 [==============================] - 1s 21ms/step - loss: 5.6368 - mae: 6.1106 - val_loss: 8.0959 - val_mae: 8.5840\n",
            "Epoch 13/100\n",
            "31/31 [==============================] - 1s 15ms/step - loss: 5.5269 - mae: 6.0011 - val_loss: 9.0941 - val_mae: 9.5806\n",
            "Epoch 14/100\n",
            "31/31 [==============================] - 1s 13ms/step - loss: 5.4772 - mae: 5.9519 - val_loss: 8.1648 - val_mae: 8.6477\n",
            "Epoch 15/100\n",
            "31/31 [==============================] - 1s 14ms/step - loss: 5.4756 - mae: 5.9569 - val_loss: 7.9949 - val_mae: 8.4768\n",
            "Epoch 16/100\n",
            "31/31 [==============================] - 0s 13ms/step - loss: 5.3673 - mae: 5.8427 - val_loss: 7.5099 - val_mae: 7.9967\n",
            "Epoch 17/100\n",
            "31/31 [==============================] - 1s 14ms/step - loss: 5.3799 - mae: 5.8595 - val_loss: 6.8390 - val_mae: 7.3244\n",
            "Epoch 18/100\n",
            "31/31 [==============================] - 0s 13ms/step - loss: 5.3668 - mae: 5.8408 - val_loss: 8.0630 - val_mae: 8.5487\n",
            "Epoch 19/100\n",
            "31/31 [==============================] - 1s 14ms/step - loss: 5.2550 - mae: 5.7285 - val_loss: 7.4792 - val_mae: 7.9587\n",
            "Epoch 20/100\n",
            "31/31 [==============================] - 1s 14ms/step - loss: 5.2313 - mae: 5.7061 - val_loss: 6.9143 - val_mae: 7.4007\n",
            "Epoch 21/100\n",
            "31/31 [==============================] - 1s 13ms/step - loss: 5.1446 - mae: 5.6192 - val_loss: 6.7222 - val_mae: 7.2058\n",
            "Epoch 22/100\n",
            "31/31 [==============================] - 1s 14ms/step - loss: 5.1806 - mae: 5.6596 - val_loss: 7.4035 - val_mae: 7.8868\n",
            "Epoch 23/100\n",
            "31/31 [==============================] - 1s 14ms/step - loss: 5.1024 - mae: 5.5780 - val_loss: 7.2835 - val_mae: 7.7664\n",
            "Epoch 24/100\n",
            "31/31 [==============================] - 1s 14ms/step - loss: 5.0927 - mae: 5.5707 - val_loss: 7.1775 - val_mae: 7.6599\n",
            "Epoch 25/100\n",
            "31/31 [==============================] - 1s 14ms/step - loss: 5.0572 - mae: 5.5344 - val_loss: 7.6178 - val_mae: 8.1003\n",
            "Epoch 26/100\n",
            "31/31 [==============================] - 1s 14ms/step - loss: 5.0438 - mae: 5.5209 - val_loss: 7.0038 - val_mae: 7.4834\n",
            "Epoch 27/100\n",
            "31/31 [==============================] - 1s 13ms/step - loss: 5.0036 - mae: 5.4813 - val_loss: 6.8969 - val_mae: 7.3773\n",
            "Epoch 28/100\n",
            "31/31 [==============================] - 1s 14ms/step - loss: 4.9948 - mae: 5.4749 - val_loss: 6.7847 - val_mae: 7.2658\n",
            "Epoch 29/100\n",
            "31/31 [==============================] - 0s 13ms/step - loss: 5.1011 - mae: 5.5792 - val_loss: 7.5465 - val_mae: 8.0284\n",
            "Epoch 30/100\n",
            "31/31 [==============================] - 1s 14ms/step - loss: 4.9604 - mae: 5.4382 - val_loss: 6.4944 - val_mae: 6.9819\n",
            "Epoch 31/100\n",
            "31/31 [==============================] - 1s 24ms/step - loss: 5.0022 - mae: 5.4793 - val_loss: 7.1716 - val_mae: 7.6551\n",
            "Epoch 32/100\n",
            "31/31 [==============================] - 1s 20ms/step - loss: 5.0370 - mae: 5.5134 - val_loss: 6.7290 - val_mae: 7.2098\n",
            "Epoch 33/100\n",
            "31/31 [==============================] - 1s 18ms/step - loss: 4.9103 - mae: 5.3844 - val_loss: 6.8715 - val_mae: 7.3501\n",
            "Epoch 34/100\n",
            "31/31 [==============================] - 1s 14ms/step - loss: 4.8980 - mae: 5.3733 - val_loss: 6.8211 - val_mae: 7.2999\n",
            "Epoch 35/100\n",
            "31/31 [==============================] - 1s 14ms/step - loss: 4.8884 - mae: 5.3651 - val_loss: 7.2169 - val_mae: 7.7008\n",
            "Epoch 36/100\n",
            "31/31 [==============================] - 1s 14ms/step - loss: 4.9382 - mae: 5.4126 - val_loss: 6.4511 - val_mae: 6.9358\n",
            "Epoch 37/100\n",
            "31/31 [==============================] - 1s 13ms/step - loss: 4.8838 - mae: 5.3612 - val_loss: 6.7272 - val_mae: 7.2080\n",
            "Epoch 38/100\n",
            "31/31 [==============================] - 0s 13ms/step - loss: 4.8760 - mae: 5.3484 - val_loss: 6.2710 - val_mae: 6.7567\n",
            "Epoch 39/100\n",
            "31/31 [==============================] - 1s 14ms/step - loss: 4.9136 - mae: 5.3957 - val_loss: 6.4266 - val_mae: 6.9101\n",
            "Epoch 40/100\n",
            "31/31 [==============================] - 1s 13ms/step - loss: 4.8778 - mae: 5.3546 - val_loss: 6.7278 - val_mae: 7.2061\n",
            "Epoch 41/100\n",
            "31/31 [==============================] - 1s 13ms/step - loss: 4.8066 - mae: 5.2834 - val_loss: 6.4529 - val_mae: 6.9352\n",
            "Epoch 42/100\n",
            "31/31 [==============================] - 1s 14ms/step - loss: 4.8097 - mae: 5.2881 - val_loss: 6.3032 - val_mae: 6.7872\n",
            "Epoch 43/100\n",
            "31/31 [==============================] - 1s 14ms/step - loss: 4.8001 - mae: 5.2766 - val_loss: 6.4571 - val_mae: 6.9410\n",
            "Epoch 44/100\n",
            "31/31 [==============================] - 1s 14ms/step - loss: 4.8183 - mae: 5.2958 - val_loss: 6.8940 - val_mae: 7.3751\n",
            "Epoch 45/100\n",
            "31/31 [==============================] - 1s 13ms/step - loss: 4.8253 - mae: 5.3047 - val_loss: 6.0609 - val_mae: 6.5452\n",
            "Epoch 46/100\n",
            "31/31 [==============================] - 1s 13ms/step - loss: 4.7977 - mae: 5.2696 - val_loss: 6.9014 - val_mae: 7.3841\n",
            "Epoch 47/100\n",
            "31/31 [==============================] - 1s 14ms/step - loss: 4.7880 - mae: 5.2632 - val_loss: 6.1524 - val_mae: 6.6364\n",
            "Epoch 48/100\n",
            "31/31 [==============================] - 1s 13ms/step - loss: 4.7917 - mae: 5.2672 - val_loss: 6.3002 - val_mae: 6.7822\n",
            "Epoch 49/100\n",
            "31/31 [==============================] - 1s 13ms/step - loss: 4.8123 - mae: 5.2859 - val_loss: 6.3405 - val_mae: 6.8228\n",
            "Epoch 50/100\n",
            "31/31 [==============================] - 1s 13ms/step - loss: 4.7256 - mae: 5.2016 - val_loss: 6.0867 - val_mae: 6.5712\n",
            "Epoch 51/100\n",
            "31/31 [==============================] - 0s 12ms/step - loss: 4.7262 - mae: 5.2040 - val_loss: 5.8666 - val_mae: 6.3441\n",
            "Epoch 52/100\n",
            "31/31 [==============================] - 1s 23ms/step - loss: 4.7281 - mae: 5.2019 - val_loss: 6.2894 - val_mae: 6.7702\n",
            "Epoch 53/100\n",
            "31/31 [==============================] - 1s 24ms/step - loss: 4.7460 - mae: 5.2235 - val_loss: 6.2300 - val_mae: 6.7110\n",
            "Epoch 54/100\n",
            "31/31 [==============================] - 1s 15ms/step - loss: 4.7276 - mae: 5.2045 - val_loss: 5.9065 - val_mae: 6.3899\n",
            "Epoch 55/100\n",
            "31/31 [==============================] - 1s 14ms/step - loss: 4.6822 - mae: 5.1589 - val_loss: 7.6571 - val_mae: 8.1431\n",
            "Epoch 56/100\n",
            "31/31 [==============================] - 1s 15ms/step - loss: 4.7170 - mae: 5.1928 - val_loss: 5.8098 - val_mae: 6.2876\n",
            "Epoch 57/100\n",
            "31/31 [==============================] - 0s 13ms/step - loss: 4.7025 - mae: 5.1746 - val_loss: 5.9631 - val_mae: 6.4473\n",
            "Epoch 58/100\n",
            "31/31 [==============================] - 1s 14ms/step - loss: 4.6583 - mae: 5.1318 - val_loss: 6.1611 - val_mae: 6.6412\n",
            "Epoch 59/100\n",
            "31/31 [==============================] - 1s 14ms/step - loss: 4.6484 - mae: 5.1209 - val_loss: 5.6848 - val_mae: 6.1614\n",
            "Epoch 60/100\n",
            "31/31 [==============================] - 1s 13ms/step - loss: 4.6762 - mae: 5.1539 - val_loss: 5.8083 - val_mae: 6.2866\n",
            "Epoch 61/100\n",
            "31/31 [==============================] - 1s 13ms/step - loss: 4.6691 - mae: 5.1454 - val_loss: 6.2313 - val_mae: 6.7125\n",
            "Epoch 62/100\n",
            "31/31 [==============================] - 1s 14ms/step - loss: 4.6808 - mae: 5.1555 - val_loss: 6.6965 - val_mae: 7.1772\n",
            "Epoch 63/100\n",
            "31/31 [==============================] - 1s 13ms/step - loss: 4.6379 - mae: 5.1093 - val_loss: 6.0119 - val_mae: 6.4925\n",
            "Epoch 64/100\n",
            "31/31 [==============================] - 0s 13ms/step - loss: 4.6165 - mae: 5.0916 - val_loss: 6.3489 - val_mae: 6.8288\n",
            "Epoch 65/100\n",
            "31/31 [==============================] - 1s 14ms/step - loss: 4.6458 - mae: 5.1205 - val_loss: 5.7273 - val_mae: 6.2040\n",
            "Epoch 66/100\n",
            "31/31 [==============================] - 1s 14ms/step - loss: 4.6711 - mae: 5.1472 - val_loss: 6.3430 - val_mae: 6.8221\n",
            "Epoch 67/100\n",
            "31/31 [==============================] - 1s 15ms/step - loss: 4.6524 - mae: 5.1285 - val_loss: 5.7016 - val_mae: 6.1813\n",
            "Epoch 68/100\n",
            "31/31 [==============================] - 1s 14ms/step - loss: 4.7105 - mae: 5.1844 - val_loss: 6.8682 - val_mae: 7.3517\n",
            "Epoch 69/100\n",
            "31/31 [==============================] - 1s 14ms/step - loss: 4.7714 - mae: 5.2503 - val_loss: 7.0335 - val_mae: 7.5176\n",
            "Epoch 70/100\n",
            "31/31 [==============================] - 1s 14ms/step - loss: 4.7974 - mae: 5.2735 - val_loss: 7.5071 - val_mae: 7.9933\n",
            "Epoch 71/100\n",
            "31/31 [==============================] - 1s 14ms/step - loss: 4.6446 - mae: 5.1205 - val_loss: 6.2016 - val_mae: 6.6813\n",
            "Epoch 72/100\n",
            "31/31 [==============================] - 1s 21ms/step - loss: 4.7085 - mae: 5.1856 - val_loss: 5.5830 - val_mae: 6.0609\n",
            "Epoch 73/100\n",
            "31/31 [==============================] - 1s 24ms/step - loss: 4.6759 - mae: 5.1482 - val_loss: 5.6505 - val_mae: 6.1296\n",
            "Epoch 74/100\n",
            "31/31 [==============================] - 1s 15ms/step - loss: 4.7146 - mae: 5.1913 - val_loss: 5.5253 - val_mae: 6.0038\n",
            "Epoch 75/100\n",
            "31/31 [==============================] - 1s 14ms/step - loss: 4.7127 - mae: 5.1879 - val_loss: 5.8788 - val_mae: 6.3606\n",
            "Epoch 76/100\n",
            "31/31 [==============================] - 1s 14ms/step - loss: 4.5763 - mae: 5.0501 - val_loss: 5.7563 - val_mae: 6.2405\n",
            "Epoch 77/100\n",
            "31/31 [==============================] - 1s 13ms/step - loss: 4.5974 - mae: 5.0703 - val_loss: 6.2423 - val_mae: 6.7228\n",
            "Epoch 78/100\n",
            "31/31 [==============================] - 1s 14ms/step - loss: 4.6928 - mae: 5.1659 - val_loss: 6.1224 - val_mae: 6.6021\n",
            "Epoch 79/100\n",
            "31/31 [==============================] - 1s 15ms/step - loss: 4.5818 - mae: 5.0566 - val_loss: 5.5932 - val_mae: 6.0766\n",
            "Epoch 80/100\n",
            "31/31 [==============================] - 1s 13ms/step - loss: 4.5661 - mae: 5.0414 - val_loss: 6.2226 - val_mae: 6.7027\n",
            "Epoch 81/100\n",
            "31/31 [==============================] - 1s 13ms/step - loss: 4.6445 - mae: 5.1222 - val_loss: 5.4336 - val_mae: 5.9117\n",
            "Epoch 82/100\n",
            "31/31 [==============================] - 1s 14ms/step - loss: 4.8287 - mae: 5.3055 - val_loss: 6.0038 - val_mae: 6.4805\n",
            "Epoch 83/100\n",
            "31/31 [==============================] - 1s 15ms/step - loss: 4.5751 - mae: 5.0490 - val_loss: 5.9121 - val_mae: 6.3864\n",
            "Epoch 84/100\n",
            "31/31 [==============================] - 1s 14ms/step - loss: 4.6276 - mae: 5.1008 - val_loss: 6.4674 - val_mae: 6.9481\n",
            "Epoch 85/100\n",
            "31/31 [==============================] - 1s 14ms/step - loss: 4.5692 - mae: 5.0456 - val_loss: 6.0552 - val_mae: 6.5333\n",
            "Epoch 86/100\n",
            "31/31 [==============================] - 1s 14ms/step - loss: 4.5418 - mae: 5.0118 - val_loss: 5.6128 - val_mae: 6.0975\n",
            "Epoch 87/100\n",
            "31/31 [==============================] - 1s 14ms/step - loss: 4.5343 - mae: 5.0064 - val_loss: 5.6473 - val_mae: 6.1335\n",
            "Epoch 88/100\n",
            "31/31 [==============================] - 1s 13ms/step - loss: 4.5437 - mae: 5.0206 - val_loss: 6.1233 - val_mae: 6.6041\n",
            "Epoch 89/100\n",
            "31/31 [==============================] - 1s 14ms/step - loss: 4.5676 - mae: 5.0424 - val_loss: 5.6025 - val_mae: 6.0886\n",
            "Epoch 90/100\n",
            "31/31 [==============================] - 1s 14ms/step - loss: 4.6108 - mae: 5.0915 - val_loss: 5.7269 - val_mae: 6.2076\n",
            "Epoch 91/100\n",
            "31/31 [==============================] - 1s 14ms/step - loss: 4.5934 - mae: 5.0660 - val_loss: 5.9880 - val_mae: 6.4652\n",
            "Epoch 92/100\n",
            "31/31 [==============================] - 1s 20ms/step - loss: 4.5483 - mae: 5.0229 - val_loss: 5.7555 - val_mae: 6.2315\n",
            "Epoch 93/100\n",
            "31/31 [==============================] - 1s 25ms/step - loss: 4.5980 - mae: 5.0757 - val_loss: 6.6076 - val_mae: 7.0913\n",
            "Epoch 94/100\n",
            "31/31 [==============================] - 1s 14ms/step - loss: 4.5145 - mae: 4.9872 - val_loss: 5.8451 - val_mae: 6.3203\n",
            "Epoch 95/100\n",
            "31/31 [==============================] - 1s 13ms/step - loss: 4.5446 - mae: 5.0185 - val_loss: 5.7229 - val_mae: 6.2026\n",
            "Epoch 96/100\n",
            "31/31 [==============================] - 0s 13ms/step - loss: 4.5252 - mae: 4.9944 - val_loss: 5.6493 - val_mae: 6.1329\n",
            "Epoch 97/100\n",
            "31/31 [==============================] - 0s 13ms/step - loss: 4.5392 - mae: 5.0140 - val_loss: 5.4852 - val_mae: 5.9698\n",
            "Epoch 98/100\n",
            "31/31 [==============================] - 1s 13ms/step - loss: 4.5682 - mae: 5.0411 - val_loss: 6.0231 - val_mae: 6.5022\n",
            "Epoch 99/100\n",
            "31/31 [==============================] - 1s 14ms/step - loss: 4.6621 - mae: 5.1380 - val_loss: 5.2517 - val_mae: 5.7292\n",
            "Epoch 100/100\n",
            "31/31 [==============================] - 1s 13ms/step - loss: 4.5518 - mae: 5.0226 - val_loss: 5.8003 - val_mae: 6.2758\n"
          ]
        }
      ],
      "source": [
        "# Reset states generated by Keras\n",
        "tf.keras.backend.clear_session()\n",
        "\n",
        "# Build the model\n",
        "model = tf.keras.models.Sequential([\n",
        "  tf.keras.layers.Lambda(lambda x: tf.expand_dims(x, axis=-1),\n",
        "                      input_shape=[None]),\n",
        "   tf.keras.layers.Bidirectional(tf.keras.layers.LSTM(32, return_sequences=True)),\n",
        "  tf.keras.layers.Bidirectional(tf.keras.layers.LSTM(32)),\n",
        "  tf.keras.layers.Dense(1),\n",
        "  tf.keras.layers.Lambda(lambda x: x * 100.0)\n",
        "])\n",
        "\n",
        "# Set the learning rate\n",
        "learning_rate = 2e-6\n",
        "\n",
        "# Set the optimizer\n",
        "optimizer = tf.keras.optimizers.SGD(learning_rate=learning_rate, momentum=0.9)\n",
        "\n",
        "# Set the training parameters\n",
        "model.compile(loss=tf.keras.losses.Huber(),\n",
        "              optimizer=optimizer,\n",
        "              metrics=[\"mae\"])\n",
        "\n",
        "# Train the model\n",
        "history = model.fit(dataset,epochs=100, validation_data=val_set)"
      ]
    }
  ]
}