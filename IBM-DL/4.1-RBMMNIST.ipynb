{
 "cells": [
  {
   "cell_type": "markdown",
   "metadata": {},
   "source": [
    "<img src=\"https://cf-courses-data.s3.us.cloud-object-storage.appdomain.cloud/IBMDeveloperSkillsNetwork-DL0120EN-SkillsNetwork/images/IDSN-logo.png\" width=\"300\" alt=\"cognitiveclass.ai logo\">\n",
    "\n",
    "<h1 align=\"center\"><font size=\"5\">RESTRICTED BOLTZMANN MACHINES</font></h1>\n"
   ]
  },
  {
   "cell_type": "markdown",
   "metadata": {},
   "source": [
    "Estimated time needed: **25** minutes\n"
   ]
  },
  {
   "cell_type": "markdown",
   "metadata": {},
   "source": [
    "<h3>Introduction</h3>\n",
    "<b>Restricted Boltzmann Machine (RBM):</b>  RBMs are shallow neural nets that learn to reconstruct data by themselves in an unsupervised fashion.  \n",
    "\n",
    "\n",
    "<h4>Why are RBMs important?</h4>\n",
    "An RBM are a basic form of autoencoder.  It can automatically extract <b>meaningful</b> features from a given input.\n",
    "\n",
    "\n",
    "<h4>How does it work?</h4>\n",
    "RBM is a 2 layer neural network. Simply, RBM takes the inputs and translates those into a set of binary values that represents them in the hidden layer. Then, these numbers can be translated back to reconstruct the inputs. Through several forward and backward passes, the RBM will be trained, and a trained RBM can reveal which features are the most important ones when detecting patterns.   \n",
    "\n",
    "\n",
    "<h4>What are the applications of an RBM?</h4>\n",
    "RBM is useful for <a href='http://www.cs.utoronto.ca/~hinton/absps/netflixICML.pdf?utm_medium=Exinfluencer&utm_source=Exinfluencer&utm_content=000026UJ&utm_term=10006555&utm_id=NA-SkillsNetwork-Channel-SkillsNetworkCoursesIBMDeveloperSkillsNetworkDL0120ENSkillsNetwork954-2022-01-01'>  Collaborative Filtering</a>, dimensionality reduction, classification, regression, feature learning, topic modeling and even <b>Deep Belief Networks</b>.\n",
    "\n",
    "<h4>Is RBM a generative or Discriminative model?</h4>\n",
    "RBM is a generative model. Let me explain it by first, see what is different between discriminative and generative models: \n",
    "\n",
    "<b>Discriminative:</b> Consider a classification problem where we want to learn to distinguish between Sedan cars (y = 1) and SUV cars (y = 0), based on some features of cars. Given a training set, an algorithm like logistic regression tries to find a straight line, or <i>decision boundary</i>, that separates the suv and sedan.  \n",
    "\n",
    "<b>Generative:</b> looking at cars, we can build a model of what Sedan cars look like. Then, looking at SUVs, we can build a separate model of what SUV cars look like. Finally, to classify a new car, we can match the new car against the Sedan model, and match it against the SUV model, to see whether the new car looks more like the SUV or Sedan. \n",
    "\n",
    "Generative Models specify a probability distribution over a dataset of input vectors. We can carry out both supervised and unsupervised tasks with generative models:\n",
    "<ul>\n",
    "    <li>In an unsupervised task, we try to form a model for $P(x)$, where $P$ is the probability given $x$ as an input vector.</li>\n",
    "    <li>In the supervised task, we first form a model for $P(x|y)$, where $P$ is the probability of $x$ given $y$(the label for $x$). For example, if $y = 0$ indicates that a car is an SUV, and $y = 1$ indicates that a car is a sedan, then $p(x|y = 0)$ models the distribution of SUV features, and $p(x|y = 1)$ models the distribution of sedan features. If we manage to find $P(x|y)$ and $P(y)$, then we can use <b>Bayes rule</b> to estimate $P(y|x)$, because:   \n",
    "        $$p(y|x) = \\frac{p(x|y)p(y)}{p(x)}$$</li>\n",
    "</ul>\n",
    "Now the question is, can we build a generative model, and then use it to create synthetic data by directly sampling from the modeled probability distributions? Lets see. \n"
   ]
  },
  {
   "cell_type": "markdown",
   "metadata": {},
   "source": [
    "<h2>Table of Contents</h2>\n",
    "<ol>\n",
    "    <li><a href=\"#ref1\">Initialization</a></li>\n",
    "    <li><a href=\"#ref2\">RBM layers</a></li>\n",
    "    <li><a href=\"#ref3\">What RBM can do after training?</a></li>\n",
    "    <li><a href=\"#ref4\">How to train the model?</a></li>\n",
    "    <li><a href=\"#ref5\">Learned features</a></li>\n",
    "</ol>\n",
    "<p></p>\n",
    "</div>\n",
    "<br>\n",
    "\n",
    "<hr>\n"
   ]
  },
  {
   "cell_type": "markdown",
   "metadata": {},
   "source": [
    "<a id=\"ref1\"></a>\n",
    "<h3>Initialization</h3>\n",
    "\n",
    "First, we have to load the utility file which contains different utility functions that are not connected\n",
    "in any way to the networks presented in the tutorials, but rather help in\n",
    "processing the outputs into a more understandable way.\n"
   ]
  },
  {
   "cell_type": "code",
   "execution_count": 1,
   "metadata": {},
   "outputs": [],
   "source": [
    "import urllib.request\n",
    "with urllib.request.urlopen(\"https://cf-courses-data.s3.us.cloud-object-storage.appdomain.cloud/IBMDeveloperSkillsNetwork-DL0120EN-SkillsNetwork/labs/Week4/data/utils.py\") as url:\n",
    "    response = url.read()\n",
    "target = open('utils.py', 'w')\n",
    "target.write(response.decode('utf-8'))\n",
    "target.close()"
   ]
  },
  {
   "cell_type": "markdown",
   "metadata": {},
   "source": [
    "<h2>Installing TensorFlow </h2>\n",
    "\n",
    "We will installing TensorFlow version 2.2.0 and its required prerequistes.  Also installing pillow...\n"
   ]
  },
  {
   "cell_type": "code",
   "execution_count": null,
   "metadata": {},
   "outputs": [],
   "source": [
    "!pip install grpcio==1.24.3\n",
    "!pip install tensorflow==2.2.0\n",
    "!pip install pillow==8.1.0"
   ]
  },
  {
   "cell_type": "markdown",
   "metadata": {},
   "source": [
    "<b>Notice:</b> This notebook has been created with TensorFlow version 2.2, and might not work with other versions. Therefore we check:\n"
   ]
  },
  {
   "cell_type": "code",
   "execution_count": 2,
   "metadata": {},
   "outputs": [],
   "source": [
    "import tensorflow as tf\n",
    "from IPython.display import Markdown, display\n",
    "\n",
    "def printmd(string):\n",
    "    display(Markdown('# <span style=\"color:red\">'+string+'</span>'))\n",
    "\n",
    "\n",
    "if not tf.__version__ == '2.2.0':\n",
    "    printmd('<<<<<!!!!! ERROR !!!! please upgrade to TensorFlow 2.2.0, or restart your Kernel (Kernel->Restart & Clear Output)>>>>>')"
   ]
  },
  {
   "cell_type": "markdown",
   "metadata": {},
   "source": [
    "Now, we load in all the packages that we use to create the net including the TensorFlow package:\n"
   ]
  },
  {
   "cell_type": "code",
   "execution_count": 3,
   "metadata": {},
   "outputs": [],
   "source": [
    "import tensorflow as tf\n",
    "import numpy as np\n",
    "\n",
    "from PIL import Image\n",
    "from utils import tile_raster_images\n",
    "import matplotlib.pyplot as plt\n",
    "%matplotlib inline"
   ]
  },
  {
   "cell_type": "markdown",
   "metadata": {},
   "source": [
    "<hr>\n"
   ]
  },
  {
   "cell_type": "markdown",
   "metadata": {},
   "source": [
    "<a id=\"ref2\"></a>\n",
    "<h3>RBM layers</h3>\n",
    "\n",
    "An RBM has two layers. The first layer of the RBM is called the <b>visible</b> (or input layer). Imagine that our toy example, has only vectors with 7 values, so the visible layer must have $V=7$ input nodes. \n",
    "The second layer is the <b>hidden</b> layer, which has $H$ neurons in our case. Each hidden node takes on values of either 0 or 1 (i.e., $h_i = 1$ or $h_i$ = 0), with a probability that is a logistic function of the inputs it receives from the other $V$ visible units, called for example, $p(h_i = 1)$. For our toy sample, we'll use 2 nodes in the hidden layer, so $H = 2$.\n",
    "\n",
    "<center><img src=\"https://ibm.box.com/shared/static/eu26opvcefgls6vnwuo29uwp0nudmokh.png\" alt=\"RBM Model\" style=\"width: 400px;\"></center>\n"
   ]
  },
  {
   "cell_type": "markdown",
   "metadata": {},
   "source": [
    "     \n",
    "\n",
    "Each node in the first layer also has a <b>bias</b>. We will denote the bias as $v_{bias}$, and this single value is shared among the $V$ visible units.\n",
    "\n",
    "The <b>bias</b> of the second is defined similarly as $h_{bias}$, and this single value among the $H$ hidden units.\n"
   ]
  },
  {
   "cell_type": "code",
   "execution_count": 4,
   "metadata": {},
   "outputs": [
    {
     "name": "stderr",
     "output_type": "stream",
     "text": [
      "2023-02-06 13:31:58.612587: W tensorflow/stream_executor/platform/default/dso_loader.cc:55] Could not load dynamic library 'libcuda.so.1'; dlerror: libcuda.so.1: cannot open shared object file: No such file or directory\n",
      "2023-02-06 13:31:58.612643: E tensorflow/stream_executor/cuda/cuda_driver.cc:313] failed call to cuInit: UNKNOWN ERROR (303)\n",
      "2023-02-06 13:31:58.612680: I tensorflow/stream_executor/cuda/cuda_diagnostics.cc:156] kernel driver does not appear to be running on this host (jupyterlab-u123nikosgar): /proc/driver/nvidia/version does not exist\n",
      "2023-02-06 13:31:58.613020: I tensorflow/core/platform/cpu_feature_guard.cc:143] Your CPU supports instructions that this TensorFlow binary was not compiled to use: AVX2 AVX512F FMA\n",
      "2023-02-06 13:31:58.621842: I tensorflow/core/platform/profile_utils/cpu_utils.cc:102] CPU Frequency: 2593900000 Hz\n",
      "2023-02-06 13:31:58.622681: I tensorflow/compiler/xla/service/service.cc:168] XLA service 0x7f85d4000b20 initialized for platform Host (this does not guarantee that XLA will be used). Devices:\n",
      "2023-02-06 13:31:58.622723: I tensorflow/compiler/xla/service/service.cc:176]   StreamExecutor device (0): Host, Default Version\n"
     ]
    }
   ],
   "source": [
    "v_bias = tf.Variable(tf.zeros([7]), tf.float32)\n",
    "h_bias = tf.Variable(tf.zeros([2]), tf.float32)"
   ]
  },
  {
   "cell_type": "markdown",
   "metadata": {},
   "source": [
    "We have to define weights among the input layer and hidden layer nodes. In the weight matrix, the number of rows are equal to the input nodes, and the number of columns are equal to the output nodes. We define a tensor $\\mathbf{W}$ of shape = (7,2), where the number of visible neurons = 7, and the number of hidden neurons = 2. \n"
   ]
  },
  {
   "cell_type": "code",
   "execution_count": 5,
   "metadata": {},
   "outputs": [],
   "source": [
    "W = tf.constant(np.random.normal(loc=0.0, scale=1.0, size=(7, 2)).astype(np.float32))"
   ]
  },
  {
   "cell_type": "markdown",
   "metadata": {},
   "source": [
    "<hr>\n"
   ]
  },
  {
   "cell_type": "markdown",
   "metadata": {},
   "source": [
    "<a id=\"ref3\"></a>\n",
    "<h3>What RBM can do after training?</h3>\n",
    "Think of RBM as a model that has been trained based on images of a dataset of many SUV and sedan cars. Also, imagine that the RBM network has only two hidden nodes, where one node encodes the weight and, and the other encodes the size.  \n",
    "In a sense, the different configurations represent different cars, where one is an SUV and the other is Sedan.  In a training process, through many forward and backward passes, the RBM adjust its weights to send a stronger signal to either the SUV node (0, 1) or the sedan node (1, 0) in the hidden layer, given the pixels of images. Now, given an SUV in hidden layer, which distribution of pixels should we expect? RBM can give you 2 things. First, it encodes your images in hidden layer. Second, it gives you the probability of observing a case, given some hidden values.\n",
    "\n",
    "\n",
    "<h3>The Inference Process</h3>\n",
    "\n",
    "RBM has two phases:\n",
    "<ul>\n",
    "    <li>Forward Pass</li>  \n",
    "    <li>Backward Pass or Reconstruction</li>\n",
    "</ul>\n",
    "\n",
    "<b>Phase 1) Forward pass:</b>  \n",
    "\n",
    "Input one training sample (one image) $\\mathbf{x}$ through all visible nodes, and pass it to all hidden nodes. Processing happens in each node in the hidden layer. This computation begins by making stochastic decisions about whether to transmit that input or not (i.e. to determine the state of each hidden layer).  First, the probability vector is computed using the input feature vector $\\mathbf{x}$, the weight matrix $\\mathbf{W}$, and the bias term $h_{bias}$, as \n",
    "\n",
    "\n",
    "$$p({h_j}|\\mathbf x)= \\sigma( \\sum_{i=1}^V W_{ij} x_i + h_{bias} )$$, \n",
    "\n",
    "where $\\sigma(z) = (1+e^{-z})^{-1}$ is the logistic function.\n",
    "\n",
    "\n",
    "So, what does $p({h_j})$ represent? It is the <b>probability distribution</b> of the hidden units. That is, RBM uses inputs $x_i$ to make predictions about hidden node activations. For example, imagine that the hidden node activation values are [0.51 0.84] for the first training item. It tells you that the conditional probability for each hidden neuron for Phase 1 is: \n",
    "\n",
    "$$p(h_{1} = 1|\\mathbf{v}) = 0.51$$\n",
    "$$p(h_{2} = 1|\\mathbf{v}) = 0.84$$\n",
    "\n",
    "As a result, for each row in the training set, vector of probabilities is generated.  In TensorFlow, this is referred to as a `tensor` with a shape of (1,2). \n",
    "\n",
    "We then turn unit $j$ with probability $p(h_{j}|\\mathbf{v})$, and turn it off with probability $1 - p(h_{j}|\\mathbf{v})$ by generating a uniform random number vector $\\mathbf{\\xi}$, and comparing it to the activation probability as \n",
    "\n",
    "<center>If $\\xi_j>p(h_{j}|\\mathbf{v})$, then $h_j=1$, else $h_j=0$.</center>\n",
    "\n",
    "\n",
    "Therefore, the conditional probability of a configuration of $\\mathbf{h}$ given $\\mathbf{v}$ (for a training sample) is:\n",
    "\n",
    "$$p(\\mathbf{h} \\mid \\mathbf{v}) = \\prod_{j=1}^H p(h_j \\mid \\mathbf{v})$$\n",
    "\n",
    "\n",
    "where $H$ is the number of hidden units.\n",
    "\n"
   ]
  },
  {
   "cell_type": "markdown",
   "metadata": {},
   "source": [
    "Before we go further, let's look at a toy example for one case out of all input. Assume that we have a trained RBM, and a very simple input vector, such as [1.0, 0.0, 0.0, 1.0, 0.0, 0.0, 0.0].   \n",
    "Let's see what the output of forward pass would look like:\n"
   ]
  },
  {
   "cell_type": "code",
   "execution_count": 6,
   "metadata": {},
   "outputs": [
    {
     "name": "stdout",
     "output_type": "stream",
     "text": [
      "Input:  tf.Tensor([[1. 0. 0. 1. 0. 0. 0.]], shape=(1, 7), dtype=float32)\n",
      "hb:  tf.Tensor([0.1 0.1], shape=(2,), dtype=float32)\n",
      "w:  tf.Tensor(\n",
      "[[-0.88403755  1.8166431 ]\n",
      " [ 0.10182488 -1.7510281 ]\n",
      " [ 0.99759644  0.6280182 ]\n",
      " [ 1.1143606  -1.994866  ]\n",
      " [ 0.7128904   0.4621074 ]\n",
      " [-0.6674657   0.07020435]\n",
      " [-0.2536713   0.17352322]], shape=(7, 2), dtype=float32)\n",
      "p(h|v):  tf.Tensor([[0.58183795 0.48045424]], shape=(1, 2), dtype=float32)\n",
      "h0 states: tf.Tensor([[1. 1.]], shape=(1, 2), dtype=float32)\n"
     ]
    }
   ],
   "source": [
    "X = tf.constant([[1.0, 0.0, 0.0, 1.0, 0.0, 0.0, 0.0]], tf.float32)\n",
    "\n",
    "v_state = X\n",
    "print(\"Input: \", v_state)\n",
    "\n",
    "h_bias = tf.constant([0.1, 0.1])\n",
    "print(\"hb: \", h_bias)\n",
    "print(\"w: \", W)\n",
    "\n",
    "# Calculate the probabilities of turning the hidden units on:\n",
    "h_prob = tf.nn.sigmoid(tf.matmul(v_state, W) + h_bias)  #probabilities of the hidden units\n",
    "print(\"p(h|v): \", h_prob)\n",
    "\n",
    "# Draw samples from the distribution:\n",
    "h_state = tf.nn.relu(tf.sign(h_prob - tf.random.uniform(tf.shape(h_prob)))) #states\n",
    "print(\"h0 states:\", h_state)"
   ]
  },
  {
   "cell_type": "markdown",
   "metadata": {},
   "source": [
    "<b>Phase 2) Backward Pass (Reconstruction):</b>\n",
    "The RBM reconstructs data by making several forward and backward passes between the visible and hidden layers.\n",
    "\n",
    "So, in the second phase (i.e. reconstruction phase), the samples from the hidden layer (i.e. $\\mathbf h$) becomes the input in the backward pass. The same weight matrix and visible layer biases are used to passed to the sigmoid function. The reproduced output is a reconstruction which is an approximation of the original input.\n"
   ]
  },
  {
   "cell_type": "code",
   "execution_count": 7,
   "metadata": {},
   "outputs": [
    {
     "name": "stdout",
     "output_type": "stream",
     "text": [
      "b:  tf.Tensor([0.1 0.2 0.1 0.1 0.1 0.2 0.1], shape=(7,), dtype=float32)\n",
      "p(vi∣h):  tf.Tensor(\n",
      "[[0.73742074 0.19012423 0.8488506  0.31421098 0.7815971  0.40197048\n",
      "  0.5049628 ]], shape=(1, 7), dtype=float32)\n",
      "v probability states:  tf.Tensor([[1. 0. 1. 0. 1. 1. 0.]], shape=(1, 7), dtype=float32)\n"
     ]
    }
   ],
   "source": [
    "vb = tf.constant([0.1, 0.2, 0.1, 0.1, 0.1, 0.2, 0.1])\n",
    "print(\"b: \", vb)\n",
    "v_prob = tf.nn.sigmoid(tf.matmul(h_state, tf.transpose(W)) + vb)\n",
    "print(\"p(vi∣h): \", v_prob)\n",
    "v_state = tf.nn.relu(tf.sign(v_prob - tf.random.uniform(tf.shape(v_prob))))\n",
    "print(\"v probability states: \", v_state)"
   ]
  },
  {
   "cell_type": "markdown",
   "metadata": {},
   "source": [
    "RBM learns a probability distribution over the input, and then, after being trained, the RBM can generate new samples from the learned probability distribution. As you know, <b>probability distribution</b>, is a mathematical function that provides the probabilities of occurrence of different possible outcomes in an experiment.\n",
    "\n",
    "The (conditional) probability distribution over the visible units v is given by\n",
    "\n",
    "$$p(\\mathbf{v} \\mid \\mathbf{h}) = \\prod_{i=1}^V p(v_i \\mid \\mathbf{h}),$$\n",
    "\n",
    "\n",
    "where,\n",
    "\n",
    "$$p(v_i \\mid \\mathbf{h}) = \\sigma\\left(\\sum_{j=1}^H W_{ji} h_j + v_{bias} \\right)$$\n",
    "\n",
    "so, given current state of hidden units and weights, what is the probability of generating [1. 0. 0. 1. 0. 0. 0.] in reconstruction phase, based on the above <b>probability distribution</b> function?\n"
   ]
  },
  {
   "cell_type": "code",
   "execution_count": 8,
   "metadata": {},
   "outputs": [
    {
     "name": "stdout",
     "output_type": "stream",
     "text": [
      "input X: [[1. 0. 0. 1. 0. 0. 0.]]\n",
      "probablity vector: [0.73742074 0.19012423 0.8488506  0.31421098 0.7815971  0.40197048\n",
      " 0.5049628 ]\n",
      "probability of generating X:  0.0018339201\n"
     ]
    }
   ],
   "source": [
    "inp = X\n",
    "print(\"input X:\", inp.numpy())\n",
    "\n",
    "print(\"probablity vector:\", v_prob[0].numpy())\n",
    "v_probability = 1\n",
    "\n",
    "for elm, p in zip(inp[0], v_prob[0]) :\n",
    "    if elm == 1:\n",
    "        v_probability *= p\n",
    "    else:\n",
    "        v_probability *= (1-p)\n",
    "\n",
    "print(\"probability of generating X: \", v_probability.numpy())"
   ]
  },
  {
   "cell_type": "markdown",
   "metadata": {},
   "source": [
    "How similar are vectors $\\mathbf{x}$ and $\\mathbf{v}$? Of course, the reconstructed values most likely will not look anything like the input vector, because our network has not been trained yet. Our objective is to train the model in such a way that the input vector and reconstructed vector to be same. Therefore, based on how different the input values look to the ones that we just reconstructed, the weights are adjusted. \n"
   ]
  },
  {
   "cell_type": "markdown",
   "metadata": {},
   "source": [
    "<hr>\n"
   ]
  },
  {
   "cell_type": "markdown",
   "metadata": {},
   "source": [
    "\n",
    "<h2>MNIST</h2>\n"
   ]
  },
  {
   "cell_type": "markdown",
   "metadata": {},
   "source": [
    "We will be using the MNIST dataset to practice the usage of RBMs. The following cell loads the MNIST dataset.\n"
   ]
  },
  {
   "cell_type": "code",
   "execution_count": 9,
   "metadata": {},
   "outputs": [
    {
     "name": "stdout",
     "output_type": "stream",
     "text": [
      "Downloading data from https://storage.googleapis.com/tensorflow/tf-keras-datasets/mnist.npz\n",
      "11493376/11490434 [==============================] - 0s 0us/step\n"
     ]
    },
    {
     "name": "stderr",
     "output_type": "stream",
     "text": [
      "2023-02-06 13:32:19.927656: W tensorflow/core/framework/cpu_allocator_impl.cc:81] Allocation of 376320000 exceeds 10% of free system memory.\n"
     ]
    }
   ],
   "source": [
    "# loading training and test data\n",
    "mnist = tf.keras.datasets.mnist\n",
    "(trX, trY), (teX, teY) = mnist.load_data()\n",
    "\n",
    "# showing an example of the Flatten class and operation\n",
    "from tensorflow.keras.layers import Flatten\n",
    "flatten = Flatten(dtype='float32')\n",
    "trX = flatten(trX/255.0)\n",
    "trY = flatten(trY/255.0)"
   ]
  },
  {
   "cell_type": "markdown",
   "metadata": {},
   "source": [
    "Lets look at the dimension of the images.\n"
   ]
  },
  {
   "cell_type": "markdown",
   "metadata": {},
   "source": [
    "MNIST images have 784 pixels, so the visible layer must have 784 input nodes.  For our case, we'll use 50 nodes in the hidden layer, so i = 50.\n"
   ]
  },
  {
   "cell_type": "code",
   "execution_count": 10,
   "metadata": {},
   "outputs": [],
   "source": [
    "vb = tf.Variable(tf.zeros([784]), tf.float32)\n",
    "hb = tf.Variable(tf.zeros([50]), tf.float32)"
   ]
  },
  {
   "cell_type": "markdown",
   "metadata": {},
   "source": [
    "Let $\\mathbf W$ be the Tensor of 784x50 (784 - number of visible neurons, 50 - number of hidden neurons) that represents weights between the neurons. \n"
   ]
  },
  {
   "cell_type": "code",
   "execution_count": 11,
   "metadata": {},
   "outputs": [],
   "source": [
    "W = tf.Variable(tf.zeros([784,50]), tf.float32)"
   ]
  },
  {
   "cell_type": "markdown",
   "metadata": {},
   "source": [
    "Lets define the visible layer:\n"
   ]
  },
  {
   "cell_type": "code",
   "execution_count": 12,
   "metadata": {},
   "outputs": [
    {
     "data": {
      "text/plain": [
       "<tf.Tensor: shape=(1, 50), dtype=float32, numpy=\n",
       "array([[0., 0., 0., 0., 0., 0., 0., 0., 0., 0., 0., 0., 0., 0., 0., 0.,\n",
       "        0., 0., 0., 0., 0., 0., 0., 0., 0., 0., 0., 0., 0., 0., 0., 0.,\n",
       "        0., 0., 0., 0., 0., 0., 0., 0., 0., 0., 0., 0., 0., 0., 0., 0.,\n",
       "        0., 0.]], dtype=float32)>"
      ]
     },
     "execution_count": 12,
     "metadata": {},
     "output_type": "execute_result"
    }
   ],
   "source": [
    "v0_state = tf.Variable(tf.zeros([784]), tf.float32)\n",
    "\n",
    "# testing to see if the matrix product works\n",
    "tf.matmul( [v0_state], W)"
   ]
  },
  {
   "cell_type": "markdown",
   "metadata": {},
   "source": [
    "Now, we can define hidden layer:\n"
   ]
  },
  {
   "cell_type": "code",
   "execution_count": 13,
   "metadata": {},
   "outputs": [
    {
     "name": "stdout",
     "output_type": "stream",
     "text": [
      "h0_state shape:  tf.Tensor([ 1 50], shape=(2,), dtype=int32)\n",
      "first 15 hidden states:  tf.Tensor([0. 0. 1. 1. 0. 0. 0. 1. 1. 1. 1. 1. 0. 0. 0.], shape=(15,), dtype=float32)\n"
     ]
    }
   ],
   "source": [
    "# computing the hidden nodes probability vector and checking shape\n",
    "h0_prob = tf.nn.sigmoid(tf.matmul([v0_state], W) + hb)  #probabilities of the hidden units\n",
    "print(\"h0_state shape: \" , tf.shape(h0_prob))\n",
    "\n",
    "\n",
    "# defining a function to return only the generated hidden states \n",
    "def hidden_layer(v0_state, W, hb):\n",
    "    h0_prob = tf.nn.sigmoid(tf.matmul([v0_state], W) + hb)  #probabilities of the hidden units\n",
    "    h0_state = tf.nn.relu(tf.sign(h0_prob - tf.random.uniform(tf.shape(h0_prob)))) #sample_h_given_X\n",
    "    return h0_state\n",
    "\n",
    "\n",
    "h0_state = hidden_layer(v0_state, W, hb)\n",
    "print(\"first 15 hidden states: \", h0_state[0][0:15])"
   ]
  },
  {
   "cell_type": "markdown",
   "metadata": {},
   "source": [
    "Now, we define reconstruction part:\n"
   ]
  },
  {
   "cell_type": "code",
   "execution_count": 14,
   "metadata": {},
   "outputs": [
    {
     "name": "stdout",
     "output_type": "stream",
     "text": [
      "hidden state shape:  (1, 50)\n",
      "v0 state shape:   (784,)\n",
      "v1 state shape:   (784,)\n"
     ]
    }
   ],
   "source": [
    "def reconstructed_output(h0_state, W, vb):\n",
    "    v1_prob = tf.nn.sigmoid(tf.matmul(h0_state, tf.transpose(W)) + vb) \n",
    "    v1_state = tf.nn.relu(tf.sign(v1_prob - tf.random.uniform(tf.shape(v1_prob)))) #sample_v_given_h\n",
    "    return v1_state[0]\n",
    "\n",
    "\n",
    "v1_state = reconstructed_output(h0_state, W, vb)\n",
    "print(\"hidden state shape: \", h0_state.shape)\n",
    "print(\"v0 state shape:  \", v0_state.shape)\n",
    "print(\"v1 state shape:  \", v1_state.shape)"
   ]
  },
  {
   "cell_type": "markdown",
   "metadata": {},
   "source": [
    "<h3>What is the objective function?</h3>\n",
    "\n",
    "<b>Goal</b>: Maximize the likelihood of our data being drawn from that distribution\n",
    "\n",
    "<b>Calculate error:</b>  \n",
    "In each epoch, we compute the \"error\" as a sum of the squared difference between step 1 and step n,\n",
    "e.g the error shows the difference between the data and its reconstruction.\n",
    "\n",
    "<b>Note:</b> tf.reduce_mean computes the mean of elements across dimensions of a tensor.\n"
   ]
  },
  {
   "cell_type": "code",
   "execution_count": 15,
   "metadata": {},
   "outputs": [
    {
     "name": "stdout",
     "output_type": "stream",
     "text": [
      "error 0.4885204\n"
     ]
    }
   ],
   "source": [
    "def error(v0_state, v1_state):\n",
    "    return tf.reduce_mean(tf.square(v0_state - v1_state))\n",
    "\n",
    "\n",
    "err = tf.reduce_mean(tf.square(v0_state - v1_state))\n",
    "print(\"error\", err.numpy())"
   ]
  },
  {
   "cell_type": "markdown",
   "metadata": {},
   "source": [
    "<a id=\"ref4\"></a>\n",
    "<h3>Training the Model</h3>\n",
    "<b>Warning...</b> The following part is math-heavy, but you can skip it if you just want to run the cells in the next section.\n",
    "\n",
    "As mentioned, we want to give a high probability to the input data we train on. So, in order to train an RBM, we have to maximize the product of probabilities assigned to all rows $\\mathbf{v}$ (images) in the training set $\\mathbf{V}$ (a matrix, where each row of it is treated as a visible vector $\\mathbf{v}$)\n",
    "\n",
    "$$\\arg \\max_W \\prod_{\\mathbf{v}\\in\\mathbf{V}_T} p(\\mathbf{v})$$\n",
    "\n",
    "\n",
    "which is equivalent to maximizing the expectation of the log probability, given as\n",
    "\n",
    "$$\\arg\\max_W\\left[ \\mathbb{E} \\left(\\prod_{\\mathbf v\\in \\mathbf V}\\text{log} \\left(p(\\mathbf v)\\right) \\right) \\right].$$\n",
    "\n",
    "\n",
    "So, we have to update the weights $W_{ij}$  to increase $p(\\mathbf{v})$ for all $\\mathbf{v}$ in our training data during training. So we have to calculate the derivative:\n",
    "\n",
    "\n",
    "$$\\frac{\\partial \\log p(\\mathbf v)}{\\partial W_{ij}}$$\n",
    "\n",
    "This cannot be easily done by typical <b>gradient descent (SGD)</b>, so we can use another approach, which has 2 steps:\n",
    "<ol>\n",
    "    <li>Gibbs Sampling</li>\n",
    "    <li>Contrastive Divergence</li>\n",
    "</ol>    \n",
    "    \n",
    "<h3>Gibbs Sampling</h3>   \n",
    "\n",
    "<h4>Gibbs Sampling Step 1</h4> \n",
    "Given an input vector $\\mathbf{v}$, we are using $p(\\mathbf{h}|\\mathbf{v})$ to predict the hidden values $\\mathbf{h}$. \n",
    "  $$p({h_j}|\\mathbf v)= \\sigma\\left(\\sum_{i=1}^V W_{ij} v_i + h_{bias} \\right)$$\n",
    "The samples are generated from this distribution by generating the uniform random variate vector $\\mathbf{\\xi} \\sim U[0,1]$ of length $H$ and comparing to the computed probabilities as\n",
    "\n",
    "\n",
    "<center>If $\\xi_j>p(h_{j}|\\mathbf{v})$, then $h_j=1$, else $h_j=0$.</center>\n",
    "\n",
    "\n",
    "<h4>Gibbs Sampling Step 2</h4> \n",
    "Then, knowing the hidden values, we use $p(\\mathbf v| \\mathbf h)$ for reconstructing of new input values v. \n",
    "\n",
    "   $$p({v_i}|\\mathbf h)= \\sigma\\left(\\sum_{j=1}^H W^{T}_{ij} h_j + v_{bias} \\right)$$\n",
    "\n",
    "\n",
    "The samples are generated from this distribution by generating a uniform random variate vector $\\mathbf{\\xi} \\sim U[0,1]$ of length $V$ and comparing to the computed probabilities as\n",
    "\n",
    "<center>If $\\xi_i>p(v_{i}|\\mathbf{h})$, then $v_i=1$, else $v_i=0$.</center>\n",
    "\n",
    "Let vectors $\\mathbf v_k$ and $\\mathbf h_k$ be for the $k$th iteration.  In general, the $kth$ state is generrated as: \n",
    "\n",
    "\n",
    "    \n",
    "<b>Iteration</b> $k$: \n",
    "\n",
    "$$\\mathbf v_{k-1} \\Rightarrow p(\\mathbf h_{k-1}|\\mathbf v_{k-1})\\Rightarrow \\mathbf h_{k-1}\\Rightarrow p(\\mathbf v_{k}|\\mathbf h_{k-1})\\Rightarrow \\mathbf v_k$$       \n",
    "    \n",
    "<h3>Contrastive Divergence (CD-k)</h3>\n",
    "The update of the weight matrix is done during the Contrastive Divergence step. \n",
    "\n",
    "Vectors v0 and vk are used to calculate the activation probabilities for hidden values h0 and hk. The difference between the outer products of those probabilities with input vectors v0 and vk results in the update matrix:\n",
    "\n",
    "\n",
    "$$\\Delta \\mathbf W_k =\\mathbf v_k \\otimes \\mathbf h_k - \\mathbf v_{k-1} \\otimes \\mathbf h_{k-1}$$\n",
    "\n",
    "Contrastive Divergence is actually matrix of values that is computed and used to adjust values of the $\\mathbf W$ matrix. Changing $\\mathbf W$ incrementally leads to training of the  $\\mathbf W$ values. Then, on each step (epoch), $\\mathbf W$ is updated using the following:\n",
    "\n",
    "$$\\mathbf W_k = \\mathbf W_{k-1} + \\alpha * \\Delta \\mathbf W_k$$\n",
    "\n",
    "\n",
    "\n",
    "Reconstruction steps:\n",
    "<ul>\n",
    "    <li> Get one data point from data set, like <i>x</i>, and pass it through the following steps:</li>\n",
    "    \n",
    "<b>Iteration</b> $k=1$: \n",
    "    \n",
    "Sampling (starting with input image)\n",
    "    $$\\mathbf x = \\mathbf v_0 \\Rightarrow p(\\mathbf h_0|\\mathbf v_0)\\Rightarrow \\mathbf h_0 \\Rightarrow p(\\mathbf v_1|\\mathbf h_0)\\Rightarrow \\mathbf v_1$$   \n",
    "    followed by the CD-k step\n",
    "$$\\Delta \\mathbf W_1 =\\mathbf v_1 \\otimes \\mathbf h_1 - \\mathbf v_{0} \\otimes \\mathbf h_{0}$$     \n",
    "$$\\mathbf W_1 = \\mathbf W_{0} + \\alpha * \\Delta \\mathbf W_1$$ \n",
    " \n",
    "<li> $\\mathbf v_1$ is the reconstruction of $\\mathbf x$ sent to the next iteration).</li>\n",
    "\n",
    "<b>Iteration</b> $k=2$: \n",
    "\n",
    "Sampling (starting with $\\mathbf v_1$)\n",
    "\n",
    "$$\\mathbf v_1 \\Rightarrow p(\\mathbf h_1|\\mathbf v_1)\\Rightarrow \\mathbf h_1\\Rightarrow p(\\mathbf v_2|\\mathbf h_1)\\Rightarrow \\mathbf v_2$$   \n",
    "\n",
    "followed by the CD-k step\n",
    "$$\\Delta \\mathbf W_2 =\\mathbf v_2 \\otimes \\mathbf h_2 - \\mathbf v_{1} \\otimes \\mathbf h_{1}$$     \n",
    "$$\\mathbf W_2 = \\mathbf W_{1} + \\alpha * \\Delta \\mathbf W_2$$ \n",
    "\n",
    "<li> $\\mathbf v_2$ is the reconstruction of $\\mathbf v_1$ sent to the next iteration).</li>    \n",
    "      \n",
    "<b>Iteration</b> $k=K$:\n",
    "    \n",
    "Sampling (starting with $\\mathbf v_{K-1}$)\n",
    "\n",
    "$$\\mathbf v_{K-1} \\Rightarrow p(\\mathbf h_{K-1}|\\mathbf v_{K-1})\\Rightarrow \\mathbf h_{K-1}\\Rightarrow p(\\mathbf v_K|\\mathbf h_{K-1})\\Rightarrow \\mathbf v_K$$   \n",
    "\n",
    "followed by the CD-k step\n",
    "$$\\Delta \\mathbf W_K =\\mathbf v_K \\otimes \\mathbf h_K - \\mathbf v_{K-1} \\otimes \\mathbf h_{K-1}$$     \n",
    "$$\\mathbf W_K = \\mathbf W_{K-1} + \\alpha * \\Delta \\mathbf W_K$$ \n",
    "    \n",
    "<b>What is $\\alpha$?</b>  \n",
    "Here, alpha is some small step size, and is also known as the \"learning rate\".\n"
   ]
  },
  {
   "cell_type": "markdown",
   "metadata": {},
   "source": [
    "$K$ is adjustable, and good performance can be achieved with $K=1$, so that we just take one set of sampling steps per image.\n"
   ]
  },
  {
   "cell_type": "code",
   "execution_count": 16,
   "metadata": {},
   "outputs": [],
   "source": [
    "h1_prob = tf.nn.sigmoid(tf.matmul([v1_state], W) + hb)\n",
    "h1_state = tf.nn.relu(tf.sign(h1_prob - tf.random.uniform(tf.shape(h1_prob)))) #sample_h_given_X"
   ]
  },
  {
   "cell_type": "markdown",
   "metadata": {},
   "source": [
    "Lets look at the error of the first run:\n"
   ]
  },
  {
   "cell_type": "code",
   "execution_count": 17,
   "metadata": {},
   "outputs": [
    {
     "name": "stdout",
     "output_type": "stream",
     "text": [
      "error:  tf.Tensor(0.4885204, shape=(), dtype=float32)\n"
     ]
    }
   ],
   "source": [
    "print(\"error: \", error(v0_state, v1_state))"
   ]
  },
  {
   "cell_type": "code",
   "execution_count": 18,
   "metadata": {
    "collapsed": true,
    "jupyter": {
     "outputs_hidden": true
    },
    "tags": []
   },
   "outputs": [
    {
     "name": "stdout",
     "output_type": "stream",
     "text": [
      "Epoch: 0 batch #: 1  of 300 sample #: 199 reconstruction error: 0.180915\n",
      "Epoch: 0 batch #: 2  of 300 sample #: 199 reconstruction error: 0.226298\n",
      "Epoch: 0 batch #: 3  of 300 sample #: 199 reconstruction error: 0.113392\n",
      "Epoch: 0 batch #: 4  of 300 sample #: 199 reconstruction error: 0.121260\n",
      "Epoch: 0 batch #: 5  of 300 sample #: 199 reconstruction error: 0.094170\n",
      "Epoch: 0 batch #: 6  of 300 sample #: 199 reconstruction error: 0.174844\n",
      "Epoch: 0 batch #: 7  of 300 sample #: 199 reconstruction error: 0.088214\n",
      "Epoch: 0 batch #: 8  of 300 sample #: 199 reconstruction error: 0.124916\n",
      "Epoch: 0 batch #: 9  of 300 sample #: 199 reconstruction error: 0.096796\n",
      "Epoch: 0 batch #: 10  of 300 sample #: 199 reconstruction error: 0.159459\n",
      "Epoch: 0 batch #: 11  of 300 sample #: 199 reconstruction error: 0.087999\n",
      "Epoch: 0 batch #: 12  of 300 sample #: 199 reconstruction error: 0.134510\n",
      "Epoch: 0 batch #: 13  of 300 sample #: 199 reconstruction error: 0.055000\n",
      "Epoch: 0 batch #: 14  of 300 sample #: 199 reconstruction error: 0.093124\n",
      "Epoch: 0 batch #: 15  of 300 sample #: 199 reconstruction error: 0.096014\n",
      "Epoch: 0 batch #: 16  of 300 sample #: 199 reconstruction error: 0.119557\n",
      "Epoch: 0 batch #: 17  of 300 sample #: 199 reconstruction error: 0.067194\n",
      "Epoch: 0 batch #: 18  of 300 sample #: 199 reconstruction error: 0.113382\n",
      "Epoch: 0 batch #: 19  of 300 sample #: 199 reconstruction error: 0.144597\n",
      "Epoch: 0 batch #: 20  of 300 sample #: 199 reconstruction error: 0.110770\n",
      "Epoch: 0 batch #: 21  of 300 sample #: 199 reconstruction error: 0.093530\n",
      "Epoch: 0 batch #: 22  of 300 sample #: 199 reconstruction error: 0.062823\n",
      "Epoch: 0 batch #: 23  of 300 sample #: 199 reconstruction error: 0.132809\n",
      "Epoch: 0 batch #: 24  of 300 sample #: 199 reconstruction error: 0.133498\n",
      "Epoch: 0 batch #: 25  of 300 sample #: 199 reconstruction error: 0.111774\n",
      "Epoch: 0 batch #: 26  of 300 sample #: 199 reconstruction error: 0.094615\n",
      "Epoch: 0 batch #: 27  of 300 sample #: 199 reconstruction error: 0.116781\n",
      "Epoch: 0 batch #: 28  of 300 sample #: 199 reconstruction error: 0.083290\n",
      "Epoch: 0 batch #: 29  of 300 sample #: 199 reconstruction error: 0.091797\n",
      "Epoch: 0 batch #: 30  of 300 sample #: 199 reconstruction error: 0.078449\n",
      "Epoch: 0 batch #: 31  of 300 sample #: 199 reconstruction error: 0.108770\n",
      "Epoch: 0 batch #: 32  of 300 sample #: 199 reconstruction error: 0.138957\n",
      "Epoch: 0 batch #: 33  of 300 sample #: 199 reconstruction error: 0.059052\n",
      "Epoch: 0 batch #: 34  of 300 sample #: 199 reconstruction error: 0.077191\n",
      "Epoch: 0 batch #: 35  of 300 sample #: 199 reconstruction error: 0.069048\n",
      "Epoch: 0 batch #: 36  of 300 sample #: 199 reconstruction error: 0.081778\n",
      "Epoch: 0 batch #: 37  of 300 sample #: 199 reconstruction error: 0.058182\n",
      "Epoch: 0 batch #: 38  of 300 sample #: 199 reconstruction error: 0.067467\n",
      "Epoch: 0 batch #: 39  of 300 sample #: 199 reconstruction error: 0.101286\n",
      "Epoch: 0 batch #: 40  of 300 sample #: 199 reconstruction error: 0.131997\n",
      "Epoch: 0 batch #: 41  of 300 sample #: 199 reconstruction error: 0.067009\n",
      "Epoch: 0 batch #: 42  of 300 sample #: 199 reconstruction error: 0.066870\n",
      "Epoch: 0 batch #: 43  of 300 sample #: 199 reconstruction error: 0.119501\n",
      "Epoch: 0 batch #: 44  of 300 sample #: 199 reconstruction error: 0.069834\n",
      "Epoch: 0 batch #: 45  of 300 sample #: 199 reconstruction error: 0.056825\n",
      "Epoch: 0 batch #: 46  of 300 sample #: 199 reconstruction error: 0.032827\n",
      "Epoch: 0 batch #: 47  of 300 sample #: 199 reconstruction error: 0.035698\n",
      "Epoch: 0 batch #: 48  of 300 sample #: 199 reconstruction error: 0.042647\n",
      "Epoch: 0 batch #: 49  of 300 sample #: 199 reconstruction error: 0.154690\n",
      "Epoch: 0 batch #: 50  of 300 sample #: 199 reconstruction error: 0.053694\n",
      "Epoch: 0 batch #: 51  of 300 sample #: 199 reconstruction error: 0.062951\n",
      "Epoch: 0 batch #: 52  of 300 sample #: 199 reconstruction error: 0.040107\n",
      "Epoch: 0 batch #: 53  of 300 sample #: 199 reconstruction error: 0.103421\n",
      "Epoch: 0 batch #: 54  of 300 sample #: 199 reconstruction error: 0.048908\n",
      "Epoch: 0 batch #: 55  of 300 sample #: 199 reconstruction error: 0.127577\n",
      "Epoch: 0 batch #: 56  of 300 sample #: 199 reconstruction error: 0.059472\n",
      "Epoch: 0 batch #: 57  of 300 sample #: 199 reconstruction error: 0.043298\n",
      "Epoch: 0 batch #: 58  of 300 sample #: 199 reconstruction error: 0.080565\n",
      "Epoch: 0 batch #: 59  of 300 sample #: 199 reconstruction error: 0.051639\n",
      "Epoch: 0 batch #: 60  of 300 sample #: 199 reconstruction error: 0.104559\n",
      "Epoch: 0 batch #: 61  of 300 sample #: 199 reconstruction error: 0.056897\n",
      "Epoch: 0 batch #: 62  of 300 sample #: 199 reconstruction error: 0.086065\n",
      "Epoch: 0 batch #: 63  of 300 sample #: 199 reconstruction error: 0.055351\n",
      "Epoch: 0 batch #: 64  of 300 sample #: 199 reconstruction error: 0.083577\n",
      "Epoch: 0 batch #: 65  of 300 sample #: 199 reconstruction error: 0.105603\n",
      "Epoch: 0 batch #: 66  of 300 sample #: 199 reconstruction error: 0.056544\n",
      "Epoch: 0 batch #: 67  of 300 sample #: 199 reconstruction error: 0.043652\n",
      "Epoch: 0 batch #: 68  of 300 sample #: 199 reconstruction error: 0.065039\n",
      "Epoch: 0 batch #: 69  of 300 sample #: 199 reconstruction error: 0.078440\n",
      "Epoch: 0 batch #: 70  of 300 sample #: 199 reconstruction error: 0.093887\n",
      "Epoch: 0 batch #: 71  of 300 sample #: 199 reconstruction error: 0.090731\n",
      "Epoch: 0 batch #: 72  of 300 sample #: 199 reconstruction error: 0.045279\n",
      "Epoch: 0 batch #: 73  of 300 sample #: 199 reconstruction error: 0.084868\n",
      "Epoch: 0 batch #: 74  of 300 sample #: 199 reconstruction error: 0.091963\n",
      "Epoch: 0 batch #: 75  of 300 sample #: 199 reconstruction error: 0.044601\n",
      "Epoch: 0 batch #: 76  of 300 sample #: 199 reconstruction error: 0.086449\n",
      "Epoch: 0 batch #: 77  of 300 sample #: 199 reconstruction error: 0.099733\n",
      "Epoch: 0 batch #: 78  of 300 sample #: 199 reconstruction error: 0.090939\n",
      "Epoch: 0 batch #: 79  of 300 sample #: 199 reconstruction error: 0.108892\n",
      "Epoch: 0 batch #: 80  of 300 sample #: 199 reconstruction error: 0.036618\n",
      "Epoch: 0 batch #: 81  of 300 sample #: 199 reconstruction error: 0.049184\n",
      "Epoch: 0 batch #: 82  of 300 sample #: 199 reconstruction error: 0.050009\n",
      "Epoch: 0 batch #: 83  of 300 sample #: 199 reconstruction error: 0.065801\n",
      "Epoch: 0 batch #: 84  of 300 sample #: 199 reconstruction error: 0.082425\n",
      "Epoch: 0 batch #: 85  of 300 sample #: 199 reconstruction error: 0.051770\n",
      "Epoch: 0 batch #: 86  of 300 sample #: 199 reconstruction error: 0.091316\n",
      "Epoch: 0 batch #: 87  of 300 sample #: 199 reconstruction error: 0.080262\n",
      "Epoch: 0 batch #: 88  of 300 sample #: 199 reconstruction error: 0.031673\n",
      "Epoch: 0 batch #: 89  of 300 sample #: 199 reconstruction error: 0.064400\n",
      "Epoch: 0 batch #: 90  of 300 sample #: 199 reconstruction error: 0.053746\n",
      "Epoch: 0 batch #: 91  of 300 sample #: 199 reconstruction error: 0.054233\n",
      "Epoch: 0 batch #: 92  of 300 sample #: 199 reconstruction error: 0.063022\n",
      "Epoch: 0 batch #: 93  of 300 sample #: 199 reconstruction error: 0.108035\n",
      "Epoch: 0 batch #: 94  of 300 sample #: 199 reconstruction error: 0.106407\n",
      "Epoch: 0 batch #: 95  of 300 sample #: 199 reconstruction error: 0.057262\n",
      "Epoch: 0 batch #: 96  of 300 sample #: 199 reconstruction error: 0.051549\n",
      "Epoch: 0 batch #: 97  of 300 sample #: 199 reconstruction error: 0.105965\n",
      "Epoch: 0 batch #: 98  of 300 sample #: 199 reconstruction error: 0.093476\n",
      "Epoch: 0 batch #: 99  of 300 sample #: 199 reconstruction error: 0.059016\n",
      "Epoch: 0 batch #: 100  of 300 sample #: 199 reconstruction error: 0.095397\n",
      "Epoch: 0 batch #: 101  of 300 sample #: 199 reconstruction error: 0.067235\n",
      "Epoch: 0 batch #: 102  of 300 sample #: 199 reconstruction error: 0.070262\n",
      "Epoch: 0 batch #: 103  of 300 sample #: 199 reconstruction error: 0.082336\n",
      "Epoch: 0 batch #: 104  of 300 sample #: 199 reconstruction error: 0.071703\n",
      "Epoch: 0 batch #: 105  of 300 sample #: 199 reconstruction error: 0.062582\n",
      "Epoch: 0 batch #: 106  of 300 sample #: 199 reconstruction error: 0.099054\n",
      "Epoch: 0 batch #: 107  of 300 sample #: 199 reconstruction error: 0.147356\n",
      "Epoch: 0 batch #: 108  of 300 sample #: 199 reconstruction error: 0.063915\n",
      "Epoch: 0 batch #: 109  of 300 sample #: 199 reconstruction error: 0.127942\n",
      "Epoch: 0 batch #: 110  of 300 sample #: 199 reconstruction error: 0.054825\n",
      "Epoch: 0 batch #: 111  of 300 sample #: 199 reconstruction error: 0.107114\n",
      "Epoch: 0 batch #: 112  of 300 sample #: 199 reconstruction error: 0.041861\n",
      "Epoch: 0 batch #: 113  of 300 sample #: 199 reconstruction error: 0.077520\n",
      "Epoch: 0 batch #: 114  of 300 sample #: 199 reconstruction error: 0.074834\n",
      "Epoch: 0 batch #: 115  of 300 sample #: 199 reconstruction error: 0.073516\n",
      "Epoch: 0 batch #: 116  of 300 sample #: 199 reconstruction error: 0.053596\n",
      "Epoch: 0 batch #: 117  of 300 sample #: 199 reconstruction error: 0.047099\n",
      "Epoch: 0 batch #: 118  of 300 sample #: 199 reconstruction error: 0.079643\n",
      "Epoch: 0 batch #: 119  of 300 sample #: 199 reconstruction error: 0.119872\n",
      "Epoch: 0 batch #: 120  of 300 sample #: 199 reconstruction error: 0.071454\n",
      "Epoch: 0 batch #: 121  of 300 sample #: 199 reconstruction error: 0.051311\n",
      "Epoch: 0 batch #: 122  of 300 sample #: 199 reconstruction error: 0.096316\n",
      "Epoch: 0 batch #: 123  of 300 sample #: 199 reconstruction error: 0.068235\n",
      "Epoch: 0 batch #: 124  of 300 sample #: 199 reconstruction error: 0.084823\n",
      "Epoch: 0 batch #: 125  of 300 sample #: 199 reconstruction error: 0.053415\n",
      "Epoch: 0 batch #: 126  of 300 sample #: 199 reconstruction error: 0.097407\n",
      "Epoch: 0 batch #: 127  of 300 sample #: 199 reconstruction error: 0.090255\n",
      "Epoch: 0 batch #: 128  of 300 sample #: 199 reconstruction error: 0.061809\n",
      "Epoch: 0 batch #: 129  of 300 sample #: 199 reconstruction error: 0.054391\n",
      "Epoch: 0 batch #: 130  of 300 sample #: 199 reconstruction error: 0.069056\n",
      "Epoch: 0 batch #: 131  of 300 sample #: 199 reconstruction error: 0.063587\n",
      "Epoch: 0 batch #: 132  of 300 sample #: 199 reconstruction error: 0.039798\n",
      "Epoch: 0 batch #: 133  of 300 sample #: 199 reconstruction error: 0.056985\n",
      "Epoch: 0 batch #: 134  of 300 sample #: 199 reconstruction error: 0.104711\n",
      "Epoch: 0 batch #: 135  of 300 sample #: 199 reconstruction error: 0.093373\n",
      "Epoch: 0 batch #: 136  of 300 sample #: 199 reconstruction error: 0.100304\n",
      "Epoch: 0 batch #: 137  of 300 sample #: 199 reconstruction error: 0.064744\n",
      "Epoch: 0 batch #: 138  of 300 sample #: 199 reconstruction error: 0.090844\n",
      "Epoch: 0 batch #: 139  of 300 sample #: 199 reconstruction error: 0.120354\n",
      "Epoch: 0 batch #: 140  of 300 sample #: 199 reconstruction error: 0.084379\n",
      "Epoch: 0 batch #: 141  of 300 sample #: 199 reconstruction error: 0.089863\n",
      "Epoch: 0 batch #: 142  of 300 sample #: 199 reconstruction error: 0.072385\n",
      "Epoch: 0 batch #: 143  of 300 sample #: 199 reconstruction error: 0.056671\n",
      "Epoch: 0 batch #: 144  of 300 sample #: 199 reconstruction error: 0.061425\n",
      "Epoch: 0 batch #: 145  of 300 sample #: 199 reconstruction error: 0.105161\n",
      "Epoch: 0 batch #: 146  of 300 sample #: 199 reconstruction error: 0.101594\n",
      "Epoch: 0 batch #: 147  of 300 sample #: 199 reconstruction error: 0.081110\n",
      "Epoch: 0 batch #: 148  of 300 sample #: 199 reconstruction error: 0.088630\n",
      "Epoch: 0 batch #: 149  of 300 sample #: 199 reconstruction error: 0.039686\n",
      "Epoch: 0 batch #: 150  of 300 sample #: 199 reconstruction error: 0.048652\n",
      "Epoch: 0 batch #: 151  of 300 sample #: 199 reconstruction error: 0.114990\n",
      "Epoch: 0 batch #: 152  of 300 sample #: 199 reconstruction error: 0.076627\n",
      "Epoch: 0 batch #: 153  of 300 sample #: 199 reconstruction error: 0.054640\n",
      "Epoch: 0 batch #: 154  of 300 sample #: 199 reconstruction error: 0.063598\n",
      "Epoch: 0 batch #: 155  of 300 sample #: 199 reconstruction error: 0.058271\n",
      "Epoch: 0 batch #: 156  of 300 sample #: 199 reconstruction error: 0.074221\n",
      "Epoch: 0 batch #: 157  of 300 sample #: 199 reconstruction error: 0.086666\n",
      "Epoch: 0 batch #: 158  of 300 sample #: 199 reconstruction error: 0.065328\n",
      "Epoch: 0 batch #: 159  of 300 sample #: 199 reconstruction error: 0.056595\n",
      "Epoch: 0 batch #: 160  of 300 sample #: 199 reconstruction error: 0.076871\n",
      "Epoch: 0 batch #: 161  of 300 sample #: 199 reconstruction error: 0.077968\n",
      "Epoch: 0 batch #: 162  of 300 sample #: 199 reconstruction error: 0.106326\n",
      "Epoch: 0 batch #: 163  of 300 sample #: 199 reconstruction error: 0.041518\n",
      "Epoch: 0 batch #: 164  of 300 sample #: 199 reconstruction error: 0.067231\n",
      "Epoch: 0 batch #: 165  of 300 sample #: 199 reconstruction error: 0.077804\n",
      "Epoch: 0 batch #: 166  of 300 sample #: 199 reconstruction error: 0.055939\n",
      "Epoch: 0 batch #: 167  of 300 sample #: 199 reconstruction error: 0.087835\n",
      "Epoch: 0 batch #: 168  of 300 sample #: 199 reconstruction error: 0.046745\n",
      "Epoch: 0 batch #: 169  of 300 sample #: 199 reconstruction error: 0.029263\n",
      "Epoch: 0 batch #: 170  of 300 sample #: 199 reconstruction error: 0.054487\n",
      "Epoch: 0 batch #: 171  of 300 sample #: 199 reconstruction error: 0.029955\n",
      "Epoch: 0 batch #: 172  of 300 sample #: 199 reconstruction error: 0.057435\n",
      "Epoch: 0 batch #: 173  of 300 sample #: 199 reconstruction error: 0.087710\n",
      "Epoch: 0 batch #: 174  of 300 sample #: 199 reconstruction error: 0.120728\n",
      "Epoch: 0 batch #: 175  of 300 sample #: 199 reconstruction error: 0.069042\n",
      "Epoch: 0 batch #: 176  of 300 sample #: 199 reconstruction error: 0.041730\n",
      "Epoch: 0 batch #: 177  of 300 sample #: 199 reconstruction error: 0.035372\n",
      "Epoch: 0 batch #: 178  of 300 sample #: 199 reconstruction error: 0.095411\n",
      "Epoch: 0 batch #: 179  of 300 sample #: 199 reconstruction error: 0.061674\n",
      "Epoch: 0 batch #: 180  of 300 sample #: 199 reconstruction error: 0.090659\n",
      "Epoch: 0 batch #: 181  of 300 sample #: 199 reconstruction error: 0.100650\n",
      "Epoch: 0 batch #: 182  of 300 sample #: 199 reconstruction error: 0.084569\n",
      "Epoch: 0 batch #: 183  of 300 sample #: 199 reconstruction error: 0.094928\n",
      "Epoch: 0 batch #: 184  of 300 sample #: 199 reconstruction error: 0.057085\n",
      "Epoch: 0 batch #: 185  of 300 sample #: 199 reconstruction error: 0.070792\n",
      "Epoch: 0 batch #: 186  of 300 sample #: 199 reconstruction error: 0.095766\n",
      "Epoch: 0 batch #: 187  of 300 sample #: 199 reconstruction error: 0.048274\n",
      "Epoch: 0 batch #: 188  of 300 sample #: 199 reconstruction error: 0.114251\n",
      "Epoch: 0 batch #: 189  of 300 sample #: 199 reconstruction error: 0.087050\n",
      "Epoch: 0 batch #: 190  of 300 sample #: 199 reconstruction error: 0.070086\n",
      "Epoch: 0 batch #: 191  of 300 sample #: 199 reconstruction error: 0.117653\n",
      "Epoch: 0 batch #: 192  of 300 sample #: 199 reconstruction error: 0.116728\n",
      "Epoch: 0 batch #: 193  of 300 sample #: 199 reconstruction error: 0.098112\n",
      "Epoch: 0 batch #: 194  of 300 sample #: 199 reconstruction error: 0.084361\n",
      "Epoch: 0 batch #: 195  of 300 sample #: 199 reconstruction error: 0.041587\n",
      "Epoch: 0 batch #: 196  of 300 sample #: 199 reconstruction error: 0.033302\n",
      "Epoch: 0 batch #: 197  of 300 sample #: 199 reconstruction error: 0.057616\n",
      "Epoch: 0 batch #: 198  of 300 sample #: 199 reconstruction error: 0.084257\n",
      "Epoch: 0 batch #: 199  of 300 sample #: 199 reconstruction error: 0.081019\n",
      "Epoch: 0 batch #: 200  of 300 sample #: 199 reconstruction error: 0.091212\n",
      "Epoch: 0 batch #: 201  of 300 sample #: 199 reconstruction error: 0.100501\n",
      "Epoch: 0 batch #: 202  of 300 sample #: 199 reconstruction error: 0.036967\n",
      "Epoch: 0 batch #: 203  of 300 sample #: 199 reconstruction error: 0.092707\n",
      "Epoch: 0 batch #: 204  of 300 sample #: 199 reconstruction error: 0.041831\n",
      "Epoch: 0 batch #: 205  of 300 sample #: 199 reconstruction error: 0.027168\n",
      "Epoch: 0 batch #: 206  of 300 sample #: 199 reconstruction error: 0.075832\n",
      "Epoch: 0 batch #: 207  of 300 sample #: 199 reconstruction error: 0.069183\n",
      "Epoch: 0 batch #: 208  of 300 sample #: 199 reconstruction error: 0.052934\n",
      "Epoch: 0 batch #: 209  of 300 sample #: 199 reconstruction error: 0.029305\n",
      "Epoch: 0 batch #: 210  of 300 sample #: 199 reconstruction error: 0.111097\n",
      "Epoch: 0 batch #: 211  of 300 sample #: 199 reconstruction error: 0.083491\n",
      "Epoch: 0 batch #: 212  of 300 sample #: 199 reconstruction error: 0.068846\n",
      "Epoch: 0 batch #: 213  of 300 sample #: 199 reconstruction error: 0.095706\n",
      "Epoch: 0 batch #: 214  of 300 sample #: 199 reconstruction error: 0.106280\n",
      "Epoch: 0 batch #: 215  of 300 sample #: 199 reconstruction error: 0.042437\n",
      "Epoch: 0 batch #: 216  of 300 sample #: 199 reconstruction error: 0.085886\n",
      "Epoch: 0 batch #: 217  of 300 sample #: 199 reconstruction error: 0.082312\n",
      "Epoch: 0 batch #: 218  of 300 sample #: 199 reconstruction error: 0.064110\n",
      "Epoch: 0 batch #: 219  of 300 sample #: 199 reconstruction error: 0.081360\n",
      "Epoch: 0 batch #: 220  of 300 sample #: 199 reconstruction error: 0.051582\n",
      "Epoch: 0 batch #: 221  of 300 sample #: 199 reconstruction error: 0.088178\n",
      "Epoch: 0 batch #: 222  of 300 sample #: 199 reconstruction error: 0.093959\n",
      "Epoch: 0 batch #: 223  of 300 sample #: 199 reconstruction error: 0.081296\n",
      "Epoch: 0 batch #: 224  of 300 sample #: 199 reconstruction error: 0.069823\n",
      "Epoch: 0 batch #: 225  of 300 sample #: 199 reconstruction error: 0.074400\n",
      "Epoch: 0 batch #: 226  of 300 sample #: 199 reconstruction error: 0.130553\n",
      "Epoch: 0 batch #: 227  of 300 sample #: 199 reconstruction error: 0.064021\n",
      "Epoch: 0 batch #: 228  of 300 sample #: 199 reconstruction error: 0.075379\n",
      "Epoch: 0 batch #: 229  of 300 sample #: 199 reconstruction error: 0.083213\n",
      "Epoch: 0 batch #: 230  of 300 sample #: 199 reconstruction error: 0.032543\n",
      "Epoch: 0 batch #: 231  of 300 sample #: 199 reconstruction error: 0.023939\n",
      "Epoch: 0 batch #: 232  of 300 sample #: 199 reconstruction error: 0.059135\n",
      "Epoch: 0 batch #: 233  of 300 sample #: 199 reconstruction error: 0.089823\n",
      "Epoch: 0 batch #: 234  of 300 sample #: 199 reconstruction error: 0.076261\n",
      "Epoch: 0 batch #: 235  of 300 sample #: 199 reconstruction error: 0.069705\n",
      "Epoch: 0 batch #: 236  of 300 sample #: 199 reconstruction error: 0.116488\n",
      "Epoch: 0 batch #: 237  of 300 sample #: 199 reconstruction error: 0.078699\n",
      "Epoch: 0 batch #: 238  of 300 sample #: 199 reconstruction error: 0.111914\n",
      "Epoch: 0 batch #: 239  of 300 sample #: 199 reconstruction error: 0.030971\n",
      "Epoch: 0 batch #: 240  of 300 sample #: 199 reconstruction error: 0.105609\n",
      "Epoch: 0 batch #: 241  of 300 sample #: 199 reconstruction error: 0.080935\n",
      "Epoch: 0 batch #: 242  of 300 sample #: 199 reconstruction error: 0.063857\n",
      "Epoch: 0 batch #: 243  of 300 sample #: 199 reconstruction error: 0.063237\n",
      "Epoch: 0 batch #: 244  of 300 sample #: 199 reconstruction error: 0.080833\n",
      "Epoch: 0 batch #: 245  of 300 sample #: 199 reconstruction error: 0.054840\n",
      "Epoch: 0 batch #: 246  of 300 sample #: 199 reconstruction error: 0.063795\n",
      "Epoch: 0 batch #: 247  of 300 sample #: 199 reconstruction error: 0.042509\n",
      "Epoch: 0 batch #: 248  of 300 sample #: 199 reconstruction error: 0.081853\n",
      "Epoch: 0 batch #: 249  of 300 sample #: 199 reconstruction error: 0.044991\n",
      "Epoch: 0 batch #: 250  of 300 sample #: 199 reconstruction error: 0.087946\n",
      "Epoch: 0 batch #: 251  of 300 sample #: 199 reconstruction error: 0.039988\n",
      "Epoch: 0 batch #: 252  of 300 sample #: 199 reconstruction error: 0.068326\n",
      "Epoch: 0 batch #: 253  of 300 sample #: 199 reconstruction error: 0.057266\n",
      "Epoch: 0 batch #: 254  of 300 sample #: 199 reconstruction error: 0.028412\n",
      "Epoch: 0 batch #: 255  of 300 sample #: 199 reconstruction error: 0.050155\n",
      "Epoch: 0 batch #: 256  of 300 sample #: 199 reconstruction error: 0.080671\n",
      "Epoch: 0 batch #: 257  of 300 sample #: 199 reconstruction error: 0.081825\n",
      "Epoch: 0 batch #: 258  of 300 sample #: 199 reconstruction error: 0.098197\n",
      "Epoch: 0 batch #: 259  of 300 sample #: 199 reconstruction error: 0.071462\n",
      "Epoch: 0 batch #: 260  of 300 sample #: 199 reconstruction error: 0.105831\n",
      "Epoch: 0 batch #: 261  of 300 sample #: 199 reconstruction error: 0.036858\n",
      "Epoch: 0 batch #: 262  of 300 sample #: 199 reconstruction error: 0.066093\n",
      "Epoch: 0 batch #: 263  of 300 sample #: 199 reconstruction error: 0.089807\n",
      "Epoch: 0 batch #: 264  of 300 sample #: 199 reconstruction error: 0.070448\n",
      "Epoch: 0 batch #: 265  of 300 sample #: 199 reconstruction error: 0.074530\n",
      "Epoch: 0 batch #: 266  of 300 sample #: 199 reconstruction error: 0.043087\n",
      "Epoch: 0 batch #: 267  of 300 sample #: 199 reconstruction error: 0.058552\n",
      "Epoch: 0 batch #: 268  of 300 sample #: 199 reconstruction error: 0.033163\n",
      "Epoch: 0 batch #: 269  of 300 sample #: 199 reconstruction error: 0.082851\n",
      "Epoch: 0 batch #: 270  of 300 sample #: 199 reconstruction error: 0.089449\n",
      "Epoch: 0 batch #: 271  of 300 sample #: 199 reconstruction error: 0.050130\n",
      "Epoch: 0 batch #: 272  of 300 sample #: 199 reconstruction error: 0.065617\n",
      "Epoch: 0 batch #: 273  of 300 sample #: 199 reconstruction error: 0.046179\n",
      "Epoch: 0 batch #: 274  of 300 sample #: 199 reconstruction error: 0.044728\n",
      "Epoch: 0 batch #: 275  of 300 sample #: 199 reconstruction error: 0.104158\n",
      "Epoch: 0 batch #: 276  of 300 sample #: 199 reconstruction error: 0.071475\n",
      "Epoch: 0 batch #: 277  of 300 sample #: 199 reconstruction error: 0.077181\n",
      "Epoch: 0 batch #: 278  of 300 sample #: 199 reconstruction error: 0.064632\n",
      "Epoch: 0 batch #: 279  of 300 sample #: 199 reconstruction error: 0.044203\n",
      "Epoch: 0 batch #: 280  of 300 sample #: 199 reconstruction error: 0.100343\n",
      "Epoch: 0 batch #: 281  of 300 sample #: 199 reconstruction error: 0.057767\n",
      "Epoch: 0 batch #: 282  of 300 sample #: 199 reconstruction error: 0.095907\n",
      "Epoch: 0 batch #: 283  of 300 sample #: 199 reconstruction error: 0.053424\n",
      "Epoch: 0 batch #: 284  of 300 sample #: 199 reconstruction error: 0.053138\n",
      "Epoch: 0 batch #: 285  of 300 sample #: 199 reconstruction error: 0.068417\n",
      "Epoch: 0 batch #: 286  of 300 sample #: 199 reconstruction error: 0.079092\n",
      "Epoch: 0 batch #: 287  of 300 sample #: 199 reconstruction error: 0.080013\n",
      "Epoch: 0 batch #: 288  of 300 sample #: 199 reconstruction error: 0.022000\n",
      "Epoch: 0 batch #: 289  of 300 sample #: 199 reconstruction error: 0.088143\n",
      "Epoch: 0 batch #: 290  of 300 sample #: 199 reconstruction error: 0.105807\n",
      "Epoch: 0 batch #: 291  of 300 sample #: 199 reconstruction error: 0.098759\n",
      "Epoch: 0 batch #: 292  of 300 sample #: 199 reconstruction error: 0.072663\n",
      "Epoch: 0 batch #: 293  of 300 sample #: 199 reconstruction error: 0.061967\n",
      "Epoch: 0 batch #: 294  of 300 sample #: 199 reconstruction error: 0.090314\n",
      "Epoch: 0 batch #: 295  of 300 sample #: 199 reconstruction error: 0.077248\n",
      "Epoch: 0 batch #: 296  of 300 sample #: 199 reconstruction error: 0.031865\n",
      "Epoch: 0 batch #: 297  of 300 sample #: 199 reconstruction error: 0.135264\n",
      "Epoch: 0 batch #: 298  of 300 sample #: 199 reconstruction error: 0.049311\n",
      "Epoch: 0 batch #: 299  of 300 sample #: 199 reconstruction error: 0.052877\n",
      "Epoch: 0 batch #: 300  of 300 sample #: 199 reconstruction error: 0.081034\n"
     ]
    }
   ],
   "source": [
    "# Parameters\n",
    "alpha = 0.01\n",
    "epochs = 1\n",
    "batchsize = 200\n",
    "weights = []\n",
    "errors = []\n",
    "batch_number = 0\n",
    "K = 1\n",
    "\n",
    "# creating datasets\n",
    "train_ds = \\\n",
    "    tf.data.Dataset.from_tensor_slices((trX, trY)).batch(batchsize)\n",
    "\n",
    "for epoch in range(epochs):\n",
    "    for batch_x, batch_y in train_ds:\n",
    "        batch_number += 1\n",
    "        for i_sample in range(batchsize):\n",
    "            for k in range(K):\n",
    "                v0_state = batch_x[i_sample]\n",
    "                h0_state = hidden_layer(v0_state, W, hb)\n",
    "                v1_state = reconstructed_output(h0_state, W, vb)\n",
    "                h1_state = hidden_layer(v1_state, W, hb)\n",
    "\n",
    "                delta_W = tf.matmul(tf.transpose([v0_state]), h0_state) - tf.matmul(tf.transpose([v1_state]), h1_state)\n",
    "                W = W + alpha * delta_W\n",
    "\n",
    "                vb = vb + alpha * tf.reduce_mean(v0_state - v1_state, 0)\n",
    "                hb = hb + alpha * tf.reduce_mean(h0_state - h1_state, 0) \n",
    "\n",
    "                v0_state = v1_state\n",
    "\n",
    "            if i_sample == batchsize-1:\n",
    "                err = error(batch_x[i_sample], v1_state)\n",
    "                errors.append(err)\n",
    "                weights.append(W)\n",
    "                print( 'Epoch: %d' % epoch, \n",
    "                       \"batch #: %i \" % batch_number, \"of %i\" % int(60e3/batchsize), \n",
    "                       \"sample #: %i\" % i_sample,\n",
    "                       'reconstruction error: %f' % err)"
   ]
  },
  {
   "cell_type": "markdown",
   "metadata": {},
   "source": [
    "Let's take a look at the errors at the end of each batch:\n"
   ]
  },
  {
   "cell_type": "code",
   "execution_count": 19,
   "metadata": {},
   "outputs": [
    {
     "data": {
      "image/png": "[encoded data removed]",
      "text/plain": [
       "<Figure size 640x480 with 1 Axes>"
      ]
     },
     "metadata": {},
     "output_type": "display_data"
    }
   ],
   "source": [
    "plt.plot(errors)\n",
    "plt.xlabel(\"Batch Number\")\n",
    "plt.ylabel(\"Error\")\n",
    "plt.show()"
   ]
  },
  {
   "cell_type": "markdown",
   "metadata": {},
   "source": [
    "What is the final weight matrix $W$ after training?\n"
   ]
  },
  {
   "cell_type": "code",
   "execution_count": 20,
   "metadata": {},
   "outputs": [
    {
     "name": "stdout",
     "output_type": "stream",
     "text": [
      "[[-0.20000002 -0.46999982 -0.23000003 ... -0.41999987 -0.4999998\n",
      "  -0.4999998 ]\n",
      " [-0.27       -0.4899998  -0.27       ... -0.3899999  -0.41999987\n",
      "  -0.4999998 ]\n",
      " [-0.21000002 -0.5399998  -0.21000002 ... -0.34999993 -0.4899998\n",
      "  -0.4999998 ]\n",
      " ...\n",
      " [-0.29       -0.46999982 -0.23000003 ... -0.3999999  -0.4899998\n",
      "  -0.5099998 ]\n",
      " [-0.24000004 -0.5099998  -0.24000004 ... -0.3799999  -0.34999993\n",
      "  -0.5299998 ]\n",
      " [-0.28       -0.45999983 -0.31999996 ... -0.40999988 -0.44999984\n",
      "  -0.4999998 ]]\n"
     ]
    }
   ],
   "source": [
    "print(W.numpy()) # a weight matrix of shape (50,784)"
   ]
  },
  {
   "cell_type": "markdown",
   "metadata": {},
   "source": [
    "<a id=\"ref5\"></a>\n",
    "<h3>Learned features</h3> \n"
   ]
  },
  {
   "cell_type": "markdown",
   "metadata": {},
   "source": [
    "We can take each hidden unit and visualize the connections between that hidden unit and each element in the input vector. In our case, we have 50 hidden units. Lets visualize those.\n"
   ]
  },
  {
   "cell_type": "markdown",
   "metadata": {},
   "source": [
    "Let's plot the current weights:\n",
    "<b>tile_raster_images</b> helps in generating an easy to grasp image from a set of samples or weights. It transforms the <b>uw</b> (with one flattened image per row of size 784), into an array (of size $28\\times28$) in which images are reshaped and laid out like tiles on a floor.\n"
   ]
  },
  {
   "cell_type": "code",
   "execution_count": 21,
   "metadata": {},
   "outputs": [
    {
     "data": {
      "image/png": "[encoded data removed]",
      "text/plain": [
       "<Figure size 1800x1800 with 1 Axes>"
      ]
     },
     "metadata": {},
     "output_type": "display_data"
    }
   ],
   "source": [
    "tile_raster_images(X=W.numpy().T, img_shape=(28, 28), tile_shape=(5, 10), tile_spacing=(1, 1))\n",
    "image = Image.fromarray(tile_raster_images(X=W.numpy().T, img_shape=(28, 28) ,tile_shape=(5, 10), tile_spacing=(1, 1)))\n",
    "### Plot image\n",
    "plt.rcParams['figure.figsize'] = (18.0, 18.0)\n",
    "imgplot = plt.imshow(image)\n",
    "imgplot.set_cmap('gray')"
   ]
  },
  {
   "cell_type": "markdown",
   "metadata": {},
   "source": [
    "Each tile in the above visualization corresponds to a vector of connections between a hidden unit and visible layer's units. \n"
   ]
  },
  {
   "cell_type": "markdown",
   "metadata": {},
   "source": [
    "Let's look at one of the learned weights corresponding to one of hidden units for example. In this particular square, the gray color represents weight = 0, and the whiter it is, the more positive the weights are (closer to 1). Conversely, the darker pixels are, the more negative the weights. The positive pixels will increase the probability of activation in hidden units (after multiplying by input/visible pixels), and negative pixels will decrease the probability of a unit hidden to be 1 (activated). So, why is this important?  So we can see that this specific square (hidden unit) can detect a feature (e.g. a \"/\" shape) and if it exists in the input.\n"
   ]
  },
  {
   "cell_type": "code",
   "execution_count": 22,
   "metadata": {},
   "outputs": [
    {
     "data": {
      "image/png": "[encoded data removed]",
      "text/plain": [
       "<Figure size 400x400 with 1 Axes>"
      ]
     },
     "metadata": {},
     "output_type": "display_data"
    }
   ],
   "source": [
    "image = Image.fromarray(tile_raster_images(X =W.numpy().T[10:11], img_shape=(28, 28),tile_shape=(1, 1), tile_spacing=(1, 1)))\n",
    "### Plot image\n",
    "plt.rcParams['figure.figsize'] = (4.0, 4.0)\n",
    "imgplot = plt.imshow(image)\n",
    "imgplot.set_cmap('gray')  "
   ]
  },
  {
   "cell_type": "markdown",
   "metadata": {},
   "source": [
    "Let's look at the reconstruction of an image now. Imagine that we have a destructed image of figure 3. Lets see if our trained network can fix it:\n",
    "\n",
    "First we plot the image:\n"
   ]
  },
  {
   "cell_type": "code",
   "execution_count": 23,
   "metadata": {},
   "outputs": [
    {
     "name": "stdout",
     "output_type": "stream",
     "text": [
      "--2023-02-06 13:34:44--  https://ibm.box.com/shared/static/vvm1b63uvuxq88vbw9znpwu5ol380mco.jpg\n",
      "Resolving ibm.box.com (ibm.box.com)... 74.112.186.144\n",
      "Connecting to ibm.box.com (ibm.box.com)|74.112.186.144|:443... connected.\n",
      "HTTP request sent, awaiting response... 301 Moved Permanently\n",
      "Location: /public/static/vvm1b63uvuxq88vbw9znpwu5ol380mco.jpg [following]\n",
      "--2023-02-06 13:34:45--  https://ibm.box.com/public/static/vvm1b63uvuxq88vbw9znpwu5ol380mco.jpg\n",
      "Reusing existing connection to ibm.box.com:443.\n",
      "HTTP request sent, awaiting response... 301 Moved Permanently\n",
      "Location: https://ibm.ent.box.com/public/static/vvm1b63uvuxq88vbw9znpwu5ol380mco.jpg [following]\n",
      "--2023-02-06 13:34:45--  https://ibm.ent.box.com/public/static/vvm1b63uvuxq88vbw9znpwu5ol380mco.jpg\n",
      "Resolving ibm.ent.box.com (ibm.ent.box.com)... 74.112.186.144\n",
      "Connecting to ibm.ent.box.com (ibm.ent.box.com)|74.112.186.144|:443... connected.\n",
      "HTTP request sent, awaiting response... 302 Found\n",
      "Location: https://dl2.boxcloud.com/d/1/b1!i6LuNc_V_GoUpMlUVrvb9qexoxH9GQyi3hhLkLSadoX8Wy6vrBTF-DAMWbFA-ck1zQiz61z72pJ7tIdpiYgHa96PEgvj-k8_tOwMjhhA7jsYHTZsteLiPFLllZYuVwiR1puuJb15qE01ou3PZNtyy9jCNHc3UyTGpsqs_XOo1PGwr-kunn-vsyRv6CZOPOlIXl-AxybscJHDaCC_LbrgsuVclcBY2_WiqinrafSghATM9V_RDYecUCVZ7cQarK1Bqmu-_7y7ru-VypmgYm1nvcpZS-5Qct2WZBcBbiBfrrn2pROwN1FampQBbZcjJxPUyZyQbFdTyYnBdepdMe_RBY5GIq3-ESc4cdIdp4j5VLzZL6eFvGNOYT7U--SDMIm-zUZGpp2xnAOie026npufrVJZ2h2UDjiTMxx8lS8Xkx_ZYdoUDj8TYUVdjRFF1TeeTDvS0QklseXjwOVnMhPn5AQk5FuEkW4j6Fsq7Jv1evkGNeeqmhQNNucHB-uDg5Hur9Fccza-T3NNynUVqeyKXJnMjFcz7M4w4D92aAd8kAcMmsrhThklmhD6tMV958ePes-Hfd8uX4hOh8d6441mvgZNQgt4_YvxJZZO3WNXriWX84Fc3ejPG6bLNcs_6vEe3zYvNTS3C_BF4ZDaYMNGtmQHdXE1S7RPTqu-oT3QkRE_gsHreE_woyf7UFuQE0GpjTWwmiJ_hnRkCuTcHZ2GccwVIaOFYuqd9ue2qN20MGLazcjC80ljjm4pDhaH5vXUgXny5X7B51ResPsVAW78HZD--Wy7Il8l-EUYdmkxmHVKcaDi0t6gtacaLfCSL2Oc79U1n8jv0lFiBo5X0Ku7egdLMy2DH8zzW6qY7fzD6EKZGQ5R3zoXxt0bWCUsJwanzSDd9pyk1Qp5uoiq-lqZq3c7MD18m4Eiysy6mBwVAvQGUvAfNnR1JNnS9OlhcQtwGFMkvzZ-IgQifbuEj-60EmBa_BxoRXVqYkKg4MKHr_dSZ4beXRcHUBT_NHRscRyliKPkXXJAd2GrH6DMcuktf3-JKl5rZ2cG0XIrUkeyF8elmgS3djf9Mw5f93-TuWggogqX6YVMqfgzs2rX21n4lPBKN-vdwkxrKwTAx9KR00g__xmxi7axCpdMps8eTcGZ0bSJZUskqdmp-G3v-B6aJ83m3XQecbP82mZs-gj4y1vOlRm6yJdFz8k6hRBm-dDZNaybbdBwFNAr16jBR866aTXt5xgfwFnb2Mx1cxDIh6fJPdE68UdYDqE6URpInfcGaJbC236lkOJ80DS3EwUuzF2uOzKeILU5USAHqp0RZxXzYjDL2w6mPj_6F_49LIHiP3WncWa8bXRpZwV0CW_ITOuwuaq7_1OnAU0wIkRMP9-TJbtTNJebp0Pz8Oad0GHS16gUkO6wG_dttjJEs0R68Tov5zpcSn7pOmnTuGWr0T4M3t6uIERit-OjguirWg../download [following]\n",
      "--2023-02-06 13:34:46--  https://dl2.boxcloud.com/d/1/b1!i6LuNc_V_GoUpMlUVrvb9qexoxH9GQyi3hhLkLSadoX8Wy6vrBTF-DAMWbFA-ck1zQiz61z72pJ7tIdpiYgHa96PEgvj-k8_tOwMjhhA7jsYHTZsteLiPFLllZYuVwiR1puuJb15qE01ou3PZNtyy9jCNHc3UyTGpsqs_XOo1PGwr-kunn-vsyRv6CZOPOlIXl-AxybscJHDaCC_LbrgsuVclcBY2_WiqinrafSghATM9V_RDYecUCVZ7cQarK1Bqmu-_7y7ru-VypmgYm1nvcpZS-5Qct2WZBcBbiBfrrn2pROwN1FampQBbZcjJxPUyZyQbFdTyYnBdepdMe_RBY5GIq3-ESc4cdIdp4j5VLzZL6eFvGNOYT7U--SDMIm-zUZGpp2xnAOie026npufrVJZ2h2UDjiTMxx8lS8Xkx_ZYdoUDj8TYUVdjRFF1TeeTDvS0QklseXjwOVnMhPn5AQk5FuEkW4j6Fsq7Jv1evkGNeeqmhQNNucHB-uDg5Hur9Fccza-T3NNynUVqeyKXJnMjFcz7M4w4D92aAd8kAcMmsrhThklmhD6tMV958ePes-Hfd8uX4hOh8d6441mvgZNQgt4_YvxJZZO3WNXriWX84Fc3ejPG6bLNcs_6vEe3zYvNTS3C_BF4ZDaYMNGtmQHdXE1S7RPTqu-oT3QkRE_gsHreE_woyf7UFuQE0GpjTWwmiJ_hnRkCuTcHZ2GccwVIaOFYuqd9ue2qN20MGLazcjC80ljjm4pDhaH5vXUgXny5X7B51ResPsVAW78HZD--Wy7Il8l-EUYdmkxmHVKcaDi0t6gtacaLfCSL2Oc79U1n8jv0lFiBo5X0Ku7egdLMy2DH8zzW6qY7fzD6EKZGQ5R3zoXxt0bWCUsJwanzSDd9pyk1Qp5uoiq-lqZq3c7MD18m4Eiysy6mBwVAvQGUvAfNnR1JNnS9OlhcQtwGFMkvzZ-IgQifbuEj-60EmBa_BxoRXVqYkKg4MKHr_dSZ4beXRcHUBT_NHRscRyliKPkXXJAd2GrH6DMcuktf3-JKl5rZ2cG0XIrUkeyF8elmgS3djf9Mw5f93-TuWggogqX6YVMqfgzs2rX21n4lPBKN-vdwkxrKwTAx9KR00g__xmxi7axCpdMps8eTcGZ0bSJZUskqdmp-G3v-B6aJ83m3XQecbP82mZs-gj4y1vOlRm6yJdFz8k6hRBm-dDZNaybbdBwFNAr16jBR866aTXt5xgfwFnb2Mx1cxDIh6fJPdE68UdYDqE6URpInfcGaJbC236lkOJ80DS3EwUuzF2uOzKeILU5USAHqp0RZxXzYjDL2w6mPj_6F_49LIHiP3WncWa8bXRpZwV0CW_ITOuwuaq7_1OnAU0wIkRMP9-TJbtTNJebp0Pz8Oad0GHS16gUkO6wG_dttjJEs0R68Tov5zpcSn7pOmnTuGWr0T4M3t6uIERit-OjguirWg../download\n",
      "Resolving dl2.boxcloud.com (dl2.boxcloud.com)... 74.112.186.128\n",
      "Connecting to dl2.boxcloud.com (dl2.boxcloud.com)|74.112.186.128|:443... connected.\n",
      "HTTP request sent, awaiting response... 200 OK\n",
      "Length: 24383 (24K) [image/jpeg]\n",
      "Saving to: ‘destructed3.jpg’\n",
      "\n",
      "destructed3.jpg     100%[===================>]  23.81K  --.-KB/s    in 0.002s  \n",
      "\n",
      "2023-02-06 13:34:46 (13.7 MB/s) - ‘destructed3.jpg’ saved [24383/24383]\n",
      "\n"
     ]
    },
    {
     "data": {
      "image/png": "[encoded data removed]",
      "text/plain": [
       "<PIL.JpegImagePlugin.JpegImageFile image mode=RGB size=181x181 at 0x7F85B465A9D0>"
      ]
     },
     "execution_count": 23,
     "metadata": {},
     "output_type": "execute_result"
    }
   ],
   "source": [
    "!wget -O destructed3.jpg  https://ibm.box.com/shared/static/vvm1b63uvuxq88vbw9znpwu5ol380mco.jpg\n",
    "img = Image.open('destructed3.jpg')\n",
    "img"
   ]
  },
  {
   "cell_type": "markdown",
   "metadata": {},
   "source": [
    "Now let's pass this image through the neural net:\n"
   ]
  },
  {
   "cell_type": "code",
   "execution_count": 24,
   "metadata": {},
   "outputs": [],
   "source": [
    "# convert the image to a 1d numpy array\n",
    "sample_case = np.array(img.convert('I').resize((28,28))).ravel().reshape((1, -1))/255.0\n",
    "\n",
    "sample_case = tf.cast(sample_case, dtype=tf.float32)"
   ]
  },
  {
   "cell_type": "markdown",
   "metadata": {},
   "source": [
    "Feed the sample case into the network and reconstruct the output:\n"
   ]
  },
  {
   "cell_type": "code",
   "execution_count": 25,
   "metadata": {},
   "outputs": [
    {
     "name": "stdout",
     "output_type": "stream",
     "text": [
      "Probability nodes in hidden layer: tf.Tensor(\n",
      "[[9.84978432e-10 1.00000000e+00 1.18993020e-08 2.98968376e-14\n",
      "  1.00000000e+00 2.13867080e-09 3.98877203e-01 1.77419186e-03\n",
      "  1.13697628e-11 1.00000000e+00 2.01296848e-06 2.24221647e-02\n",
      "  2.14423271e-10 2.83309817e-03 9.99833703e-01 4.82916832e-04\n",
      "  1.52672857e-01 9.34873939e-01 7.89730549e-01 2.73034871e-02\n",
      "  1.00000000e+00 9.99436319e-01 3.93444602e-15 1.46920338e-14\n",
      "  8.24922323e-03 9.99865472e-01 4.87294092e-05 2.29722559e-02\n",
      "  9.99952495e-01 1.21059827e-07 1.00000000e+00 1.25551224e-03\n",
      "  4.12782729e-02 4.62243506e-08 4.29797339e-18 1.00000000e+00\n",
      "  9.99989510e-01 1.80205365e-10 2.10997641e-05 9.99975324e-01\n",
      "  5.16074000e-13 7.09128978e-09 6.96861744e-03 3.68987322e-02\n",
      "  1.92161592e-10 1.23582244e-01 1.46383308e-10 2.12557705e-08\n",
      "  1.20017514e-01 4.92990911e-01]], shape=(1, 50), dtype=float32)\n",
      "activated nodes in hidden layer: tf.Tensor(\n",
      "[[0. 1. 0. 0. 1. 0. 0. 0. 0. 1. 0. 0. 0. 0. 1. 0. 0. 1. 1. 0. 1. 1. 0. 0.\n",
      "  0. 1. 0. 0. 1. 0. 1. 0. 0. 0. 0. 1. 1. 0. 0. 1. 0. 0. 0. 0. 0. 0. 0. 0.\n",
      "  0. 0.]], shape=(1, 50), dtype=float32)\n",
      "tf.Tensor(\n",
      "[[6.92903996e-04 8.63283873e-04 9.16600227e-04 7.06911087e-04\n",
      "  8.21173191e-04 9.83089209e-04 8.89539719e-04 9.54031944e-04\n",
      "  8.63283873e-04 6.92933798e-04 6.02424145e-04 8.46177340e-04\n",
      "  8.00907612e-04 6.76035881e-04 8.67933035e-04 6.79939985e-04\n",
      "  7.96973705e-04 1.20046735e-03 6.99937344e-04 6.99818134e-04\n",
      "  7.58141279e-04 9.44525003e-04 1.06480718e-03 1.09717250e-03\n",
      "  1.07553601e-03 7.06911087e-04 8.63283873e-04 8.46236944e-04\n",
      "  1.02314353e-03 8.71956348e-04 7.81267881e-04 1.04373693e-03\n",
      "  1.11100078e-03 8.19832087e-04 9.46402550e-04 1.11588836e-03\n",
      "  7.76529312e-04 1.17364526e-03 8.14318657e-04 7.64548779e-04\n",
      "  7.69555569e-04 5.70327044e-04 5.50389290e-04 1.32289529e-03\n",
      "  1.59731507e-03 1.16086006e-03 1.50153041e-03 1.13326311e-03\n",
      "  1.11997128e-03 7.29173422e-04 7.77125359e-04 1.03908777e-03\n",
      "  7.06970692e-04 1.38056278e-03 7.14004040e-04 1.42258406e-03\n",
      "  8.04990530e-04 8.29488039e-04 1.02570653e-03 9.81271267e-04\n",
      "  8.61614943e-04 1.14634633e-03 1.18747354e-03 1.02734566e-03\n",
      "  6.31272793e-04 7.49289989e-04 3.81886959e-04 1.99526548e-04\n",
      "  2.23815441e-04 2.71409750e-04 4.66018915e-04 2.98649073e-04\n",
      "  3.43412161e-04 2.05516815e-04 1.10703935e-04 1.24096870e-04\n",
      "  1.64091587e-04 2.15142965e-04 6.02632761e-04 9.28431749e-04\n",
      "  9.78142023e-04 9.77486372e-04 9.07570124e-04 8.80688429e-04\n",
      "  1.13055110e-03 6.33329153e-04 9.28580761e-04 6.51121140e-04\n",
      "  1.08513236e-03 6.75261021e-04 1.08206272e-03 8.83311033e-04\n",
      "  1.00198388e-03 4.96119261e-04 5.95152378e-04 6.96092844e-04\n",
      "  6.83933496e-04 1.26475096e-03 1.18625164e-03 1.69053674e-03\n",
      "  1.44279003e-03 4.35262918e-04 2.45243311e-04 2.03162432e-04\n",
      "  1.02969476e-04 2.79366970e-04 3.88473272e-04 1.38655305e-03\n",
      "  1.24964118e-03 1.34134293e-03 9.89526510e-04 7.73489475e-04\n",
      "  1.17662549e-03 7.86215067e-04 1.06942654e-03 7.99357891e-04\n",
      "  2.16686726e-03 2.17646360e-03 2.70372629e-03 2.48369575e-03\n",
      "  4.05046344e-03 3.81210446e-03 5.47105074e-03 1.11503005e-02\n",
      "  1.08574927e-02 1.80982053e-02 3.23109627e-02 9.02128518e-02\n",
      "  3.74001563e-02 1.15580857e-02 3.68589163e-03 1.88988447e-03\n",
      "  3.17481160e-03 1.65221095e-03 3.30901146e-03 2.77239084e-03\n",
      "  3.36283445e-03 1.73497200e-03 9.53763723e-04 7.32511282e-04\n",
      "  8.13037157e-04 9.83089209e-04 6.76989555e-04 1.11922622e-03\n",
      "  2.32326984e-03 3.06689739e-03 2.92035937e-03 1.44194663e-02\n",
      "  1.93994641e-02 3.29005420e-02 1.44574374e-01 1.30226612e-01\n",
      "  2.77228802e-01 4.32544053e-01 6.40535235e-01 8.47646952e-01\n",
      "  8.45243692e-01 6.05780363e-01 2.34116495e-01 1.32357150e-01\n",
      "  6.64456785e-02 2.54695117e-02 1.21083558e-02 3.97539139e-03\n",
      "  2.91600823e-03 2.47696042e-03 1.90082192e-03 1.03405118e-03\n",
      "  8.80688429e-04 1.15919113e-03 1.08850002e-03 3.33905220e-03\n",
      "  8.95226002e-03 1.00544393e-02 1.61296129e-02 3.65092754e-02\n",
      "  3.08324695e-02 6.36755824e-02 1.90256000e-01 4.71397609e-01\n",
      "  8.32800746e-01 8.97211432e-01 9.49233353e-01 9.78922725e-01\n",
      "  9.72390413e-01 9.53930676e-01 8.21848392e-01 7.32707024e-01\n",
      "  3.07329625e-01 7.16812611e-02 1.52626932e-02 8.89664888e-03\n",
      "  8.12342763e-03 2.19446421e-03 2.24125385e-03 9.85950232e-04\n",
      "  8.33451748e-04 9.12457705e-04 2.44873762e-03 6.45977259e-03\n",
      "  1.35680735e-02 2.57804096e-02 2.63730288e-02 2.88776159e-02\n",
      "  3.23960781e-02 1.94661647e-01 5.14029801e-01 9.07039225e-01\n",
      "  9.44483995e-01 9.46577072e-01 9.68661666e-01 9.67536807e-01\n",
      "  9.13266242e-01 8.27556968e-01 8.45798254e-01 8.73469710e-01\n",
      "  5.55477381e-01 2.18037665e-01 3.96471024e-02 4.22084332e-03\n",
      "  2.69964337e-03 1.02904439e-03 1.68514252e-03 1.19388103e-03\n",
      "  5.50776720e-04 1.08182430e-03 3.60307097e-03 9.77689028e-03\n",
      "  2.25943625e-02 1.44400895e-02 2.02801824e-02 2.33093500e-02\n",
      "  3.85471582e-02 2.40351021e-01 6.84312284e-01 8.59147727e-01\n",
      "  9.02159810e-01 8.62305701e-01 7.92913318e-01 5.72917700e-01\n",
      "  3.76316428e-01 3.30170274e-01 6.95934832e-01 8.64422321e-01\n",
      "  6.55468762e-01 3.07047158e-01 1.02907330e-01 7.44172931e-03\n",
      "  2.99209356e-03 1.30870938e-03 1.75404549e-03 8.59469175e-04\n",
      "  9.00775194e-04 1.26874447e-03 3.28993797e-03 1.26544535e-02\n",
      "  2.26211548e-02 1.58443749e-02 1.66998208e-02 2.17383206e-02\n",
      "  5.28104603e-02 1.81279629e-01 4.48939890e-01 4.79154110e-01\n",
      "  7.28315175e-01 4.67519462e-01 2.30324864e-01 1.84471697e-01\n",
      "  7.21529424e-02 2.22713351e-01 7.44975090e-01 9.56614375e-01\n",
      "  7.46022165e-01 4.26855087e-01 6.62762225e-02 1.27057433e-02\n",
      "  3.78176570e-03 3.59699130e-03 1.85531378e-03 5.80102205e-04\n",
      "  7.99894333e-04 1.26844645e-03 3.81270051e-03 7.66617060e-03\n",
      "  1.17505491e-02 8.29720497e-03 1.27065778e-02 9.58657265e-03\n",
      "  1.90750360e-02 7.84183741e-02 1.68409914e-01 1.85717136e-01\n",
      "  1.63248539e-01 1.19569004e-01 2.18973726e-01 2.77979910e-01\n",
      "  2.63101459e-01 7.55323172e-01 9.40121651e-01 9.55630124e-01\n",
      "  7.98243761e-01 4.16193902e-01 5.57782650e-02 8.24725628e-03\n",
      "  4.88978624e-03 2.78487802e-03 1.26209855e-03 1.05392933e-03\n",
      "  8.49843025e-04 1.20198727e-03 5.76803088e-03 5.65341115e-03\n",
      "  1.51204467e-02 1.34213567e-02 1.11066699e-02 6.01702929e-03\n",
      "  1.10442638e-02 1.25108659e-02 3.99937630e-02 6.71450794e-02\n",
      "  1.03415489e-01 3.85276854e-01 6.45695925e-01 7.30972886e-01\n",
      "  6.91793084e-01 8.86137128e-01 9.44965005e-01 8.46441269e-01\n",
      "  4.12274778e-01 7.91644156e-02 1.20095611e-02 3.67766619e-03\n",
      "  4.61098552e-03 2.40856409e-03 7.67141581e-04 1.05357170e-03\n",
      "  1.23378634e-03 1.11559033e-03 4.71511483e-03 5.54481149e-03\n",
      "  7.80788064e-03 1.12681091e-02 4.55448031e-03 5.75554371e-03\n",
      "  3.04529071e-03 1.29179358e-02 1.94678307e-02 7.28113353e-02\n",
      "  2.95230865e-01 8.14105928e-01 9.46977973e-01 9.28885221e-01\n",
      "  8.38101327e-01 9.26205635e-01 8.58871937e-01 3.41459155e-01\n",
      "  5.14677167e-02 1.06417239e-02 4.85071540e-03 1.40514970e-03\n",
      "  2.20155716e-03 1.97592378e-03 7.31855631e-04 9.35763121e-04\n",
      "  1.37031078e-03 1.11812353e-03 1.41409039e-03 2.99802423e-03\n",
      "  4.92221117e-03 1.24114156e-02 5.32528758e-03 3.37916613e-03\n",
      "  3.60450149e-03 6.94367290e-03 2.05293596e-02 1.45376503e-01\n",
      "  6.51256979e-01 9.33286309e-01 9.33907509e-01 9.20764804e-01\n",
      "  7.81970620e-01 8.81876707e-01 5.07074177e-01 1.11152261e-01\n",
      "  9.93683934e-03 2.30106711e-03 1.88866258e-03 1.64297223e-03\n",
      "  1.47658587e-03 1.54536963e-03 1.16777420e-03 7.02053308e-04\n",
      "  9.52780247e-04 1.15424395e-03 1.89468265e-03 2.83989310e-03\n",
      "  4.61566448e-03 3.10966372e-03 2.21320987e-03 1.51988864e-03\n",
      "  5.49730659e-03 6.49011135e-03 4.21260297e-02 2.76908755e-01\n",
      "  6.15817189e-01 7.72549868e-01 7.82958150e-01 5.27874529e-01\n",
      "  5.28329611e-01 4.99654710e-01 2.89921820e-01 2.87887454e-02\n",
      "  3.37311625e-03 1.00713968e-03 2.59491801e-03 1.96507573e-03\n",
      "  2.04080343e-03 1.08253956e-03 1.04263425e-03 1.12834573e-03\n",
      "  1.28459930e-03 1.03691220e-03 1.68979168e-03 2.03773379e-03\n",
      "  5.79649210e-03 2.90670991e-03 4.10702825e-03 2.89216638e-03\n",
      "  3.93038988e-03 1.22089982e-02 4.22601998e-02 7.88362324e-02\n",
      "  2.26073951e-01 2.01161593e-01 9.80281234e-02 6.07552528e-02\n",
      "  8.01277161e-02 3.21317554e-01 2.37326711e-01 1.98200345e-02\n",
      "  2.11763382e-03 1.31106377e-03 1.67337060e-03 2.65884399e-03\n",
      "  1.59329176e-03 7.07447529e-04 8.08835030e-04 1.48904324e-03\n",
      "  8.55535269e-04 6.32822514e-04 1.85742974e-03 3.67191434e-03\n",
      "  7.76794553e-03 5.35431504e-03 1.05968118e-02 4.39065695e-03\n",
      "  9.81575251e-03 2.20014453e-02 2.99769342e-02 5.47518432e-02\n",
      "  6.16064370e-02 2.06874609e-02 6.47860765e-03 9.82090831e-03\n",
      "  4.26088870e-02 2.61017621e-01 2.55188763e-01 3.54316235e-02\n",
      "  5.10406494e-03 2.46417522e-03 2.46530771e-03 2.42778659e-03\n",
      "  1.42520666e-03 4.67181206e-04 8.52465630e-04 7.53045082e-04\n",
      "  9.16659832e-04 6.87658787e-04 2.88775563e-03 5.36277890e-03\n",
      "  6.55442476e-03 2.05025077e-02 1.85760856e-02 1.46661103e-02\n",
      "  1.38824582e-02 2.06442475e-02 3.73486876e-02 2.57672071e-02\n",
      "  1.53619051e-02 5.51313162e-03 5.39597869e-03 2.31332481e-02\n",
      "  1.02142900e-01 1.57210022e-01 1.61138564e-01 2.91922092e-02\n",
      "  7.32320547e-03 4.99132276e-03 2.74348259e-03 3.74102592e-03\n",
      "  2.16814876e-03 9.19401646e-04 1.06728077e-03 9.83357430e-04\n",
      "  1.09052658e-03 1.12071633e-03 4.51993942e-03 1.02026463e-02\n",
      "  2.33963430e-02 4.91368175e-02 4.53649163e-02 3.61746550e-02\n",
      "  4.25420403e-02 2.03400850e-02 2.55516171e-02 1.81912184e-02\n",
      "  5.49677014e-03 6.64928555e-03 1.11759603e-02 3.71681750e-02\n",
      "  1.59661412e-01 4.60687816e-01 2.77450979e-01 8.63611102e-02\n",
      "  7.47245550e-03 2.83610821e-03 4.29499149e-03 2.10103393e-03\n",
      "  1.34494901e-03 1.68007612e-03 1.54113770e-03 7.75605440e-04\n",
      "  1.21888518e-03 1.46296620e-03 6.46227598e-03 5.17368019e-02\n",
      "  5.46318293e-02 8.44531953e-02 8.80691111e-02 1.12558573e-01\n",
      "  7.57299364e-02 5.10654449e-02 1.32001936e-02 1.53841972e-02\n",
      "  1.39859915e-02 1.48579478e-02 1.59497559e-02 4.68356311e-02\n",
      "  3.57075334e-01 6.91547632e-01 5.51632166e-01 1.72466159e-01\n",
      "  1.04092658e-02 1.96021795e-03 1.60738826e-03 1.50576234e-03\n",
      "  2.13986635e-03 1.52882934e-03 1.72504783e-03 7.22527504e-04\n",
      "  6.27040863e-04 1.06999278e-03 1.75239444e-02 7.43091106e-02\n",
      "  1.44387484e-01 1.60288513e-01 2.05184281e-01 1.55241400e-01\n",
      "  2.72995263e-01 8.66995454e-02 2.25406587e-02 8.49547982e-03\n",
      "  2.52875984e-02 1.51023865e-02 6.77449107e-02 2.32961208e-01\n",
      "  7.66853333e-01 8.49640846e-01 6.34133756e-01 1.08034521e-01\n",
      "  6.22621179e-03 1.30167603e-03 1.92752481e-03 1.67739391e-03\n",
      "  2.03534961e-03 2.94363499e-03 2.32836604e-03 8.68171453e-04\n",
      "  8.38816166e-04 1.44428015e-03 1.06339157e-02 1.13302469e-01\n",
      "  3.50186735e-01 4.19503570e-01 4.48712260e-01 3.66999865e-01\n",
      "  3.37578237e-01 1.09485507e-01 5.90531230e-02 4.00603414e-02\n",
      "  4.92807627e-02 1.08432710e-01 2.22494960e-01 7.10899234e-01\n",
      "  9.18968618e-01 8.33193719e-01 2.93368101e-01 4.51869071e-02\n",
      "  5.46139479e-03 1.10930204e-03 1.89182162e-03 2.29901075e-03\n",
      "  2.92605162e-03 2.89532542e-03 1.21426582e-03 6.29395247e-04\n",
      "  7.43836164e-04 8.67098570e-04 6.94546103e-03 9.88180339e-02\n",
      "  3.17849010e-01 6.20214105e-01 7.60063469e-01 8.16740870e-01\n",
      "  7.65062809e-01 6.39834106e-01 4.77367759e-01 4.12514240e-01\n",
      "  5.70466161e-01 6.46676302e-01 8.44633460e-01 8.55116367e-01\n",
      "  7.83756375e-01 4.76682872e-01 1.14532202e-01 1.52611136e-02\n",
      "  2.31269002e-03 1.62184238e-03 1.19298697e-03 2.21025944e-03\n",
      "  3.82414460e-03 1.79019570e-03 8.33779573e-04 8.42362642e-04\n",
      "  8.80688429e-04 7.28428364e-04 2.57763267e-03 1.93655491e-02\n",
      "  2.32419908e-01 5.09641051e-01 7.98404217e-01 9.05274153e-01\n",
      "  9.19903517e-01 9.47441339e-01 9.12259698e-01 9.29867983e-01\n",
      "  9.48630035e-01 9.28218484e-01 8.47518921e-01 6.82210684e-01\n",
      "  4.44150120e-01 1.32022411e-01 1.77266598e-02 8.23545456e-03\n",
      "  2.90113688e-03 1.85263157e-03 1.42741203e-03 2.09188461e-03\n",
      "  2.91258097e-03 1.16345286e-03 8.83340836e-04 5.56170940e-04\n",
      "  8.71956348e-04 8.21173191e-04 1.41638517e-03 3.38965654e-03\n",
      "  3.26690674e-02 1.82363003e-01 5.69896400e-01 6.13270402e-01\n",
      "  8.49660337e-01 8.91323090e-01 9.01475430e-01 9.24600363e-01\n",
      "  9.07516778e-01 8.01772594e-01 4.21984553e-01 2.33838528e-01\n",
      "  4.47378755e-02 3.86007130e-02 4.99168038e-03 5.64855337e-03\n",
      "  2.10228562e-03 2.27272511e-03 1.54036283e-03 1.69143081e-03\n",
      "  1.58569217e-03 1.46704912e-03 9.21100378e-04 7.73400068e-04\n",
      "  8.46177340e-04 9.07510519e-04 7.76261091e-04 8.96722078e-04\n",
      "  2.60883570e-03 4.46465611e-03 1.31294131e-02 7.29925334e-02\n",
      "  1.25046581e-01 8.00346136e-02 5.83033264e-02 1.22301668e-01\n",
      "  1.37623578e-01 1.06948227e-01 5.43446839e-02 1.61158442e-02\n",
      "  1.75390244e-02 5.31786680e-03 3.51065397e-03 1.86696649e-03\n",
      "  2.73492932e-03 1.24019384e-03 1.34786963e-03 1.07866526e-03\n",
      "  1.22559071e-03 1.17897987e-03 1.20082498e-03 1.03333592e-03\n",
      "  1.05419755e-03 8.98480415e-04 1.35332346e-03 7.68363476e-04\n",
      "  9.76085663e-04 2.16788054e-03 3.34328413e-03 4.75960970e-03\n",
      "  3.11788917e-03 7.89844990e-03 6.17426634e-03 6.12017512e-03\n",
      "  8.14026594e-03 4.54008579e-03 2.96229124e-03 2.91013718e-03\n",
      "  3.01054120e-03 2.72965431e-03 1.54954195e-03 1.53282285e-03\n",
      "  1.06728077e-03 1.37019157e-03 9.29743052e-04 1.44678354e-03\n",
      "  1.16804242e-03 9.48250294e-04 9.63598490e-04 7.21216202e-04\n",
      "  9.82999802e-04 1.35326385e-03 8.29488039e-04 8.63283873e-04\n",
      "  7.69227743e-04 1.35487318e-03 6.50376081e-04 8.54253769e-04\n",
      "  1.86303258e-03 4.05478477e-03 5.32129407e-03 3.20306420e-03\n",
      "  2.44179368e-03 3.07199359e-03 2.06118822e-03 1.87638402e-03\n",
      "  3.94877791e-03 2.72884965e-03 2.41887569e-03 2.05025077e-03\n",
      "  1.01709366e-03 8.53627920e-04 8.93265009e-04 9.17732716e-04\n",
      "  9.07510519e-04 9.54031944e-04 9.07570124e-04 8.63283873e-04]], shape=(1, 784), dtype=float32)\n"
     ]
    }
   ],
   "source": [
    "hh0_p = tf.nn.sigmoid(tf.matmul(sample_case, W) + hb)\n",
    "hh0_s = tf.round(hh0_p)\n",
    "\n",
    "print(\"Probability nodes in hidden layer:\" ,hh0_p)\n",
    "print(\"activated nodes in hidden layer:\" ,hh0_s)\n",
    "\n",
    "# reconstruct\n",
    "vv1_p = tf.nn.sigmoid(tf.matmul(hh0_s, tf.transpose(W)) + vb)\n",
    "\n",
    "print(vv1_p)\n",
    "#rec_prob = sess.run(vv1_p, feed_dict={ hh0_s: hh0_s_val, W: prv_w, vb: prv_vb})"
   ]
  },
  {
   "cell_type": "markdown",
   "metadata": {},
   "source": [
    "Here we plot the reconstructed image:\n"
   ]
  },
  {
   "cell_type": "code",
   "execution_count": 26,
   "metadata": {},
   "outputs": [
    {
     "data": {
      "image/png": "[encoded data removed]",
      "text/plain": [
       "<Figure size 400x400 with 1 Axes>"
      ]
     },
     "metadata": {},
     "output_type": "display_data"
    }
   ],
   "source": [
    "img = Image.fromarray(tile_raster_images(X=vv1_p.numpy(), img_shape=(28, 28),tile_shape=(1, 1), tile_spacing=(1, 1)))\n",
    "plt.rcParams['figure.figsize'] = (4.0, 4.0)\n",
    "imgplot = plt.imshow(img)\n",
    "imgplot.set_cmap('gray') "
   ]
  },
  {
   "cell_type": "markdown",
   "metadata": {},
   "source": [
    "### References:\n",
    "https://en.wikipedia.org/wiki/Restricted_Boltzmann_machine  \n",
    "http://deeplearning.net/tutorial/rbm.html  \n",
    "http://www.cs.utoronto.ca/~hinton/absps/netflixICML.pdf<br>\n",
    "http://imonad.com/rbm/restricted-boltzmann-machine/  \n"
   ]
  }
 ],
 "metadata": {
  "kernelspec": {
   "display_name": "Python",
   "language": "python",
   "name": "conda-env-python-py"
  },
  "language_info": {
   "codemirror_mode": {
    "name": "ipython",
    "version": 3
   },
   "file_extension": ".py",
   "mimetype": "text/x-python",
   "name": "python",
   "nbconvert_exporter": "python",
   "pygments_lexer": "ipython3",
   "version": "3.7.12"
  }
 },
 "nbformat": 4,
 "nbformat_minor": 4
}
