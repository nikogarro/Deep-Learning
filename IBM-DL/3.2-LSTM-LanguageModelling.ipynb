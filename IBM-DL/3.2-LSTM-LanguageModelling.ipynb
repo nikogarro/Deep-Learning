{
 "cells": [
  {
   "cell_type": "markdown",
   "metadata": {},
   "source": [
    "<img src=\"https://cf-courses-data.s3.us.cloud-object-storage.appdomain.cloud/IBMDeveloperSkillsNetwork-DL0120EN-SkillsNetwork/images/IDSN-logo.png\" width=\"300\" alt=\"cognitiveclass.ai logo\">\n",
    "\n",
    "<h1 align=\"center\"><font size=\"5\">RECURRENT NETWORKS and LSTM IN DEEP LEARNING</font></h1>\n"
   ]
  },
  {
   "cell_type": "markdown",
   "metadata": {},
   "source": [
    "<h2>Applying Recurrent Neural Networks/LSTM for Language Modeling</h2>\n",
    "Hello and welcome to this part. In this notebook, we will go over the topic of Language Modelling, and create a Recurrent Neural Network model based on the Long Short-Term Memory unit to train and benchmark on the Penn Treebank dataset. By the end of this notebook, you should be able to understand how TensorFlow builds and executes a RNN model for Language Modelling.\n"
   ]
  },
  {
   "cell_type": "markdown",
   "metadata": {},
   "source": [
    "<h2>The Objective</h2>\n",
    "By now, you should have an understanding of how Recurrent Networks work -- a specialized model to process sequential data by keeping track of the \"state\" or context. In this notebook, we go over a TensorFlow code snippet for creating a model focused on <b>Language Modelling</b> -- a very relevant task that is the cornerstone of many different linguistic problems such as <b>Speech Recognition, Machine Translation and Image Captioning</b>. For this, we will be using the Penn Treebank dataset, which is an often-used dataset for benchmarking Language Modelling models.\n"
   ]
  },
  {
   "cell_type": "markdown",
   "metadata": {},
   "source": [
    "<h3>Objectives<h3>    \n",
    "<h5> 1. What exactly is Language Modelling? </h5>\n",
    "<h5> 2. Work Embedding. </h5>\n",
    "<h5> 3. Applying Recurrent Neural Networks to Text Processing. </h5>\n",
    "<h5> 4. Building the LSTM model for Language Modeling. </h5>     \n"
   ]
  },
  {
   "cell_type": "markdown",
   "metadata": {},
   "source": [
    "<h2>Table of Contents</h2>\n",
    "<ol>\n",
    "    <li><a href=\"#language_modelling\">What exactly is Language Modelling?</a></li>\n",
    "    <li><a href=\"#treebank_dataset\">The Penn Treebank dataset</a></li>\n",
    "    <li><a href=\"#word_embedding\">Word Embedding</a></li>\n",
    "    <li><a href=\"#building_lstm_model\">Building the LSTM model for Language Modeling</a></li>\n",
    "    <li><a href=\"#ltsm\">LTSM</a></li>\n",
    "</ol>\n",
    "<p></p>\n",
    "</div>\n",
    "<br>\n"
   ]
  },
  {
   "cell_type": "markdown",
   "metadata": {},
   "source": [
    "* * *\n"
   ]
  },
  {
   "cell_type": "markdown",
   "metadata": {},
   "source": [
    "<a id=\"language_modelling\"></a>\n",
    "\n",
    "<h2>What exactly is Language Modelling?</h2>\n",
    "Language Modelling, to put it simply, <b>is the task of assigning probabilities to sequences of words</b>. This means that, given a context of one or a sequence of words in the language the model was trained on, the model should provide the next most probable words or sequence of words that follows from the given sequence of words the sentence. Language Modelling is one of the most important tasks in Natural Language Processing.\n",
    "\n",
    "<img src=\"https://ibm.box.com/shared/static/1d1i5gub6wljby2vani2vzxp0xsph702.png\" width=\"1080\">\n",
    "<center><i>Example of a sentence being predicted</i></center>\n",
    "<br><br>\n",
    "In this example, one can see the predictions for the next word of a sentence, given the context \"This is an\". As you can see, this boils down to a sequential data analysis task -- you are given a word or a sequence of words (the input data), and, given the context (the state), you need to find out what is the next word (the prediction). This kind of analysis is very important for language-related tasks such as <b>Speech Recognition, Machine Translation, Image Captioning, Text Correction</b> and many other very relevant problems. \n",
    "\n",
    "<img src=\"https://ibm.box.com/shared/static/az39idf9ipfdpc5ugifpgxnydelhyf3i.png\" width=\"1080\">\n",
    "<center><i>The above example is a schema of an RNN in execution</i></center>\n",
    "<br><br>\n",
    "As the above image shows, Recurrent Network models fit this problem like a glove. Alongside LSTM and its capacity to maintain the model's state for over one thousand time steps, we have all the tools we need to undertake this problem. The goal for this notebook is to create a model that can reach <b>low levels of perplexity</b> on our desired dataset.\n",
    "\n",
    "For Language Modelling problems, <b>perplexity</b> is the way to gauge efficiency. Perplexity is simply a measure of how well a probabilistic model is able to predict its sample. A higher-level way to explain this would be saying that <b>low perplexity means a higher degree of trust in the predictions the model makes</b>. Therefore, the lower perplexity is, the better.\n"
   ]
  },
  {
   "cell_type": "markdown",
   "metadata": {},
   "source": [
    "<a id=\"treebank_dataset\"></a>\n",
    "\n",
    "<h2>The Penn Treebank dataset</h2>\n",
    "Historically, datasets big enough for Natural Language Processing are hard to come by. This is in part due to the necessity of the sentences to be broken down and tagged with a certain degree of correctness -- or else the models trained on it won't be able to be correct at all. This means that we need a <b>large amount of data, annotated by or at least corrected by humans</b>. This is, of course, not an easy task at all.\n",
    "\n",
    "The Penn Treebank, or PTB for short, is a dataset maintained by the University of Pennsylvania. It is <i>huge</i> -- there are over <b>four million and eight hundred thousand</b> annotated words in it, all corrected by humans. It is composed of many different sources, from abstracts of Department of Energy papers to texts from the Library of America. Since it is verifiably correct and of such a huge size, the Penn Treebank is commonly used as a benchmark dataset for Language Modelling.\n",
    "\n",
    "The dataset is divided in different kinds of annotations, such as Piece-of-Speech, Syntactic and Semantic skeletons. For this example, we will simply use a sample of clean, non-annotated words (with the exception of one tag --<code>&lt;unk></code>\n",
    ", which is used for rare words such as uncommon proper nouns) for our model. This means that we just want to predict what the next words would be, not what they mean in context or their classes on a given sentence.\n",
    "\n",
    "<center>Example of text from the dataset we are going to use, <b>ptb.train</b></center>\n",
    "<br><br>\n",
    "\n",
    "<div class=\"alert alert-block alert-info\" style=\"margin-top: 20px\">\n",
    "    <center>the percentage of lung cancer deaths among the workers at the west <code>&lt;unk&gt;</code> mass. paper factory appears to be the highest for any asbestos workers studied in western industrialized countries he said \n",
    " the plant which is owned by <code>&lt;unk&gt;</code> & <code>&lt;unk&gt;</code> co. was under contract with <code>&lt;unk&gt;</code> to make the cigarette filters \n",
    " the finding probably will support those who argue that the U.S. should regulate the class of asbestos including <code>&lt;unk&gt;</code> more <code>&lt;unk&gt;</code> than the common kind of asbestos <code>&lt;unk&gt;</code> found in most schools and other buildings dr. <code>&lt;unk&gt;</code> said</center>\n",
    "</div>\n"
   ]
  },
  {
   "cell_type": "markdown",
   "metadata": {},
   "source": [
    "<a id=\"word_embedding\"></a>\n",
    "\n",
    "<h2>Word Embeddings</h2><br/>\n",
    "\n",
    "For better processing, in this example, we will make use of <a href=\"https://www.tensorflow.org/tutorials/word2vec/?utm_medium=Exinfluencer&utm_source=Exinfluencer&utm_content=000026UJ&utm_term=10006555&utm_id=NA-SkillsNetwork-Channel-SkillsNetworkCoursesIBMDeveloperSkillsNetworkDL0120ENSkillsNetwork954-2022-01-01\"><b>word embeddings</b></a>, which is <b>a way of representing sentence structures or words as n-dimensional vectors (where n is a reasonably high number, such as 200 or 500) of real numbers</b>. Basically, we will assign each word a randomly-initialized vector, and input those into the network to be processed. After a number of iterations, these vectors are expected to assume values that help the network to correctly predict what it needs to -- in our case, the probable next word in the sentence. This is shown to be a very effective task in Natural Language Processing, and is a commonplace practice.\n",
    "<br><br>\n",
    "<font size=\"4\"><strong>\n",
    "$$Vec(\"Example\") = [0.02, 0.00, 0.00, 0.92, 0.30, \\ldots]$$\n",
    "</strong></font>\n",
    "<br>\n",
    "Word Embedding tends to group up similarly used words <i>reasonably</i> close together in the vectorial space. For example, if we use T-SNE (a dimensional reduction visualization algorithm) to flatten the dimensions of our vectors into a 2-dimensional space and plot these words in a 2-dimensional space, we might see something like this:\n",
    "\n",
    "<img src=\"https://ibm.box.com/shared/static/bqhc5dg879gcoabzhxra1w8rkg3od1cu.png\" width=\"800\">\n",
    "<center><i>T-SNE Mockup with clusters marked for easier visualization</i></center>\n",
    "<br><br>\n",
    "As you can see, words that are frequently used together, in place of each other, or in the same places as them tend to be grouped together -- being closer together the higher they are correlated. For example, \"None\" is pretty semantically close to \"Zero\", while a phrase that uses \"Italy\", you could probably also fit \"Germany\" in it, with little damage to the sentence structure. The vectorial \"closeness\" for similar words like this is a great indicator of a well-built model.\n",
    "\n",
    "<hr>\n",
    " \n"
   ]
  },
  {
   "cell_type": "markdown",
   "metadata": {},
   "source": [
    "We need to import the necessary modules for our code. We need <b><code>numpy</code></b> and <b><code>tensorflow</code></b>, obviously. Additionally, we can import directly the <b><code>tensorflow.models.rnn</code></b> model, which includes the function for building RNNs, and <b><code>tensorflow.models.rnn.ptb.reader</code></b> which is the helper module for getting the input data from the dataset we just downloaded.\n",
    "\n",
    "If you want to learn more take a look at <https://github.com/tensorflow/models/blob/master/tutorials/rnn/ptb/reader.py>\n"
   ]
  },
  {
   "cell_type": "code",
   "execution_count": null,
   "metadata": {},
   "outputs": [],
   "source": [
    "!pip install tensorflow==2.6.0rc0\n",
    "!pip install numpy==1.21.4"
   ]
  },
  {
   "cell_type": "code",
   "execution_count": 1,
   "metadata": {},
   "outputs": [
    {
     "name": "stderr",
     "output_type": "stream",
     "text": [
      "2023-02-05 14:07:02.905216: W tensorflow/stream_executor/platform/default/dso_loader.cc:64] Could not load dynamic library 'libcudart.so.11.0'; dlerror: libcudart.so.11.0: cannot open shared object file: No such file or directory\n",
      "2023-02-05 14:07:02.905345: I tensorflow/stream_executor/cuda/cudart_stub.cc:29] Ignore above cudart dlerror if you do not have a GPU set up on your machine.\n"
     ]
    }
   ],
   "source": [
    "import time\n",
    "import numpy as np\n",
    "import tensorflow as tf\n",
    "if not tf.__version__ == '2.6.0-rc0':\n",
    "    print(tf.__version__)\n",
    "    raise ValueError('please upgrade to TensorFlow 2.6.0-rc0, or restart your Kernel (Kernel->Restart & Clear Output)')"
   ]
  },
  {
   "cell_type": "markdown",
   "metadata": {},
   "source": [
    "IMPORTANT! => Please restart the kernel by clicking on \"Kernel\"->\"Restart and Clear Outout\" and wait until all output disapears. Then your changes are beeing picked up\n"
   ]
  },
  {
   "cell_type": "code",
   "execution_count": 2,
   "metadata": {},
   "outputs": [
    {
     "name": "stdout",
     "output_type": "stream",
     "text": [
      "mkdir: cannot create directory ‘data’: File exists\n",
      "Archive:  data/ptb.zip\n",
      "  inflating: data/ptb/reader.py      \n"
     ]
    }
   ],
   "source": [
    "!mkdir data\n",
    "!wget -q -O data/ptb.zip https://cf-courses-data.s3.us.cloud-object-storage.appdomain.cloud/IBM-ML241EN-SkillsNetwork/labs/datasets/ptb.zip\n",
    "!unzip -o data/ptb.zip -d data\n",
    "!cp data/ptb/reader.py . "
   ]
  },
  {
   "cell_type": "code",
   "execution_count": 3,
   "metadata": {},
   "outputs": [],
   "source": [
    "import reader"
   ]
  },
  {
   "cell_type": "markdown",
   "metadata": {},
   "source": [
    "<a id=\"building_lstm_model\"></a>\n",
    "\n",
    "<h2>Building the LSTM model for Language Modeling</h2>\n",
    "Now that we know exactly what we are doing, we can start building our model using TensorFlow. The very first thing we need to do is download and extract the <code>simple-examples</code> dataset, which can be done by executing the code cell below.\n"
   ]
  },
  {
   "cell_type": "code",
   "execution_count": 4,
   "metadata": {},
   "outputs": [
    {
     "name": "stdout",
     "output_type": "stream",
     "text": [
      "--2023-02-05 14:07:27--  http://www.fit.vutbr.cz/~imikolov/rnnlm/simple-examples.tgz\n",
      "Resolving www.fit.vutbr.cz (www.fit.vutbr.cz)... 147.229.9.23, 2001:67c:1220:809::93e5:917\n",
      "Connecting to www.fit.vutbr.cz (www.fit.vutbr.cz)|147.229.9.23|:80... connected.\n",
      "HTTP request sent, awaiting response... 200 OK\n",
      "Length: 34869662 (33M) [application/x-gtar]\n",
      "Saving to: ‘simple-examples.tgz.1’\n",
      "\n",
      "simple-examples.tgz 100%[===================>]  33.25M  8.90MB/s    in 3.9s    \n",
      "\n",
      "2023-02-05 14:07:32 (8.48 MB/s) - ‘simple-examples.tgz.1’ saved [34869662/34869662]\n",
      "\n"
     ]
    }
   ],
   "source": [
    "!wget http://www.fit.vutbr.cz/~imikolov/rnnlm/simple-examples.tgz \n",
    "!tar xzf simple-examples.tgz -C data/"
   ]
  },
  {
   "cell_type": "markdown",
   "metadata": {},
   "source": [
    "Additionally, for the sake of making it easy to play around with the model's hyperparameters, we can declare them beforehand. Feel free to change these -- you will see a difference in performance each time you change those!  \n"
   ]
  },
  {
   "cell_type": "code",
   "execution_count": 5,
   "metadata": {},
   "outputs": [],
   "source": [
    "#Initial weight scale\n",
    "init_scale = 0.1\n",
    "#Initial learning rate\n",
    "learning_rate = 1.0\n",
    "#Maximum permissible norm for the gradient (For gradient clipping -- another measure against Exploding Gradients)\n",
    "max_grad_norm = 5\n",
    "#The number of layers in our model\n",
    "num_layers = 2\n",
    "#The total number of recurrence steps, also known as the number of layers when our RNN is \"unfolded\"\n",
    "num_steps = 20\n",
    "#The number of processing units (neurons) in the hidden layers\n",
    "hidden_size_l1 = 256\n",
    "hidden_size_l2 = 128\n",
    "#The maximum number of epochs trained with the initial learning rate\n",
    "max_epoch_decay_lr = 4\n",
    "#The total number of epochs in training\n",
    "max_epoch = 15\n",
    "#The probability for keeping data in the Dropout Layer (This is an optimization, but is outside our scope for this notebook!)\n",
    "#At 1, we ignore the Dropout Layer wrapping.\n",
    "keep_prob = 1\n",
    "#The decay for the learning rate\n",
    "decay = 0.5\n",
    "#The size for each batch of data\n",
    "batch_size = 30\n",
    "#The size of our vocabulary\n",
    "vocab_size = 10000\n",
    "embeding_vector_size= 200\n",
    "#Training flag to separate training from testing\n",
    "is_training = 1\n",
    "#Data directory for our dataset\n",
    "data_dir = \"data/simple-examples/data/\""
   ]
  },
  {
   "cell_type": "markdown",
   "metadata": {},
   "source": [
    "Some clarifications for LSTM architecture based on the arguments:\n",
    "\n",
    "Network structure:\n",
    "\n",
    "<ul>\n",
    "    <li>In this network, the number of LSTM cells are 2. To give the model more expressive power, we can add multiple layers of LSTMs to process the data. The output of the first layer will become the input of the second and so on.\n",
    "    </li>\n",
    "    <li>The recurrence steps is 20, that is, when our RNN is \"Unfolded\", the recurrence step is 20.</li>   \n",
    "    <li>the structure is like:\n",
    "        <ul>\n",
    "            <li>200 input units -> [200x200] Weight -> 200 Hidden units (first layer) -> [200x200] Weight matrix  -> 200 Hidden units (second layer) ->  [200] weight Matrix -> 200 unit output</li>\n",
    "        </ul>\n",
    "    </li>\n",
    "</ul>\n",
    "<br>\n",
    "\n",
    "Input layer: \n",
    "\n",
    "<ul>\n",
    "    <li>The network has 200 input units.</li>\n",
    "    <li>Suppose each word is represented by an embedding vector of dimensionality e=200. The input layer of each cell will have 200 linear units. These e=200 linear units are connected to each of the h=200 LSTM units in the hidden layer (assuming there is only one hidden layer, though our case has 2 layers).\n",
    "    </li>\n",
    "    <li>The input shape is [batch_size, num_steps], that is [30x20]. It will turn into [30x20x200] after embedding, and then 20x[30x200]\n",
    "    </li>\n",
    "</ul>\n",
    "<br>\n",
    "\n",
    "Hidden layer:\n",
    "\n",
    "<ul>\n",
    "    <li>Each LSTM has 200 hidden units which is equivalent to the dimensionality of the embedding words and output.</li>\n",
    "</ul>\n",
    "<br>\n"
   ]
  },
  {
   "cell_type": "markdown",
   "metadata": {},
   "source": [
    "There is a lot to be done and a ton of information to process at the same time, so go over this code slowly. It may seem complex at first, but if you try to apply what you just learned about language modelling to the code you see, you should be able to understand it.\n",
    "\n",
    "This code is adapted from the <a href=\"https://github.com/tensorflow/models\">PTBModel</a> example bundled with the TensorFlow source code.\n",
    "\n",
    "<h3>Training data</h3>\n",
    "The story starts from data:\n",
    "<ul>\n",
    "    <li>Train data is a list of words, of size 929589, represented by numbers, e.g. [9971, 9972, 9974, 9975,...]</li>\n",
    "    <li>We read data as mini-batch of size b=30. Assume the size of each sentence is 20 words (num_steps = 20). Then it will take $$floor(\\frac{N}{b \\times h})+1=1548$$ iterations for the learner to go through all sentences once. Where N is the size of the list of words, b is batch size, and h is size of each sentence. So, the number of iterators is 1548\n",
    "    </li>\n",
    "    <li>Each batch data is read from train dataset of size 600, and shape of [30x20]</li>\n",
    "</ul>\n"
   ]
  },
  {
   "cell_type": "code",
   "execution_count": 6,
   "metadata": {},
   "outputs": [],
   "source": [
    "# Reads the data and separates it into training data, validation data and testing data\n",
    "raw_data = reader.ptb_raw_data(data_dir)\n",
    "train_data, valid_data, test_data, vocab, word_to_id = raw_data"
   ]
  },
  {
   "cell_type": "code",
   "execution_count": 7,
   "metadata": {},
   "outputs": [
    {
     "data": {
      "text/plain": [
       "929589"
      ]
     },
     "execution_count": 7,
     "metadata": {},
     "output_type": "execute_result"
    }
   ],
   "source": [
    "len(train_data)"
   ]
  },
  {
   "cell_type": "code",
   "execution_count": 8,
   "metadata": {},
   "outputs": [
    {
     "name": "stdout",
     "output_type": "stream",
     "text": [
      "['aer', 'banknote', 'berlitz', 'calloway', 'centrust', 'cluett', 'fromstein', 'gitano', 'guterman', 'hydro-quebec', 'ipo', 'kia', 'memotec', 'mlx', 'nahb', 'punts', 'rake', 'regatta', 'rubens', 'sim', 'snack-food', 'ssangyong', 'swapo', 'wachter', '<eos>', 'pierre', '<unk>', 'N', 'years', 'old', 'will', 'join', 'the', 'board', 'as', 'a', 'nonexecutive', 'director', 'nov.', 'N', '<eos>', 'mr.', '<unk>', 'is', 'chairman', 'of', '<unk>', 'n.v.', 'the', 'dutch', 'publishing', 'group', '<eos>', 'rudolph', '<unk>', 'N', 'years', 'old', 'and', 'former', 'chairman', 'of', 'consolidated', 'gold', 'fields', 'plc', 'was', 'named', 'a', 'nonexecutive', 'director', 'of', 'this', 'british', 'industrial', 'conglomerate', '<eos>', 'a', 'form', 'of', 'asbestos', 'once', 'used', 'to', 'make', 'kent', 'cigarette', 'filters', 'has', 'caused', 'a', 'high', 'percentage', 'of', 'cancer', 'deaths', 'among', 'a', 'group', 'of']\n"
     ]
    }
   ],
   "source": [
    "def id_to_word(id_list):\n",
    "    line = []\n",
    "    for w in id_list:\n",
    "        for word, wid in word_to_id.items():\n",
    "            if wid == w:\n",
    "                line.append(word)\n",
    "    return line\n",
    "\n",
    "\n",
    "print(id_to_word(train_data[0:100]))"
   ]
  },
  {
   "cell_type": "markdown",
   "metadata": {},
   "source": [
    "Lets just read one mini-batch now and feed our network:\n"
   ]
  },
  {
   "cell_type": "code",
   "execution_count": 9,
   "metadata": {},
   "outputs": [],
   "source": [
    "itera = reader.ptb_iterator(train_data, batch_size, num_steps)\n",
    "first_touple = itera.__next__()\n",
    "_input_data = first_touple[0]\n",
    "_targets = first_touple[1]"
   ]
  },
  {
   "cell_type": "code",
   "execution_count": 10,
   "metadata": {},
   "outputs": [
    {
     "data": {
      "text/plain": [
       "(30, 20)"
      ]
     },
     "execution_count": 10,
     "metadata": {},
     "output_type": "execute_result"
    }
   ],
   "source": [
    "_input_data.shape"
   ]
  },
  {
   "cell_type": "code",
   "execution_count": 11,
   "metadata": {},
   "outputs": [
    {
     "data": {
      "text/plain": [
       "(30, 20)"
      ]
     },
     "execution_count": 11,
     "metadata": {},
     "output_type": "execute_result"
    }
   ],
   "source": [
    "_targets.shape"
   ]
  },
  {
   "cell_type": "markdown",
   "metadata": {},
   "source": [
    "Lets look at 3 sentences of our input x:\n"
   ]
  },
  {
   "cell_type": "code",
   "execution_count": 12,
   "metadata": {},
   "outputs": [
    {
     "data": {
      "text/plain": [
       "array([[9970, 9971, 9972, 9974, 9975, 9976, 9980, 9981, 9982, 9983, 9984,\n",
       "        9986, 9987, 9988, 9989, 9991, 9992, 9993, 9994, 9995],\n",
       "       [2654,    6,  334, 2886,    4,    1,  233,  711,  834,   11,  130,\n",
       "         123,    7,  514,    2,   63,   10,  514,    8,  605],\n",
       "       [   0, 1071,    4,    0,  185,   24,  368,   20,   31, 3109,  954,\n",
       "          12,    3,   21,    2, 2915,    2,   12,    3,   21]],\n",
       "      dtype=int32)"
      ]
     },
     "execution_count": 12,
     "metadata": {},
     "output_type": "execute_result"
    }
   ],
   "source": [
    "_input_data[0:3]"
   ]
  },
  {
   "cell_type": "code",
   "execution_count": 13,
   "metadata": {},
   "outputs": [
    {
     "name": "stdout",
     "output_type": "stream",
     "text": [
      "['aer', 'banknote', 'berlitz', 'calloway', 'centrust', 'cluett', 'fromstein', 'gitano', 'guterman', 'hydro-quebec', 'ipo', 'kia', 'memotec', 'mlx', 'nahb', 'punts', 'rake', 'regatta', 'rubens', 'sim']\n"
     ]
    }
   ],
   "source": [
    "print(id_to_word(_input_data[0,:]))"
   ]
  },
  {
   "cell_type": "markdown",
   "metadata": {},
   "source": [
    "<h3>Embeddings</h3>\n",
    "We have to convert the words in our dataset to vectors of numbers. The traditional approach is to use one-hot encoding method that is usually used for converting categorical values to numerical values. However, One-hot encoded vectors are high-dimensional, sparse and in a big dataset, computationally inefficient. So, we use word2vec approach. It is, in fact, a layer in our LSTM network, where the word IDs will be represented as a dense representation before feeding to the LSTM. \n",
    "\n",
    "The embedded vectors also get updated during the training process of the deep neural network.\n",
    "We create the embeddings for our input data. <b>embedding_vocab</b> is matrix of [10000x200] for all 10000 unique words.\n"
   ]
  },
  {
   "cell_type": "markdown",
   "metadata": {},
   "source": [
    "<b>embedding_lookup()</b> finds the embedded values for our batch of 30x20 words. It  goes to each row of <code>input_data</code>, and for each word in the row/sentence, finds the correspond vector in <code>embedding_dic<code>. <br>\n",
    "It creates a [30x20x200] tensor, so, the first element of <b>inputs</b> (the first sentence), is a matrix of 20x200, which each row of it, is vector representing a word in the sentence.\n"
   ]
  },
  {
   "cell_type": "code",
   "execution_count": 14,
   "metadata": {},
   "outputs": [],
   "source": [
    "embedding_layer = tf.keras.layers.Embedding(vocab_size, embeding_vector_size,batch_input_shape=(batch_size, num_steps),trainable=True,name=\"embedding_vocab\")  "
   ]
  },
  {
   "cell_type": "code",
   "execution_count": 15,
   "metadata": {},
   "outputs": [
    {
     "name": "stderr",
     "output_type": "stream",
     "text": [
      "2023-02-05 14:07:48.563850: W tensorflow/stream_executor/platform/default/dso_loader.cc:64] Could not load dynamic library 'libcuda.so.1'; dlerror: libcuda.so.1: cannot open shared object file: No such file or directory\n",
      "2023-02-05 14:07:48.563906: W tensorflow/stream_executor/cuda/cuda_driver.cc:269] failed call to cuInit: UNKNOWN ERROR (303)\n",
      "2023-02-05 14:07:48.563953: I tensorflow/stream_executor/cuda/cuda_diagnostics.cc:156] kernel driver does not appear to be running on this host (jupyterlab-u123nikosgar): /proc/driver/nvidia/version does not exist\n",
      "2023-02-05 14:07:48.564482: I tensorflow/core/platform/cpu_feature_guard.cc:142] This TensorFlow binary is optimized with oneAPI Deep Neural Network Library (oneDNN) to use the following CPU instructions in performance-critical operations:  AVX2 AVX512F FMA\n",
      "To enable them in other operations, rebuild TensorFlow with the appropriate compiler flags.\n"
     ]
    },
    {
     "data": {
      "text/plain": [
       "<tf.Tensor: shape=(30, 20, 200), dtype=float32, numpy=\n",
       "array([[[ 0.01751796, -0.0156462 , -0.02391474, ...,  0.04998997,\n",
       "          0.01679042,  0.01843982],\n",
       "        [-0.03373642,  0.0328359 ,  0.00228202, ...,  0.03335616,\n",
       "         -0.0263387 , -0.04636274],\n",
       "        [-0.00215501,  0.01273927, -0.0067899 , ...,  0.04533095,\n",
       "         -0.03322916,  0.02678556],\n",
       "        ...,\n",
       "        [-0.0416406 , -0.0166442 ,  0.0447599 , ..., -0.03022372,\n",
       "          0.01158959,  0.04427108],\n",
       "        [ 0.04916309, -0.00365357, -0.00143664, ...,  0.03231021,\n",
       "         -0.04555727, -0.03062685],\n",
       "        [-0.04452801, -0.038132  , -0.01554618, ..., -0.03646259,\n",
       "          0.04483551,  0.01238615]],\n",
       "\n",
       "       [[-0.04296657,  0.01719673, -0.00536966, ...,  0.03561494,\n",
       "          0.01038875,  0.01338632],\n",
       "        [ 0.01358037,  0.0351123 , -0.01713234, ...,  0.01402774,\n",
       "          0.01714457, -0.03791821],\n",
       "        [-0.00879403, -0.03499073, -0.04425867, ..., -0.03855557,\n",
       "          0.01704447,  0.01847657],\n",
       "        ...,\n",
       "        [-0.04476402, -0.01214999,  0.00057621, ..., -0.01522006,\n",
       "          0.00514289,  0.04049585],\n",
       "        [ 0.0022939 , -0.00226768, -0.01243145, ..., -0.01627666,\n",
       "         -0.02603716,  0.04470365],\n",
       "        [-0.00981962, -0.00814207, -0.03022271, ...,  0.01450919,\n",
       "          0.01210167,  0.02642461]],\n",
       "\n",
       "       [[ 0.00739037,  0.0137441 ,  0.01337813, ...,  0.04864139,\n",
       "          0.01308105, -0.04375801],\n",
       "        [ 0.03491944,  0.04703059,  0.00099727, ...,  0.01396401,\n",
       "          0.04392601, -0.04071529],\n",
       "        [-0.04025555, -0.03373866,  0.03612086, ..., -0.04558479,\n",
       "          0.00998171, -0.0096956 ],\n",
       "        ...,\n",
       "        [-0.00674937, -0.01133049, -0.03957505, ..., -0.00028672,\n",
       "         -0.04537678,  0.01503141],\n",
       "        [-0.00710876, -0.0271181 , -0.00168016, ...,  0.00257985,\n",
       "         -0.01430513, -0.01844196],\n",
       "        [ 0.04288042,  0.02831972,  0.02283997, ..., -0.02037816,\n",
       "          0.02561413,  0.00628948]],\n",
       "\n",
       "       ...,\n",
       "\n",
       "       [[ 0.0486377 , -0.04490539,  0.02762422, ...,  0.00833451,\n",
       "          0.00612124,  0.00241385],\n",
       "        [-0.00416874,  0.02082937, -0.02658901, ..., -0.03851495,\n",
       "         -0.00852072, -0.01155042],\n",
       "        [ 0.00926219, -0.00860758,  0.01287008, ..., -0.03316607,\n",
       "         -0.00106563,  0.04432715],\n",
       "        ...,\n",
       "        [ 0.00964526,  0.00110855,  0.01749546, ..., -0.02869308,\n",
       "         -0.04729799, -0.02998438],\n",
       "        [-0.02645701,  0.04453485, -0.01911993, ..., -0.03149636,\n",
       "          0.00589739,  0.02199234],\n",
       "        [ 0.01388003, -0.04957065, -0.03407606, ...,  0.03636152,\n",
       "         -0.00609688,  0.00775395]],\n",
       "\n",
       "       [[-0.02354851,  0.00185506, -0.01128999, ...,  0.00599426,\n",
       "          0.03132686,  0.01909422],\n",
       "        [ 0.03824874,  0.04964638,  0.03423412, ..., -0.02716551,\n",
       "          0.03445133, -0.01751769],\n",
       "        [-0.04025555, -0.03373866,  0.03612086, ..., -0.04558479,\n",
       "          0.00998171, -0.0096956 ],\n",
       "        ...,\n",
       "        [ 0.03677576, -0.0361985 ,  0.0045413 , ..., -0.00014146,\n",
       "          0.02520735, -0.03082573],\n",
       "        [ 0.01358037,  0.0351123 , -0.01713234, ...,  0.01402774,\n",
       "          0.01714457, -0.03791821],\n",
       "        [ 0.00225897,  0.02060235, -0.02449032, ..., -0.02702996,\n",
       "          0.00113554, -0.0422245 ]],\n",
       "\n",
       "       [[-0.0050304 , -0.01193487, -0.01544797, ..., -0.0214682 ,\n",
       "         -0.01741068, -0.00139071],\n",
       "        [-0.03997492,  0.01932713, -0.00955032, ..., -0.03382178,\n",
       "          0.03846994, -0.03181282],\n",
       "        [-0.03412741, -0.04606538, -0.00026218, ..., -0.01986587,\n",
       "          0.0115087 , -0.00491923],\n",
       "        ...,\n",
       "        [-0.02032043, -0.02865269, -0.02217277, ..., -0.04162165,\n",
       "         -0.04453069,  0.01502297],\n",
       "        [-0.02423114, -0.00595484, -0.02535497, ..., -0.01511481,\n",
       "         -0.0289818 , -0.03645366],\n",
       "        [-0.04982852, -0.00555942,  0.01860337, ...,  0.03748257,\n",
       "          0.02568254, -0.01547153]]], dtype=float32)>"
      ]
     },
     "execution_count": 15,
     "metadata": {},
     "output_type": "execute_result"
    }
   ],
   "source": [
    "# Define where to get the data for our embeddings from\n",
    "inputs = embedding_layer(_input_data)\n",
    "inputs"
   ]
  },
  {
   "cell_type": "markdown",
   "metadata": {},
   "source": [
    "<h3>Constructing Recurrent Neural Networks</h3>\n"
   ]
  },
  {
   "cell_type": "markdown",
   "metadata": {},
   "source": [
    "In this step, we create the stacked LSTM using <b>tf.keras.layers.StackedRNNCells</b>, which is a 2 layer LSTM network:\n"
   ]
  },
  {
   "cell_type": "code",
   "execution_count": 16,
   "metadata": {},
   "outputs": [],
   "source": [
    "lstm_cell_l1 = tf.keras.layers.LSTMCell(hidden_size_l1)\n",
    "lstm_cell_l2 = tf.keras.layers.LSTMCell(hidden_size_l2)"
   ]
  },
  {
   "cell_type": "code",
   "execution_count": 17,
   "metadata": {},
   "outputs": [],
   "source": [
    "stacked_lstm = tf.keras.layers.StackedRNNCells([lstm_cell_l1, lstm_cell_l2])"
   ]
  },
  {
   "cell_type": "markdown",
   "metadata": {},
   "source": [
    "<b>tf.keras.layers.RNN</b> creates a recurrent neural network using <b>stacked_lstm</b>. \n",
    "\n",
    "The input should be a Tensor of shape: [batch_size, max_time, embedding_vector_size], in our case it would be (30, 20, 200)\n"
   ]
  },
  {
   "cell_type": "code",
   "execution_count": 18,
   "metadata": {},
   "outputs": [],
   "source": [
    "layer  =  tf.keras.layers.RNN(stacked_lstm,[batch_size, num_steps],return_state=False,stateful=True,trainable=True)"
   ]
  },
  {
   "cell_type": "markdown",
   "metadata": {},
   "source": [
    "Also, we initialize the states of the nework:\n",
    "\n",
    "<h4>_initial_state</h4>\n",
    "\n",
    "For each LSTM, there are 2 state matrices, c_state and m_state.  c_state and m_state represent \"Memory State\" and \"Cell State\". Each hidden layer, has a vector of size 30, which keeps the states. so, for 200 hidden units in each LSTM, we have a matrix of size [30x200]\n"
   ]
  },
  {
   "cell_type": "code",
   "execution_count": 19,
   "metadata": {},
   "outputs": [],
   "source": [
    "init_state = tf.Variable(tf.zeros([batch_size,embeding_vector_size]),trainable=False)"
   ]
  },
  {
   "cell_type": "code",
   "execution_count": 20,
   "metadata": {},
   "outputs": [],
   "source": [
    "layer.inital_state = init_state"
   ]
  },
  {
   "cell_type": "code",
   "execution_count": 21,
   "metadata": {},
   "outputs": [
    {
     "data": {
      "text/plain": [
       "<tf.Variable 'Variable:0' shape=(30, 200) dtype=float32, numpy=\n",
       "array([[0., 0., 0., ..., 0., 0., 0.],\n",
       "       [0., 0., 0., ..., 0., 0., 0.],\n",
       "       [0., 0., 0., ..., 0., 0., 0.],\n",
       "       ...,\n",
       "       [0., 0., 0., ..., 0., 0., 0.],\n",
       "       [0., 0., 0., ..., 0., 0., 0.],\n",
       "       [0., 0., 0., ..., 0., 0., 0.]], dtype=float32)>"
      ]
     },
     "execution_count": 21,
     "metadata": {},
     "output_type": "execute_result"
    }
   ],
   "source": [
    "layer.inital_state"
   ]
  },
  {
   "cell_type": "markdown",
   "metadata": {},
   "source": [
    "so, lets look at the outputs. The output of the stackedLSTM comes from 128 hidden_layer, and in each time step(=20), one of them get activated. we use the linear activation to map the 128 hidden layer to a [30X20 matrix]\n"
   ]
  },
  {
   "cell_type": "code",
   "execution_count": 22,
   "metadata": {},
   "outputs": [],
   "source": [
    "outputs = layer(inputs)"
   ]
  },
  {
   "cell_type": "code",
   "execution_count": 23,
   "metadata": {},
   "outputs": [
    {
     "data": {
      "text/plain": [
       "<tf.Tensor: shape=(30, 20, 128), dtype=float32, numpy=\n",
       "array([[[-1.0570767e-03,  1.0325654e-03, -7.5729319e-04, ...,\n",
       "          2.0272860e-04, -7.4936179e-05,  2.2071386e-03],\n",
       "        [-3.7169624e-03,  3.1052163e-04, -2.1040004e-03, ...,\n",
       "         -2.2537122e-04, -7.8547176e-04,  2.3976709e-03],\n",
       "        [-5.1301746e-03, -8.1151654e-04, -2.7142698e-03, ...,\n",
       "          1.7089777e-03, -1.5515318e-03,  1.7824610e-03],\n",
       "        ...,\n",
       "        [-2.8040526e-03,  5.2199629e-03,  6.2336135e-03, ...,\n",
       "         -2.2841806e-03, -6.6103418e-03,  2.7081291e-03],\n",
       "        [-1.8650485e-03,  2.6056007e-03,  5.7362942e-03, ...,\n",
       "         -1.7500643e-04, -7.0590228e-03,  2.7513332e-03],\n",
       "        [-1.3767059e-03,  8.3509157e-04,  5.8969515e-03, ...,\n",
       "          1.5913238e-03, -7.2830468e-03,  3.2726452e-03]],\n",
       "\n",
       "       [[ 6.3912637e-05,  7.8635657e-04, -2.5306889e-04, ...,\n",
       "         -1.7513089e-03, -7.1450660e-05,  1.1640292e-03],\n",
       "        [-1.5749711e-03, -7.0187880e-04, -1.1306745e-03, ...,\n",
       "         -2.3922177e-03,  6.8047951e-04,  2.6699493e-04],\n",
       "        [-9.2768867e-04, -9.9240337e-04, -1.8919292e-03, ...,\n",
       "         -1.1079665e-03,  7.8857149e-04, -8.2767372e-05],\n",
       "        ...,\n",
       "        [-5.8891065e-03, -1.8715636e-04,  6.2405299e-03, ...,\n",
       "          1.4746381e-03, -1.1897859e-04,  8.7291356e-03],\n",
       "        [-7.1012056e-03, -7.5197994e-04,  4.1605858e-03, ...,\n",
       "          6.8015908e-04, -1.6206653e-03,  9.6649509e-03],\n",
       "        [-7.2651715e-03, -1.5888996e-03,  2.3614718e-03, ...,\n",
       "         -2.9770299e-06, -2.2015809e-03,  9.3605211e-03]],\n",
       "\n",
       "       [[ 6.4431189e-04, -7.6124648e-04,  2.2468978e-04, ...,\n",
       "          1.2578866e-03, -7.7903934e-04,  7.9487299e-04],\n",
       "        [ 9.8100095e-04, -1.0076303e-03,  1.1373976e-03, ...,\n",
       "          7.0533127e-04, -1.0845320e-03,  2.3412795e-03],\n",
       "        [ 1.6465419e-03, -1.5027408e-03,  2.0568389e-03, ...,\n",
       "          6.6188845e-04, -5.9388252e-04,  3.4462335e-03],\n",
       "        ...,\n",
       "        [ 4.6866864e-04, -2.2916113e-04,  6.0834000e-03, ...,\n",
       "          4.2619826e-03, -3.5199095e-03,  6.3421777e-03],\n",
       "        [ 4.7879555e-04, -5.8203157e-05,  6.2934561e-03, ...,\n",
       "          4.8487671e-03, -3.7552149e-03,  6.8329158e-03],\n",
       "        [ 1.6811473e-03,  4.0707941e-04,  6.8507725e-03, ...,\n",
       "          4.5850412e-03, -3.6363564e-03,  6.4348807e-03]],\n",
       "\n",
       "       ...,\n",
       "\n",
       "       [[ 2.3293735e-04, -6.1313447e-05, -1.3311827e-04, ...,\n",
       "          6.2914746e-04, -5.1027973e-04,  1.6356140e-04],\n",
       "        [-6.6347056e-05, -9.0007129e-04, -1.1636555e-03, ...,\n",
       "          8.6043531e-04, -5.8959273e-04,  5.3101376e-04],\n",
       "        [-1.2833375e-03,  6.1934820e-04, -4.0708386e-04, ...,\n",
       "          9.2147820e-04, -5.1115575e-04,  2.3081251e-03],\n",
       "        ...,\n",
       "        [ 2.2049828e-03, -1.2136096e-03,  1.9986837e-03, ...,\n",
       "         -2.0226894e-03, -4.1633597e-04, -1.0853431e-03],\n",
       "        [ 1.6057879e-03, -3.4305558e-03,  3.7399747e-03, ...,\n",
       "         -2.3463427e-04, -8.7044510e-04, -3.7848775e-04],\n",
       "        [ 1.4809404e-03, -6.0715345e-03,  3.8713622e-03, ...,\n",
       "          2.1287918e-03, -1.1335805e-03, -1.0808883e-03]],\n",
       "\n",
       "       [[-1.1654510e-03,  3.9414209e-04, -1.4722110e-03, ...,\n",
       "         -1.7349892e-03,  1.4347461e-04, -2.6890985e-04],\n",
       "        [-2.3989349e-03, -6.4739393e-04, -2.5404554e-03, ...,\n",
       "         -3.1916406e-03,  1.1161513e-03, -3.6087280e-04],\n",
       "        [-2.7830070e-03, -1.7737837e-03, -2.5651481e-03, ...,\n",
       "         -3.3486488e-03,  2.4515779e-03, -5.6985795e-05],\n",
       "        ...,\n",
       "        [-4.6792004e-05, -1.7606061e-03, -2.0140158e-03, ...,\n",
       "          6.4399312e-03, -4.4020498e-03, -5.9765051e-03],\n",
       "        [-6.0649717e-04, -3.0970306e-03, -3.7786232e-03, ...,\n",
       "          7.1521853e-03, -3.9781909e-03, -6.4302552e-03],\n",
       "        [-1.3273552e-03, -3.3884426e-03, -3.8217511e-03, ...,\n",
       "          7.4474365e-03, -4.4659609e-03, -5.5081593e-03]],\n",
       "\n",
       "       [[ 6.3171069e-04, -8.2543382e-05, -1.0171076e-03, ...,\n",
       "         -7.9507532e-05, -1.1162118e-03, -8.0104166e-04],\n",
       "        [ 8.0693932e-04, -6.0964713e-04, -1.3307639e-03, ...,\n",
       "         -6.4796046e-04, -8.5370330e-04, -7.1910536e-04],\n",
       "        [ 9.7083673e-04,  7.4362813e-04, -1.0632412e-03, ...,\n",
       "         -1.6369470e-03, -1.7721883e-03,  7.3346728e-04],\n",
       "        ...,\n",
       "        [ 2.1137425e-03, -3.5067280e-03,  3.2292348e-03, ...,\n",
       "          7.2510545e-03,  4.1362382e-03,  1.1016645e-02],\n",
       "        [ 2.9803128e-03, -3.4208028e-03,  2.6834880e-03, ...,\n",
       "          5.8155796e-03,  6.4478009e-03,  1.1598184e-02],\n",
       "        [ 3.9448109e-03, -4.4820630e-03,  3.9262322e-04, ...,\n",
       "          5.2089179e-03,  7.4110217e-03,  1.1313299e-02]]], dtype=float32)>"
      ]
     },
     "execution_count": 23,
     "metadata": {},
     "output_type": "execute_result"
    }
   ],
   "source": [
    "outputs"
   ]
  },
  {
   "cell_type": "markdown",
   "metadata": {},
   "source": [
    "<h2>Dense layer</h2>\n",
    "We now create densely-connected neural network layer that would reshape the outputs tensor from  [30 x 20 x 128] to [30 x 20 x 10000].\n"
   ]
  },
  {
   "cell_type": "code",
   "execution_count": 24,
   "metadata": {},
   "outputs": [],
   "source": [
    "dense = tf.keras.layers.Dense(vocab_size)"
   ]
  },
  {
   "cell_type": "code",
   "execution_count": 25,
   "metadata": {},
   "outputs": [],
   "source": [
    "logits_outputs  = dense(outputs)"
   ]
  },
  {
   "cell_type": "code",
   "execution_count": 26,
   "metadata": {},
   "outputs": [
    {
     "name": "stdout",
     "output_type": "stream",
     "text": [
      "shape of the output from dense layer:  (30, 20, 10000)\n"
     ]
    }
   ],
   "source": [
    "print(\"shape of the output from dense layer: \", logits_outputs.shape) #(batch_size, sequence_length, vocab_size)"
   ]
  },
  {
   "cell_type": "markdown",
   "metadata": {},
   "source": [
    "<h2>Activation layer</h2>\n",
    "\n",
    "A softmax activation layers is also then applied to derive the probability of the output being in any of the multiclass(10000 in this case) possibilities. \n"
   ]
  },
  {
   "cell_type": "code",
   "execution_count": 27,
   "metadata": {},
   "outputs": [],
   "source": [
    "activation = tf.keras.layers.Activation('softmax')"
   ]
  },
  {
   "cell_type": "code",
   "execution_count": 28,
   "metadata": {},
   "outputs": [],
   "source": [
    "output_words_prob = activation(logits_outputs)"
   ]
  },
  {
   "cell_type": "code",
   "execution_count": 29,
   "metadata": {},
   "outputs": [
    {
     "name": "stdout",
     "output_type": "stream",
     "text": [
      "shape of the output from the activation layer:  (30, 20, 10000)\n"
     ]
    }
   ],
   "source": [
    "print(\"shape of the output from the activation layer: \", output_words_prob.shape) #(batch_size, sequence_length, vocab_size)"
   ]
  },
  {
   "cell_type": "markdown",
   "metadata": {},
   "source": [
    "Lets look at the probability of observing words for t=0 to t=20:\n"
   ]
  },
  {
   "cell_type": "code",
   "execution_count": 30,
   "metadata": {},
   "outputs": [
    {
     "name": "stdout",
     "output_type": "stream",
     "text": [
      "The probability of observing words in t=0 to t=20 tf.Tensor(\n",
      "[[9.99925323e-05 1.00003468e-04 1.00019752e-04 ... 1.00015510e-04\n",
      "  1.00003686e-04 1.00011341e-04]\n",
      " [9.99918702e-05 9.99894255e-05 1.00018267e-04 ... 1.00023259e-04\n",
      "  1.00000623e-04 1.00021054e-04]\n",
      " [9.99896365e-05 9.99751865e-05 1.00031473e-04 ... 1.00008278e-04\n",
      "  9.99974582e-05 1.00006560e-04]\n",
      " ...\n",
      " [9.99424446e-05 9.99751865e-05 1.00041376e-04 ... 9.99694312e-05\n",
      "  1.00102865e-04 9.99261320e-05]\n",
      " [9.99364129e-05 9.99662661e-05 1.00043435e-04 ... 9.99950789e-05\n",
      "  1.00108162e-04 9.99209224e-05]\n",
      " [9.99402837e-05 9.99531912e-05 1.00063466e-04 ... 1.00006007e-04\n",
      "  1.00117788e-04 9.98969190e-05]], shape=(20, 10000), dtype=float32)\n"
     ]
    }
   ],
   "source": [
    "print(\"The probability of observing words in t=0 to t=20\", output_words_prob[0,0:num_steps])"
   ]
  },
  {
   "cell_type": "markdown",
   "metadata": {},
   "source": [
    "<h3>Prediction</h3>\n",
    "What is the word correspond to the probability output? Lets use the maximum probability:\n"
   ]
  },
  {
   "cell_type": "code",
   "execution_count": 31,
   "metadata": {},
   "outputs": [
    {
     "data": {
      "text/plain": [
       "array([5699, 2812, 6738, 6176, 6001, 5196, 4774, 8541, 8541, 4651, 8405,\n",
       "       4651, 4651, 4084, 4651, 4651, 1284, 1284, 4291, 4291])"
      ]
     },
     "execution_count": 31,
     "metadata": {},
     "output_type": "execute_result"
    }
   ],
   "source": [
    "np.argmax(output_words_prob[0,0:num_steps], axis=1)"
   ]
  },
  {
   "cell_type": "markdown",
   "metadata": {},
   "source": [
    "So, what is the ground truth for the first word of first sentence? You can get it from target tensor, if you want to find the embedding vector: \n"
   ]
  },
  {
   "cell_type": "code",
   "execution_count": 32,
   "metadata": {},
   "outputs": [
    {
     "data": {
      "text/plain": [
       "array([9971, 9972, 9974, 9975, 9976, 9980, 9981, 9982, 9983, 9984, 9986,\n",
       "       9987, 9988, 9989, 9991, 9992, 9993, 9994, 9995, 9996], dtype=int32)"
      ]
     },
     "execution_count": 32,
     "metadata": {},
     "output_type": "execute_result"
    }
   ],
   "source": [
    "_targets[0]"
   ]
  },
  {
   "cell_type": "markdown",
   "metadata": {},
   "source": [
    "<h4>Objective function</h4>\n",
    "\n",
    "How similar the predicted words are to the target words?\n",
    "\n",
    "Now we have to define our objective function, to calculate the similarity of predicted values to ground truth, and then, penalize the model with the error. Our objective is to minimize loss function, that is, to minimize the average negative log probability of the target words:\n",
    "\n",
    "$$\\text{loss} = -\\frac{1}{N}\\sum_{i=1}^{N} \\ln p_{\\text{target}\\_i}$$\n",
    "\n",
    "This function is already implemented and available in TensorFlow through _tf.keras.losses.sparse_categorical_crossentropy_. It calculates the categorical cross-entropy loss for <b>logits</b> and the <b>target</b> sequence.  \n",
    "\n",
    "The arguments of this function are:  \n",
    "\n",
    "<ul>\n",
    "    <li>logits: List of 2D Tensors of shape [batch_size x num_decoder_symbols].</li>  \n",
    "    <li>targets: List of 1D batch-sized int32 Tensors of the same length as logits.</li>   \n",
    "</ul>\n"
   ]
  },
  {
   "cell_type": "code",
   "execution_count": 33,
   "metadata": {},
   "outputs": [],
   "source": [
    "def crossentropy(y_true, y_pred):\n",
    "    return tf.keras.losses.sparse_categorical_crossentropy(y_true, y_pred)"
   ]
  },
  {
   "cell_type": "code",
   "execution_count": 34,
   "metadata": {},
   "outputs": [],
   "source": [
    "loss  = crossentropy(_targets, output_words_prob)"
   ]
  },
  {
   "cell_type": "markdown",
   "metadata": {},
   "source": [
    "Lets look at the first 10 values of loss:\n"
   ]
  },
  {
   "cell_type": "code",
   "execution_count": 35,
   "metadata": {},
   "outputs": [
    {
     "data": {
      "text/plain": [
       "<tf.Tensor: shape=(10,), dtype=float32, numpy=\n",
       "array([9.210569, 9.210335, 9.210308, 9.210524, 9.210743, 9.211104,\n",
       "       9.210882, 9.210918, 9.211079, 9.209678], dtype=float32)>"
      ]
     },
     "execution_count": 35,
     "metadata": {},
     "output_type": "execute_result"
    }
   ],
   "source": [
    "loss[0,:10]"
   ]
  },
  {
   "cell_type": "markdown",
   "metadata": {},
   "source": [
    "Now, we define cost as average of the losses:\n"
   ]
  },
  {
   "cell_type": "code",
   "execution_count": 36,
   "metadata": {},
   "outputs": [
    {
     "data": {
      "text/plain": [
       "<tf.Tensor: shape=(), dtype=float32, numpy=184.20628>"
      ]
     },
     "execution_count": 36,
     "metadata": {},
     "output_type": "execute_result"
    }
   ],
   "source": [
    "cost = tf.reduce_sum(loss / batch_size)\n",
    "cost"
   ]
  },
  {
   "cell_type": "markdown",
   "metadata": {},
   "source": [
    "<h3>Training</h3>\n",
    "\n",
    "To do training for our network, we have to take the following steps:\n",
    "\n",
    "<ol>\n",
    "    <li>Define the optimizer.</li>\n",
    "    <li>Assemble layers to build model.</li>\n",
    "    <li>Calculate the gradients based on the loss function.</li>\n",
    "    <li>Apply the optimizer to the variables/gradients tuple.</li>\n",
    "</ol>\n"
   ]
  },
  {
   "cell_type": "markdown",
   "metadata": {},
   "source": [
    "<h4>1. Define Optimizer</h4>\n"
   ]
  },
  {
   "cell_type": "code",
   "execution_count": 37,
   "metadata": {},
   "outputs": [
    {
     "name": "stderr",
     "output_type": "stream",
     "text": [
      "/home/jupyterlab/conda/envs/python/lib/python3.7/site-packages/keras/optimizer_v2/optimizer_v2.py:356: UserWarning: The `lr` argument is deprecated, use `learning_rate` instead.\n",
      "  \"The `lr` argument is deprecated, use `learning_rate` instead.\")\n"
     ]
    }
   ],
   "source": [
    "# Create a variable for the learning rate\n",
    "lr = tf.Variable(0.0, trainable=False)\n",
    "optimizer = tf.keras.optimizers.SGD(lr=lr, clipnorm=max_grad_norm)"
   ]
  },
  {
   "cell_type": "markdown",
   "metadata": {},
   "source": [
    "<h4>2. Assemble layers to build model.</h4>\n"
   ]
  },
  {
   "cell_type": "code",
   "execution_count": 38,
   "metadata": {},
   "outputs": [
    {
     "name": "stdout",
     "output_type": "stream",
     "text": [
      "Model: \"sequential\"\n",
      "_________________________________________________________________\n",
      "Layer (type)                 Output Shape              Param #   \n",
      "=================================================================\n",
      "embedding_vocab (Embedding)  (30, 20, 200)             2000000   \n",
      "_________________________________________________________________\n",
      "rnn (RNN)                    (30, 20, 128)             671088    \n",
      "_________________________________________________________________\n",
      "dense (Dense)                (30, 20, 10000)           1290000   \n",
      "_________________________________________________________________\n",
      "activation (Activation)      (30, 20, 10000)           0         \n",
      "=================================================================\n",
      "Total params: 3,961,088\n",
      "Trainable params: 3,955,088\n",
      "Non-trainable params: 6,000\n",
      "_________________________________________________________________\n"
     ]
    }
   ],
   "source": [
    "model = tf.keras.Sequential()\n",
    "model.add(embedding_layer)\n",
    "model.add(layer)\n",
    "model.add(dense)\n",
    "model.add(activation)\n",
    "model.compile(loss=crossentropy, optimizer=optimizer)\n",
    "model.summary()"
   ]
  },
  {
   "cell_type": "markdown",
   "metadata": {},
   "source": [
    "<h4>2. Trainable Variables</h4>\n"
   ]
  },
  {
   "cell_type": "markdown",
   "metadata": {},
   "source": [
    "Defining a variable, if you passed <i>trainable=True</i>, the variable constructor automatically adds new variables to the graph collection <b>GraphKeys.TRAINABLE_VARIABLES</b>. Now, using <i>tf.trainable_variables()</i> you can get all variables created with <b>trainable=True</b>.\n"
   ]
  },
  {
   "cell_type": "code",
   "execution_count": 39,
   "metadata": {},
   "outputs": [],
   "source": [
    "# Get all TensorFlow variables marked as \"trainable\" (i.e. all of them except _lr, which we just created)\n",
    "tvars = model.trainable_variables"
   ]
  },
  {
   "cell_type": "markdown",
   "metadata": {},
   "source": [
    "Note: we can find the name and scope of all variables:\n"
   ]
  },
  {
   "cell_type": "code",
   "execution_count": 40,
   "metadata": {},
   "outputs": [
    {
     "data": {
      "text/plain": [
       "['embedding_vocab/embeddings:0',\n",
       " 'rnn/stacked_rnn_cells/lstm_cell/kernel:0',\n",
       " 'rnn/stacked_rnn_cells/lstm_cell/recurrent_kernel:0',\n",
       " 'rnn/stacked_rnn_cells/lstm_cell/bias:0',\n",
       " 'rnn/stacked_rnn_cells/lstm_cell_1/kernel:0',\n",
       " 'rnn/stacked_rnn_cells/lstm_cell_1/recurrent_kernel:0',\n",
       " 'rnn/stacked_rnn_cells/lstm_cell_1/bias:0',\n",
       " 'dense/kernel:0',\n",
       " 'dense/bias:0']"
      ]
     },
     "execution_count": 40,
     "metadata": {},
     "output_type": "execute_result"
    }
   ],
   "source": [
    "[v.name for v in tvars] "
   ]
  },
  {
   "cell_type": "markdown",
   "metadata": {},
   "source": [
    "<h4>3. Calculate the gradients based on the loss function</h4>\n"
   ]
  },
  {
   "cell_type": "markdown",
   "metadata": {},
   "source": [
    "**Gradient**: The gradient of a function is the slope of its derivative (line), or in other words, the rate of change of a function. It's a vector (a direction to move) that points in the direction of greatest increase of the function, and calculated by the <b>derivative</b> operation.\n"
   ]
  },
  {
   "cell_type": "markdown",
   "metadata": {},
   "source": [
    "First lets recall the gradient function using an toy example:\n",
    "$$ z = \\left(2x^2 + 3xy\\right)$$\n"
   ]
  },
  {
   "cell_type": "code",
   "execution_count": 41,
   "metadata": {},
   "outputs": [],
   "source": [
    "x = tf.constant(1.0)\n",
    "y =  tf.constant(2.0)\n",
    "with tf.GradientTape(persistent=True) as g:\n",
    "    g.watch(x)\n",
    "    g.watch(y)\n",
    "    func_test = 2 * x * x + 3 * x * y"
   ]
  },
  {
   "cell_type": "markdown",
   "metadata": {},
   "source": [
    "The <b>tf.gradients()</b> function allows you to compute the symbolic gradient of one tensor with respect to one or more other tensors—including variables. <b>tf.gradients(func, xs)</b> constructs symbolic partial derivatives of sum of <b>func</b> w.r.t. <i>x</i> in <b>xs</b>. \n",
    "\n",
    "Now, lets look at the derivitive w.r.t. <b>var_x</b>:\n",
    "$$ \\frac{\\partial \\:}{\\partial \\:x}\\left(2x^2 + 3xy\\right) = 4x + 3y $$\n"
   ]
  },
  {
   "cell_type": "code",
   "execution_count": 42,
   "metadata": {},
   "outputs": [
    {
     "name": "stdout",
     "output_type": "stream",
     "text": [
      "tf.Tensor(10.0, shape=(), dtype=float32)\n"
     ]
    }
   ],
   "source": [
    "var_grad = g.gradient(func_test, x) # Will compute to 10.0\n",
    "print(var_grad)"
   ]
  },
  {
   "cell_type": "markdown",
   "metadata": {},
   "source": [
    "the derivative w.r.t. <b>var_y</b>:\n",
    "$$ \\frac{\\partial \\:}{\\partial \\:y}\\left(2x^2 + 3xy\\right) = 3x $$\n"
   ]
  },
  {
   "cell_type": "code",
   "execution_count": 43,
   "metadata": {},
   "outputs": [
    {
     "name": "stdout",
     "output_type": "stream",
     "text": [
      "tf.Tensor(3.0, shape=(), dtype=float32)\n"
     ]
    }
   ],
   "source": [
    "var_grad = g.gradient(func_test, y) # Will compute to 3.0\n",
    "print(var_grad)"
   ]
  },
  {
   "cell_type": "markdown",
   "metadata": {},
   "source": [
    "Now, we can look at gradients w.r.t all variables:\n"
   ]
  },
  {
   "cell_type": "code",
   "execution_count": 44,
   "metadata": {},
   "outputs": [],
   "source": [
    "with tf.GradientTape() as tape:\n",
    "    # Forward pass.\n",
    "    output_words_prob = model(_input_data)\n",
    "    # Loss value for this batch.\n",
    "    loss  = crossentropy(_targets, output_words_prob)\n",
    "    cost = tf.reduce_sum(loss,axis=0) / batch_size"
   ]
  },
  {
   "cell_type": "code",
   "execution_count": 45,
   "metadata": {},
   "outputs": [],
   "source": [
    "# Get gradients of loss wrt the trainable variables.\n",
    "grad_t_list = tape.gradient(cost, tvars)"
   ]
  },
  {
   "cell_type": "code",
   "execution_count": 46,
   "metadata": {},
   "outputs": [
    {
     "name": "stdout",
     "output_type": "stream",
     "text": [
      "[<tensorflow.python.framework.indexed_slices.IndexedSlices object at 0x7f1d7f603850>, <tf.Tensor: shape=(200, 1024), dtype=float32, numpy=\n",
      "array([[ 6.96439599e-07,  3.08356761e-07, -3.28476995e-06, ...,\n",
      "         3.46771799e-07, -3.79510823e-08,  1.17738864e-07],\n",
      "       [-7.45841788e-09, -4.47439334e-07, -2.32194367e-07, ...,\n",
      "        -2.39645885e-07, -8.71884680e-08, -2.66656997e-07],\n",
      "       [-5.06335425e-07,  3.17329352e-07,  3.93748792e-07, ...,\n",
      "        -5.59059231e-07, -9.10782276e-08,  2.21395482e-07],\n",
      "       ...,\n",
      "       [ 7.98273163e-07, -7.01598481e-07, -1.72884279e-06, ...,\n",
      "         1.18663380e-07, -9.78418981e-08, -4.16272712e-07],\n",
      "       [ 2.59069822e-07, -3.18163359e-07, -6.45310251e-07, ...,\n",
      "        -2.64254226e-07, -1.35174616e-07,  7.20238944e-08],\n",
      "       [ 2.50567325e-07, -5.09952429e-07, -1.53105617e-07, ...,\n",
      "         1.29009067e-07, -3.77241349e-09,  1.64533333e-07]], dtype=float32)>, <tf.Tensor: shape=(256, 1024), dtype=float32, numpy=\n",
      "array([[ 1.22787842e-08,  1.10345852e-07,  2.06310432e-07, ...,\n",
      "        -1.94342817e-08,  1.63385820e-08, -7.31666105e-08],\n",
      "       [-2.79834289e-08, -7.61106094e-08, -7.61400258e-08, ...,\n",
      "         9.24432157e-08, -9.57573754e-09,  1.48252269e-07],\n",
      "       [-3.73423426e-08,  2.56602970e-08, -5.37925189e-07, ...,\n",
      "        -2.10315704e-07, -2.45102107e-08,  8.11121126e-09],\n",
      "       ...,\n",
      "       [-3.71607953e-08, -1.44264760e-07, -8.11834369e-08, ...,\n",
      "        -2.10393836e-07, -1.49778984e-07, -1.06926194e-07],\n",
      "       [-5.67289504e-09, -2.80822654e-08,  1.73257646e-07, ...,\n",
      "         1.69777081e-07,  3.93039784e-07,  2.53678678e-08],\n",
      "       [ 9.85107036e-08, -7.90243035e-08, -5.32878026e-08, ...,\n",
      "        -1.77859114e-08, -9.41956415e-08, -2.24621019e-07]], dtype=float32)>, <tf.Tensor: shape=(1024,), dtype=float32, numpy=\n",
      "array([ 1.7278353e-06, -2.5754092e-05,  5.7669669e-05, ...,\n",
      "       -4.0509995e-06, -4.5532634e-06,  1.9056641e-06], dtype=float32)>, <tf.Tensor: shape=(256, 512), dtype=float32, numpy=\n",
      "array([[-1.31160348e-07, -1.95810088e-07, -2.55943291e-07, ...,\n",
      "         1.49787013e-07, -3.58039415e-07,  2.81066406e-07],\n",
      "       [ 1.20347664e-07, -8.58056453e-08, -2.47441506e-07, ...,\n",
      "         3.83914127e-08,  1.54527299e-07,  2.14180645e-07],\n",
      "       [ 1.29491411e-07, -1.62974629e-08, -1.17728170e-07, ...,\n",
      "         9.08366715e-08,  9.38379969e-08,  4.88722947e-07],\n",
      "       ...,\n",
      "       [-7.37122434e-08, -6.94868731e-08,  9.81309540e-08, ...,\n",
      "         1.05418529e-07, -2.47239228e-07,  1.64750276e-07],\n",
      "       [-9.16160872e-08, -7.52439675e-08, -2.32111404e-07, ...,\n",
      "        -3.20893463e-08,  3.13534372e-08, -3.90209522e-07],\n",
      "       [-3.56342689e-08, -2.10742854e-08, -1.34349548e-07, ...,\n",
      "         1.46096312e-07,  1.12692305e-07,  4.07589084e-07]], dtype=float32)>, <tf.Tensor: shape=(128, 512), dtype=float32, numpy=\n",
      "array([[-1.1966159e-08, -3.2877196e-08, -1.1516203e-08, ...,\n",
      "         1.8377698e-08,  3.6084234e-08, -2.9106054e-08],\n",
      "       [-1.4694298e-07, -3.5088362e-07, -4.9312106e-08, ...,\n",
      "         2.2285737e-07, -3.4479775e-08,  2.4936108e-07],\n",
      "       [-2.9212064e-08,  5.7444833e-08,  2.5059583e-07, ...,\n",
      "        -2.2212518e-07, -1.5696278e-07, -1.1538458e-07],\n",
      "       ...,\n",
      "       [ 1.2472522e-07,  3.5642540e-07,  9.8621669e-08, ...,\n",
      "        -6.1063645e-07, -1.1972975e-07,  1.4033056e-07],\n",
      "       [ 5.1110135e-08, -3.3319637e-08,  1.3114371e-07, ...,\n",
      "        -1.5284609e-08,  2.1852604e-07,  8.3839140e-08],\n",
      "       [ 1.8024004e-08,  1.7005725e-07,  2.1233350e-07, ...,\n",
      "        -3.6547465e-07,  1.7913031e-08,  2.8464910e-07]], dtype=float32)>, <tf.Tensor: shape=(512,), dtype=float32, numpy=\n",
      "array([-6.65905873e-06,  5.06451761e-05,  3.21744483e-05, -1.60746567e-05,\n",
      "        8.76380000e-08, -2.68801905e-05,  8.74498255e-06, -2.18641708e-06,\n",
      "       -6.82212049e-05,  1.73754306e-05,  1.59331721e-05, -5.37571350e-06,\n",
      "        5.98831912e-06,  8.21147551e-05,  4.70527084e-05, -6.49616341e-05,\n",
      "        2.27548499e-05, -2.06544464e-05, -2.70066485e-05, -2.71973586e-05,\n",
      "        3.45046737e-06,  9.32052717e-06,  1.44241221e-05,  1.77650982e-05,\n",
      "        2.40383770e-06, -1.41501255e-06,  3.21894113e-05,  1.79321360e-05,\n",
      "       -2.49551122e-05, -2.78581501e-06, -1.65445672e-05, -4.97880246e-05,\n",
      "        3.69589216e-05,  1.67818289e-05, -6.68330104e-05,  2.23250081e-05,\n",
      "        1.14520217e-05, -1.44795049e-05,  3.21503103e-05, -4.25912958e-06,\n",
      "        9.29457201e-06,  2.71212011e-05,  1.23972313e-05,  1.69343548e-06,\n",
      "       -2.88247593e-05,  6.56174743e-05,  5.69891272e-05,  7.08957123e-06,\n",
      "        4.31059343e-05,  5.61280922e-06,  4.11124711e-05, -1.40223119e-05,\n",
      "        6.96439092e-05,  1.15043185e-05,  2.23296101e-05, -2.40746740e-05,\n",
      "        1.59595638e-05, -3.44643922e-05, -2.00246177e-07, -3.35981276e-05,\n",
      "        1.72574182e-05, -1.58888233e-05, -4.77383037e-05,  1.16329320e-05,\n",
      "       -4.80263589e-06,  2.24992473e-05,  1.37624711e-05, -4.73902619e-05,\n",
      "        3.80703423e-05, -2.91247889e-05,  1.01903039e-04,  3.85873864e-06,\n",
      "        5.38243548e-05, -2.05037577e-05, -2.32156308e-05, -7.73612192e-06,\n",
      "       -6.45754881e-06, -6.22495645e-05,  2.63277179e-05, -5.89683714e-06,\n",
      "       -2.26022585e-05,  2.21740829e-05, -3.92501242e-05, -3.28944079e-05,\n",
      "       -2.95681839e-05,  8.09400808e-06, -2.91408123e-05,  2.37154745e-06,\n",
      "        8.88155628e-05,  2.12402847e-05,  1.81684118e-06, -2.88788506e-05,\n",
      "       -1.98412490e-05,  3.42493331e-05,  1.22860629e-05, -2.00919749e-05,\n",
      "       -1.94010318e-06, -6.12339063e-05,  1.98816124e-05, -4.00017689e-06,\n",
      "        9.28701775e-06,  6.11952873e-06,  6.11281357e-05,  7.80948540e-07,\n",
      "       -6.83225880e-05, -2.37718159e-05,  4.26748375e-05, -2.99169205e-05,\n",
      "       -2.90872595e-06,  1.19000260e-05, -3.93970586e-05,  1.20740042e-05,\n",
      "       -2.13939675e-05, -3.64793523e-05, -1.99802835e-05,  1.16041019e-05,\n",
      "       -3.28049136e-05, -9.32609146e-06,  1.13703936e-05, -2.79211981e-05,\n",
      "       -2.49177901e-07,  3.89203924e-05, -1.78289392e-05, -5.40921792e-05,\n",
      "        6.28086345e-05, -8.15159583e-05,  2.80361746e-07, -8.52933226e-06,\n",
      "       -2.55698869e-05,  8.33765225e-05,  5.75032354e-05,  4.25032613e-06,\n",
      "        8.38715459e-06, -3.04233836e-05, -3.38527207e-06,  1.33404501e-05,\n",
      "       -6.42824889e-05,  1.60465443e-05,  2.20875881e-06, -5.60626995e-06,\n",
      "        2.50268149e-05,  1.16425887e-04,  8.70646472e-05, -6.71435191e-05,\n",
      "        3.67922912e-05, -2.32825187e-05, -2.02928604e-05, -4.97053479e-05,\n",
      "       -1.60555937e-05,  7.95874894e-06,  2.46228137e-05,  2.22823837e-05,\n",
      "        9.65904292e-06, -2.01584189e-05,  2.82551300e-05,  2.29804009e-05,\n",
      "       -3.25459587e-05,  8.33294325e-06, -1.14039995e-06, -2.57882984e-05,\n",
      "        7.42694319e-05,  1.96987967e-05, -7.12295951e-05,  2.86939430e-05,\n",
      "       -1.30281533e-05, -3.00157699e-05,  8.23302071e-06, -2.68416297e-05,\n",
      "        1.78228020e-05,  1.78724440e-05,  1.61593198e-05,  1.82573713e-05,\n",
      "       -5.46103183e-05,  1.13578542e-04,  3.52900825e-05,  1.66099489e-05,\n",
      "        1.03534127e-04,  4.30895807e-06,  4.75711568e-05, -4.81265233e-05,\n",
      "        1.15909250e-04,  9.89792898e-06,  3.18362108e-05, -4.18640557e-05,\n",
      "        1.70462499e-07, -8.02438299e-05, -6.59492434e-06, -1.05189793e-05,\n",
      "        4.08457527e-05, -1.16069323e-05, -3.72393260e-05, -1.84460423e-05,\n",
      "       -2.17220986e-05,  5.03055344e-06, -1.43100333e-05, -1.12794136e-04,\n",
      "        5.36958869e-05, -6.08269111e-05,  1.20710349e-04,  1.12087982e-05,\n",
      "        6.01462816e-05, -6.21929030e-06, -2.79549567e-05,  7.40190444e-06,\n",
      "       -2.97328152e-05, -9.15449928e-05,  5.67135758e-05, -2.37366348e-05,\n",
      "       -2.47026092e-05,  9.18598380e-06, -3.83662918e-05, -5.31983969e-05,\n",
      "       -2.63819093e-05,  1.68669831e-05, -5.16132568e-05, -2.70832606e-05,\n",
      "        1.04560699e-04,  3.19812352e-05,  5.50887708e-05, -3.86435786e-05,\n",
      "       -2.74400572e-05,  4.67477112e-05,  3.29179202e-05, -3.88493645e-05,\n",
      "       -4.74769331e-06, -8.51518271e-05,  3.35445075e-05, -1.59881129e-05,\n",
      "        2.21438040e-06,  8.78907395e-06,  1.02558479e-04,  7.27686529e-06,\n",
      "       -1.00900623e-04, -5.21231013e-05,  8.32484657e-05, -4.66001329e-05,\n",
      "        3.66381537e-05,  1.42777362e-05, -5.73645229e-05, -1.11088557e-05,\n",
      "       -1.88798840e-05, -2.05553733e-05, -2.70873315e-05,  1.80425122e-05,\n",
      "       -4.34947870e-05, -8.90161209e-06,  4.97722103e-05, -2.78853186e-05,\n",
      "        9.61932892e-06,  9.50484100e-05, -1.49881043e-05, -5.82638932e-05,\n",
      "        1.14133683e-04, -1.25048799e-04, -1.15740768e-05, -3.24101711e-06,\n",
      "        1.03732990e-02, -2.68925056e-02,  5.07600978e-02,  8.28250486e-05,\n",
      "        1.99047141e-02,  1.94204859e-02,  1.43874111e-02,  8.41041096e-03,\n",
      "        2.21333355e-02,  3.78056616e-02,  7.82585982e-03,  9.21827834e-03,\n",
      "       -9.98530257e-03, -2.69738622e-02,  3.90073955e-02, -1.50742084e-02,\n",
      "        2.62777228e-02, -1.06731411e-02,  6.45510573e-03,  2.68265028e-02,\n",
      "        5.63159585e-02,  5.33924885e-02, -2.26368606e-02, -2.18371172e-02,\n",
      "       -1.99079094e-03,  8.74694902e-03,  4.15757857e-03,  3.45689477e-04,\n",
      "       -2.48078238e-02, -1.70275960e-02, -1.50564723e-02, -1.94329545e-02,\n",
      "       -5.99190779e-02, -3.62088606e-02,  3.05136498e-02, -2.22076587e-02,\n",
      "       -1.37285134e-02, -9.39968042e-03,  4.98280628e-03, -5.60124591e-03,\n",
      "       -3.32278684e-02, -9.73191112e-03,  5.82859246e-03, -5.01234122e-02,\n",
      "        1.46926232e-02, -6.30840808e-02, -2.25154515e-02, -5.53022232e-03,\n",
      "       -2.96248235e-02, -7.00135389e-03,  1.86745506e-02,  1.96211301e-02,\n",
      "       -3.16744968e-02,  3.29817198e-02,  1.96355134e-02,  4.11438709e-03,\n",
      "       -2.51576565e-02, -1.61833614e-02, -6.01041364e-03, -2.60950951e-03,\n",
      "       -6.42070500e-03,  1.37777254e-03, -4.64581838e-03, -7.57205440e-03,\n",
      "        5.56729287e-02, -4.74429131e-03,  3.84006985e-02,  4.24296111e-02,\n",
      "       -1.22278165e-02, -3.54140401e-02,  7.16191828e-02, -5.53225772e-03,\n",
      "        4.85009104e-02, -4.30048676e-03, -2.15889998e-02, -2.82714944e-02,\n",
      "       -2.23753881e-03, -2.17203721e-02,  1.56204570e-02,  6.60851831e-03,\n",
      "       -2.37347148e-02, -1.70002468e-02, -3.55634093e-02,  4.88712192e-02,\n",
      "        5.48561197e-03, -4.96590771e-02,  2.16805302e-02,  3.39204259e-03,\n",
      "       -5.98714352e-02,  3.27672698e-02, -1.56710297e-03, -1.67176593e-02,\n",
      "       -3.16303293e-03, -1.87806636e-02, -4.59916145e-02, -2.60735713e-02,\n",
      "       -1.01904832e-02,  3.62331346e-02,  8.72526132e-03,  1.99717656e-02,\n",
      "        1.38002858e-02, -1.54904844e-02, -3.74634750e-02, -3.02895624e-02,\n",
      "        3.42348106e-02,  2.47851275e-02, -1.20092416e-02, -1.01050632e-02,\n",
      "       -3.26259527e-04,  4.29964736e-02, -1.26390848e-02, -4.00147773e-03,\n",
      "        4.20371965e-02, -2.22860072e-02,  5.10243624e-02,  6.57435507e-03,\n",
      "        8.51166807e-03,  3.04963440e-02, -1.18615991e-02, -2.48079933e-02,\n",
      "       -1.86480060e-02,  4.41541746e-02, -1.88851040e-02,  1.28565487e-02,\n",
      "        2.29191445e-02, -5.72572798e-02,  2.32293271e-02,  3.16258008e-03,\n",
      "       -1.03308812e-05,  6.23989836e-05,  3.71356546e-05, -1.39420881e-05,\n",
      "       -8.63346941e-07, -2.83846402e-05,  3.56249984e-06, -8.79633444e-06,\n",
      "       -8.32652004e-05,  2.49221339e-05,  1.69980540e-05, -5.11011694e-06,\n",
      "        7.37067512e-06,  8.59242136e-05,  5.39921857e-05, -6.33119635e-05,\n",
      "        2.28127319e-05, -1.75857967e-05, -3.15964608e-05, -2.64268419e-05,\n",
      "        4.85671308e-07,  3.16128444e-06,  1.59911215e-05,  2.59646185e-05,\n",
      "       -1.50523147e-06, -8.14223586e-06,  3.16584919e-05,  1.89174607e-05,\n",
      "       -3.62473766e-05, -7.81908057e-06, -1.80691786e-05, -5.10187456e-05,\n",
      "        3.41290797e-05,  1.30308399e-05, -7.73180291e-05,  2.31847516e-05,\n",
      "        5.44413524e-06, -1.61181833e-05,  4.40830372e-05, -1.52275861e-05,\n",
      "        7.69819781e-06,  2.94597703e-05,  1.59004576e-05, -8.84338078e-07,\n",
      "       -3.98103730e-05,  7.92360079e-05,  5.20201684e-05,  8.30356748e-06,\n",
      "        6.11456417e-05,  7.46280784e-06,  4.77645517e-05, -1.60843119e-05,\n",
      "        8.49803328e-05,  1.10018727e-05,  2.98827254e-05, -3.12678021e-05,\n",
      "        1.83830361e-05, -4.58238355e-05, -1.12660473e-05, -3.43376050e-05,\n",
      "        2.03235759e-05, -2.23434072e-05, -4.39535397e-05,  2.27157216e-07,\n",
      "       -1.47883820e-05,  2.61574969e-05,  9.57043540e-06, -6.14928067e-05,\n",
      "        4.40578006e-05, -2.63486909e-05,  1.13396702e-04,  1.20719033e-05,\n",
      "        5.53086065e-05, -2.11176666e-05, -2.47772623e-05, -9.17330908e-07,\n",
      "       -9.63076673e-06, -7.85870434e-05,  3.10803007e-05, -5.35171512e-06,\n",
      "       -1.17809395e-05,  3.01800173e-05, -3.49651164e-05, -3.27166526e-05,\n",
      "       -3.18802413e-05,  1.55854523e-05, -2.59278659e-05, -2.79908199e-05,\n",
      "        8.45560135e-05,  3.09152529e-05,  5.00425904e-06, -3.18161874e-05,\n",
      "       -3.07093578e-05,  3.29380382e-05,  1.19739661e-05, -1.46541042e-05,\n",
      "        5.95862139e-06, -6.85843916e-05,  2.36773158e-05, -9.71253939e-06,\n",
      "        1.34982392e-05,  1.34594684e-05,  8.85893242e-05, -6.85486157e-08,\n",
      "       -7.75933295e-05, -3.34095639e-05,  4.99702983e-05, -2.06257973e-05,\n",
      "        9.35948265e-07,  5.62376135e-06, -3.60144404e-05,  2.18880541e-06,\n",
      "       -2.18420137e-05, -3.50073497e-05, -1.79644594e-05,  1.84499822e-05,\n",
      "       -3.32627314e-05, -1.40826769e-05,  1.74910037e-05, -3.76966927e-05,\n",
      "        7.51201060e-06,  4.33106725e-05, -1.87858132e-05, -4.87161669e-05,\n",
      "        7.86024029e-05, -9.74668656e-05, -1.11851323e-05,  2.34963045e-06],\n",
      "      dtype=float32)>, <tf.Tensor: shape=(128, 10000), dtype=float32, numpy=\n",
      "array([[ 1.1449531e-03,  7.3558383e-04,  5.5137358e-04, ...,\n",
      "        -2.7296544e-06, -2.7321230e-06, -2.7307583e-06],\n",
      "       [ 1.4714857e-03,  3.8527767e-03,  1.3855951e-03, ...,\n",
      "        -3.1751570e-06, -3.1767927e-06, -3.1780983e-06],\n",
      "       [-2.0738435e-03, -1.9239157e-03, -1.9049536e-03, ...,\n",
      "         5.0026547e-06,  5.0033514e-06,  5.0045942e-06],\n",
      "       ...,\n",
      "       [-4.1243564e-03, -5.1819738e-03, -2.0576881e-03, ...,\n",
      "         6.0749508e-06,  6.0762904e-06,  6.0769971e-06],\n",
      "       [-2.8533646e-04, -1.4026216e-03, -1.2812125e-03, ...,\n",
      "        -7.5907849e-09, -8.2442568e-09, -5.9679905e-09],\n",
      "       [-2.3455305e-03, -3.3445871e-03, -3.5097371e-03, ...,\n",
      "         6.4717287e-06,  6.4714377e-06,  6.4725900e-06]], dtype=float32)>, <tf.Tensor: shape=(10000,), dtype=float32, numpy=\n",
      "array([-0.7979984 , -1.0313317 , -1.0313315 , ...,  0.00199934,\n",
      "        0.00199953,  0.00199967], dtype=float32)>]\n"
     ]
    }
   ],
   "source": [
    "print(grad_t_list)"
   ]
  },
  {
   "cell_type": "markdown",
   "metadata": {},
   "source": [
    "now, we have a list of tensors, t-list. We can use it to find clipped tensors. <b>clip_by_global_norm</b> clips values of multiple tensors by the ratio of the sum of their norms.\n",
    "\n",
    "<b>clip_by_global_norm</b> get <i>t-list</i> as input and returns 2 things:\n",
    "\n",
    "<ul>\n",
    "    <li>a list of clipped tensors, so called <i>list_clipped</i></li> \n",
    "    <li>the global norm (global_norm) of all tensors in t_list</li> \n",
    "</ul>\n"
   ]
  },
  {
   "cell_type": "code",
   "execution_count": 47,
   "metadata": {},
   "outputs": [
    {
     "data": {
      "text/plain": [
       "[<tensorflow.python.framework.indexed_slices.IndexedSlices at 0x7f1d7f6031d0>,\n",
       " <tf.Tensor: shape=(200, 1024), dtype=float32, numpy=\n",
       " array([[ 6.96439599e-07,  3.08356761e-07, -3.28476995e-06, ...,\n",
       "          3.46771799e-07, -3.79510823e-08,  1.17738864e-07],\n",
       "        [-7.45841788e-09, -4.47439334e-07, -2.32194367e-07, ...,\n",
       "         -2.39645885e-07, -8.71884680e-08, -2.66656997e-07],\n",
       "        [-5.06335425e-07,  3.17329352e-07,  3.93748792e-07, ...,\n",
       "         -5.59059231e-07, -9.10782276e-08,  2.21395482e-07],\n",
       "        ...,\n",
       "        [ 7.98273163e-07, -7.01598481e-07, -1.72884279e-06, ...,\n",
       "          1.18663380e-07, -9.78418981e-08, -4.16272712e-07],\n",
       "        [ 2.59069822e-07, -3.18163359e-07, -6.45310251e-07, ...,\n",
       "         -2.64254226e-07, -1.35174616e-07,  7.20238944e-08],\n",
       "        [ 2.50567325e-07, -5.09952429e-07, -1.53105617e-07, ...,\n",
       "          1.29009067e-07, -3.77241349e-09,  1.64533333e-07]], dtype=float32)>,\n",
       " <tf.Tensor: shape=(256, 1024), dtype=float32, numpy=\n",
       " array([[ 1.22787842e-08,  1.10345852e-07,  2.06310432e-07, ...,\n",
       "         -1.94342817e-08,  1.63385820e-08, -7.31666105e-08],\n",
       "        [-2.79834289e-08, -7.61106094e-08, -7.61400258e-08, ...,\n",
       "          9.24432157e-08, -9.57573754e-09,  1.48252269e-07],\n",
       "        [-3.73423426e-08,  2.56602970e-08, -5.37925189e-07, ...,\n",
       "         -2.10315704e-07, -2.45102107e-08,  8.11121126e-09],\n",
       "        ...,\n",
       "        [-3.71607953e-08, -1.44264760e-07, -8.11834369e-08, ...,\n",
       "         -2.10393836e-07, -1.49778984e-07, -1.06926194e-07],\n",
       "        [-5.67289504e-09, -2.80822654e-08,  1.73257646e-07, ...,\n",
       "          1.69777081e-07,  3.93039784e-07,  2.53678678e-08],\n",
       "        [ 9.85107036e-08, -7.90243035e-08, -5.32878026e-08, ...,\n",
       "         -1.77859114e-08, -9.41956415e-08, -2.24621019e-07]], dtype=float32)>,\n",
       " <tf.Tensor: shape=(1024,), dtype=float32, numpy=\n",
       " array([ 1.7278353e-06, -2.5754092e-05,  5.7669669e-05, ...,\n",
       "        -4.0509995e-06, -4.5532634e-06,  1.9056641e-06], dtype=float32)>,\n",
       " <tf.Tensor: shape=(256, 512), dtype=float32, numpy=\n",
       " array([[-1.31160348e-07, -1.95810088e-07, -2.55943291e-07, ...,\n",
       "          1.49787013e-07, -3.58039415e-07,  2.81066406e-07],\n",
       "        [ 1.20347664e-07, -8.58056453e-08, -2.47441506e-07, ...,\n",
       "          3.83914127e-08,  1.54527299e-07,  2.14180645e-07],\n",
       "        [ 1.29491411e-07, -1.62974629e-08, -1.17728170e-07, ...,\n",
       "          9.08366715e-08,  9.38379969e-08,  4.88722947e-07],\n",
       "        ...,\n",
       "        [-7.37122434e-08, -6.94868731e-08,  9.81309540e-08, ...,\n",
       "          1.05418529e-07, -2.47239228e-07,  1.64750276e-07],\n",
       "        [-9.16160872e-08, -7.52439675e-08, -2.32111404e-07, ...,\n",
       "         -3.20893463e-08,  3.13534372e-08, -3.90209522e-07],\n",
       "        [-3.56342689e-08, -2.10742854e-08, -1.34349548e-07, ...,\n",
       "          1.46096312e-07,  1.12692305e-07,  4.07589084e-07]], dtype=float32)>,\n",
       " <tf.Tensor: shape=(128, 512), dtype=float32, numpy=\n",
       " array([[-1.1966159e-08, -3.2877196e-08, -1.1516203e-08, ...,\n",
       "          1.8377698e-08,  3.6084234e-08, -2.9106054e-08],\n",
       "        [-1.4694298e-07, -3.5088362e-07, -4.9312106e-08, ...,\n",
       "          2.2285737e-07, -3.4479775e-08,  2.4936108e-07],\n",
       "        [-2.9212064e-08,  5.7444833e-08,  2.5059583e-07, ...,\n",
       "         -2.2212518e-07, -1.5696278e-07, -1.1538458e-07],\n",
       "        ...,\n",
       "        [ 1.2472522e-07,  3.5642540e-07,  9.8621669e-08, ...,\n",
       "         -6.1063645e-07, -1.1972975e-07,  1.4033056e-07],\n",
       "        [ 5.1110135e-08, -3.3319637e-08,  1.3114371e-07, ...,\n",
       "         -1.5284609e-08,  2.1852604e-07,  8.3839140e-08],\n",
       "        [ 1.8024004e-08,  1.7005725e-07,  2.1233350e-07, ...,\n",
       "         -3.6547465e-07,  1.7913031e-08,  2.8464910e-07]], dtype=float32)>,\n",
       " <tf.Tensor: shape=(512,), dtype=float32, numpy=\n",
       " array([-6.65905873e-06,  5.06451761e-05,  3.21744483e-05, -1.60746567e-05,\n",
       "         8.76380000e-08, -2.68801905e-05,  8.74498255e-06, -2.18641708e-06,\n",
       "        -6.82212049e-05,  1.73754306e-05,  1.59331721e-05, -5.37571350e-06,\n",
       "         5.98831912e-06,  8.21147551e-05,  4.70527084e-05, -6.49616341e-05,\n",
       "         2.27548499e-05, -2.06544464e-05, -2.70066485e-05, -2.71973586e-05,\n",
       "         3.45046737e-06,  9.32052717e-06,  1.44241221e-05,  1.77650982e-05,\n",
       "         2.40383770e-06, -1.41501255e-06,  3.21894113e-05,  1.79321360e-05,\n",
       "        -2.49551122e-05, -2.78581501e-06, -1.65445672e-05, -4.97880246e-05,\n",
       "         3.69589216e-05,  1.67818289e-05, -6.68330104e-05,  2.23250081e-05,\n",
       "         1.14520217e-05, -1.44795049e-05,  3.21503103e-05, -4.25912958e-06,\n",
       "         9.29457201e-06,  2.71212011e-05,  1.23972313e-05,  1.69343548e-06,\n",
       "        -2.88247593e-05,  6.56174743e-05,  5.69891272e-05,  7.08957123e-06,\n",
       "         4.31059343e-05,  5.61280922e-06,  4.11124711e-05, -1.40223119e-05,\n",
       "         6.96439092e-05,  1.15043185e-05,  2.23296101e-05, -2.40746740e-05,\n",
       "         1.59595638e-05, -3.44643922e-05, -2.00246177e-07, -3.35981276e-05,\n",
       "         1.72574182e-05, -1.58888233e-05, -4.77383037e-05,  1.16329320e-05,\n",
       "        -4.80263589e-06,  2.24992473e-05,  1.37624711e-05, -4.73902619e-05,\n",
       "         3.80703423e-05, -2.91247889e-05,  1.01903039e-04,  3.85873864e-06,\n",
       "         5.38243548e-05, -2.05037577e-05, -2.32156308e-05, -7.73612192e-06,\n",
       "        -6.45754881e-06, -6.22495645e-05,  2.63277179e-05, -5.89683714e-06,\n",
       "        -2.26022585e-05,  2.21740829e-05, -3.92501242e-05, -3.28944079e-05,\n",
       "        -2.95681839e-05,  8.09400808e-06, -2.91408123e-05,  2.37154745e-06,\n",
       "         8.88155628e-05,  2.12402847e-05,  1.81684118e-06, -2.88788506e-05,\n",
       "        -1.98412490e-05,  3.42493331e-05,  1.22860629e-05, -2.00919749e-05,\n",
       "        -1.94010318e-06, -6.12339063e-05,  1.98816124e-05, -4.00017689e-06,\n",
       "         9.28701775e-06,  6.11952873e-06,  6.11281357e-05,  7.80948540e-07,\n",
       "        -6.83225880e-05, -2.37718159e-05,  4.26748375e-05, -2.99169205e-05,\n",
       "        -2.90872595e-06,  1.19000260e-05, -3.93970586e-05,  1.20740042e-05,\n",
       "        -2.13939675e-05, -3.64793523e-05, -1.99802835e-05,  1.16041019e-05,\n",
       "        -3.28049136e-05, -9.32609146e-06,  1.13703936e-05, -2.79211981e-05,\n",
       "        -2.49177901e-07,  3.89203924e-05, -1.78289392e-05, -5.40921792e-05,\n",
       "         6.28086345e-05, -8.15159583e-05,  2.80361746e-07, -8.52933226e-06,\n",
       "        -2.55698869e-05,  8.33765225e-05,  5.75032354e-05,  4.25032613e-06,\n",
       "         8.38715459e-06, -3.04233836e-05, -3.38527207e-06,  1.33404501e-05,\n",
       "        -6.42824889e-05,  1.60465443e-05,  2.20875881e-06, -5.60626995e-06,\n",
       "         2.50268149e-05,  1.16425887e-04,  8.70646472e-05, -6.71435191e-05,\n",
       "         3.67922912e-05, -2.32825187e-05, -2.02928604e-05, -4.97053479e-05,\n",
       "        -1.60555937e-05,  7.95874894e-06,  2.46228137e-05,  2.22823837e-05,\n",
       "         9.65904292e-06, -2.01584189e-05,  2.82551300e-05,  2.29804009e-05,\n",
       "        -3.25459587e-05,  8.33294325e-06, -1.14039995e-06, -2.57882984e-05,\n",
       "         7.42694319e-05,  1.96987967e-05, -7.12295951e-05,  2.86939430e-05,\n",
       "        -1.30281533e-05, -3.00157699e-05,  8.23302071e-06, -2.68416297e-05,\n",
       "         1.78228020e-05,  1.78724440e-05,  1.61593198e-05,  1.82573713e-05,\n",
       "        -5.46103183e-05,  1.13578542e-04,  3.52900825e-05,  1.66099489e-05,\n",
       "         1.03534127e-04,  4.30895807e-06,  4.75711568e-05, -4.81265233e-05,\n",
       "         1.15909250e-04,  9.89792898e-06,  3.18362108e-05, -4.18640557e-05,\n",
       "         1.70462499e-07, -8.02438299e-05, -6.59492434e-06, -1.05189793e-05,\n",
       "         4.08457527e-05, -1.16069323e-05, -3.72393260e-05, -1.84460423e-05,\n",
       "        -2.17220986e-05,  5.03055344e-06, -1.43100333e-05, -1.12794136e-04,\n",
       "         5.36958869e-05, -6.08269111e-05,  1.20710349e-04,  1.12087982e-05,\n",
       "         6.01462816e-05, -6.21929030e-06, -2.79549567e-05,  7.40190444e-06,\n",
       "        -2.97328152e-05, -9.15449928e-05,  5.67135758e-05, -2.37366348e-05,\n",
       "        -2.47026092e-05,  9.18598380e-06, -3.83662918e-05, -5.31983969e-05,\n",
       "        -2.63819093e-05,  1.68669831e-05, -5.16132568e-05, -2.70832606e-05,\n",
       "         1.04560699e-04,  3.19812352e-05,  5.50887708e-05, -3.86435786e-05,\n",
       "        -2.74400572e-05,  4.67477112e-05,  3.29179202e-05, -3.88493645e-05,\n",
       "        -4.74769331e-06, -8.51518271e-05,  3.35445075e-05, -1.59881129e-05,\n",
       "         2.21438040e-06,  8.78907395e-06,  1.02558479e-04,  7.27686529e-06,\n",
       "        -1.00900623e-04, -5.21231013e-05,  8.32484657e-05, -4.66001329e-05,\n",
       "         3.66381537e-05,  1.42777362e-05, -5.73645229e-05, -1.11088557e-05,\n",
       "        -1.88798840e-05, -2.05553733e-05, -2.70873315e-05,  1.80425122e-05,\n",
       "        -4.34947870e-05, -8.90161209e-06,  4.97722103e-05, -2.78853186e-05,\n",
       "         9.61932892e-06,  9.50484100e-05, -1.49881043e-05, -5.82638932e-05,\n",
       "         1.14133683e-04, -1.25048799e-04, -1.15740768e-05, -3.24101711e-06,\n",
       "         1.03732990e-02, -2.68925056e-02,  5.07600978e-02,  8.28250486e-05,\n",
       "         1.99047141e-02,  1.94204859e-02,  1.43874111e-02,  8.41041096e-03,\n",
       "         2.21333355e-02,  3.78056616e-02,  7.82585982e-03,  9.21827834e-03,\n",
       "        -9.98530257e-03, -2.69738622e-02,  3.90073955e-02, -1.50742084e-02,\n",
       "         2.62777228e-02, -1.06731411e-02,  6.45510573e-03,  2.68265028e-02,\n",
       "         5.63159585e-02,  5.33924885e-02, -2.26368606e-02, -2.18371172e-02,\n",
       "        -1.99079094e-03,  8.74694902e-03,  4.15757857e-03,  3.45689477e-04,\n",
       "        -2.48078238e-02, -1.70275960e-02, -1.50564723e-02, -1.94329545e-02,\n",
       "        -5.99190779e-02, -3.62088606e-02,  3.05136498e-02, -2.22076587e-02,\n",
       "        -1.37285134e-02, -9.39968042e-03,  4.98280628e-03, -5.60124591e-03,\n",
       "        -3.32278684e-02, -9.73191112e-03,  5.82859246e-03, -5.01234122e-02,\n",
       "         1.46926232e-02, -6.30840808e-02, -2.25154515e-02, -5.53022232e-03,\n",
       "        -2.96248235e-02, -7.00135389e-03,  1.86745506e-02,  1.96211301e-02,\n",
       "        -3.16744968e-02,  3.29817198e-02,  1.96355134e-02,  4.11438709e-03,\n",
       "        -2.51576565e-02, -1.61833614e-02, -6.01041364e-03, -2.60950951e-03,\n",
       "        -6.42070500e-03,  1.37777254e-03, -4.64581838e-03, -7.57205440e-03,\n",
       "         5.56729287e-02, -4.74429131e-03,  3.84006985e-02,  4.24296111e-02,\n",
       "        -1.22278165e-02, -3.54140401e-02,  7.16191828e-02, -5.53225772e-03,\n",
       "         4.85009104e-02, -4.30048676e-03, -2.15889998e-02, -2.82714944e-02,\n",
       "        -2.23753881e-03, -2.17203721e-02,  1.56204570e-02,  6.60851831e-03,\n",
       "        -2.37347148e-02, -1.70002468e-02, -3.55634093e-02,  4.88712192e-02,\n",
       "         5.48561197e-03, -4.96590771e-02,  2.16805302e-02,  3.39204259e-03,\n",
       "        -5.98714352e-02,  3.27672698e-02, -1.56710297e-03, -1.67176593e-02,\n",
       "        -3.16303293e-03, -1.87806636e-02, -4.59916145e-02, -2.60735713e-02,\n",
       "        -1.01904832e-02,  3.62331346e-02,  8.72526132e-03,  1.99717656e-02,\n",
       "         1.38002858e-02, -1.54904844e-02, -3.74634750e-02, -3.02895624e-02,\n",
       "         3.42348106e-02,  2.47851275e-02, -1.20092416e-02, -1.01050632e-02,\n",
       "        -3.26259527e-04,  4.29964736e-02, -1.26390848e-02, -4.00147773e-03,\n",
       "         4.20371965e-02, -2.22860072e-02,  5.10243624e-02,  6.57435507e-03,\n",
       "         8.51166807e-03,  3.04963440e-02, -1.18615991e-02, -2.48079933e-02,\n",
       "        -1.86480060e-02,  4.41541746e-02, -1.88851040e-02,  1.28565487e-02,\n",
       "         2.29191445e-02, -5.72572798e-02,  2.32293271e-02,  3.16258008e-03,\n",
       "        -1.03308812e-05,  6.23989836e-05,  3.71356546e-05, -1.39420881e-05,\n",
       "        -8.63346941e-07, -2.83846402e-05,  3.56249984e-06, -8.79633444e-06,\n",
       "        -8.32652004e-05,  2.49221339e-05,  1.69980540e-05, -5.11011694e-06,\n",
       "         7.37067512e-06,  8.59242136e-05,  5.39921857e-05, -6.33119635e-05,\n",
       "         2.28127319e-05, -1.75857967e-05, -3.15964608e-05, -2.64268419e-05,\n",
       "         4.85671308e-07,  3.16128444e-06,  1.59911215e-05,  2.59646185e-05,\n",
       "        -1.50523147e-06, -8.14223586e-06,  3.16584919e-05,  1.89174607e-05,\n",
       "        -3.62473766e-05, -7.81908057e-06, -1.80691786e-05, -5.10187456e-05,\n",
       "         3.41290797e-05,  1.30308399e-05, -7.73180291e-05,  2.31847516e-05,\n",
       "         5.44413524e-06, -1.61181833e-05,  4.40830372e-05, -1.52275861e-05,\n",
       "         7.69819781e-06,  2.94597703e-05,  1.59004576e-05, -8.84338078e-07,\n",
       "        -3.98103730e-05,  7.92360079e-05,  5.20201684e-05,  8.30356748e-06,\n",
       "         6.11456417e-05,  7.46280784e-06,  4.77645517e-05, -1.60843119e-05,\n",
       "         8.49803328e-05,  1.10018727e-05,  2.98827254e-05, -3.12678021e-05,\n",
       "         1.83830361e-05, -4.58238355e-05, -1.12660473e-05, -3.43376050e-05,\n",
       "         2.03235759e-05, -2.23434072e-05, -4.39535397e-05,  2.27157216e-07,\n",
       "        -1.47883820e-05,  2.61574969e-05,  9.57043540e-06, -6.14928067e-05,\n",
       "         4.40578006e-05, -2.63486909e-05,  1.13396702e-04,  1.20719033e-05,\n",
       "         5.53086065e-05, -2.11176666e-05, -2.47772623e-05, -9.17330908e-07,\n",
       "        -9.63076673e-06, -7.85870434e-05,  3.10803007e-05, -5.35171512e-06,\n",
       "        -1.17809395e-05,  3.01800173e-05, -3.49651164e-05, -3.27166526e-05,\n",
       "        -3.18802413e-05,  1.55854523e-05, -2.59278659e-05, -2.79908199e-05,\n",
       "         8.45560135e-05,  3.09152529e-05,  5.00425904e-06, -3.18161874e-05,\n",
       "        -3.07093578e-05,  3.29380382e-05,  1.19739661e-05, -1.46541042e-05,\n",
       "         5.95862139e-06, -6.85843916e-05,  2.36773158e-05, -9.71253939e-06,\n",
       "         1.34982392e-05,  1.34594684e-05,  8.85893242e-05, -6.85486157e-08,\n",
       "        -7.75933295e-05, -3.34095639e-05,  4.99702983e-05, -2.06257973e-05,\n",
       "         9.35948265e-07,  5.62376135e-06, -3.60144404e-05,  2.18880541e-06,\n",
       "        -2.18420137e-05, -3.50073497e-05, -1.79644594e-05,  1.84499822e-05,\n",
       "        -3.32627314e-05, -1.40826769e-05,  1.74910037e-05, -3.76966927e-05,\n",
       "         7.51201060e-06,  4.33106725e-05, -1.87858132e-05, -4.87161669e-05,\n",
       "         7.86024029e-05, -9.74668656e-05, -1.11851323e-05,  2.34963045e-06],\n",
       "       dtype=float32)>,\n",
       " <tf.Tensor: shape=(128, 10000), dtype=float32, numpy=\n",
       " array([[ 1.1449531e-03,  7.3558383e-04,  5.5137358e-04, ...,\n",
       "         -2.7296544e-06, -2.7321230e-06, -2.7307583e-06],\n",
       "        [ 1.4714857e-03,  3.8527767e-03,  1.3855951e-03, ...,\n",
       "         -3.1751570e-06, -3.1767927e-06, -3.1780983e-06],\n",
       "        [-2.0738435e-03, -1.9239157e-03, -1.9049536e-03, ...,\n",
       "          5.0026547e-06,  5.0033514e-06,  5.0045942e-06],\n",
       "        ...,\n",
       "        [-4.1243564e-03, -5.1819738e-03, -2.0576881e-03, ...,\n",
       "          6.0749508e-06,  6.0762904e-06,  6.0769971e-06],\n",
       "        [-2.8533646e-04, -1.4026216e-03, -1.2812125e-03, ...,\n",
       "         -7.5907849e-09, -8.2442568e-09, -5.9679905e-09],\n",
       "        [-2.3455305e-03, -3.3445871e-03, -3.5097371e-03, ...,\n",
       "          6.4717287e-06,  6.4714377e-06,  6.4725900e-06]], dtype=float32)>,\n",
       " <tf.Tensor: shape=(10000,), dtype=float32, numpy=\n",
       " array([-0.7979984 , -1.0313317 , -1.0313315 , ...,  0.00199934,\n",
       "         0.00199953,  0.00199967], dtype=float32)>]"
      ]
     },
     "execution_count": 47,
     "metadata": {},
     "output_type": "execute_result"
    }
   ],
   "source": [
    "# Define the gradient clipping threshold\n",
    "grads, _ = tf.clip_by_global_norm(grad_t_list, max_grad_norm)\n",
    "grads"
   ]
  },
  {
   "cell_type": "markdown",
   "metadata": {},
   "source": [
    "<h4> 4.Apply the optimizer to the variables/gradients tuple. </h4>\n"
   ]
  },
  {
   "cell_type": "code",
   "execution_count": 48,
   "metadata": {},
   "outputs": [],
   "source": [
    "# Create the training TensorFlow Operation through our optimizer\n",
    "train_op = optimizer.apply_gradients(zip(grads, tvars))"
   ]
  },
  {
   "cell_type": "markdown",
   "metadata": {},
   "source": [
    "<a id=\"ltsm\"></a>\n",
    "\n",
    "<h2>LSTM</h2>\n"
   ]
  },
  {
   "cell_type": "markdown",
   "metadata": {},
   "source": [
    "We learned how the model is build step by step. Noe, let's then create a Class that represents our model. This class needs a few things:\n",
    "\n",
    "<ul>\n",
    "    <li>We have to create the model in accordance with our defined hyperparameters</li>\n",
    "    <li>We have to create the LSTM cell structure and connect them with our RNN structure</li>\n",
    "    <li>We have to create the word embeddings and point them to the input data</li>\n",
    "    <li>We have to create the input structure for our RNN</li>\n",
    "    <li>We need to create a logistic structure to return the probability of our words</li>\n",
    "    <li>We need to create the loss and cost functions for our optimizer to work, and then create the optimizer</li>\n",
    "    <li>And finally, we need to create a training operation that can be run to actually train our model</li>\n",
    "</ul>\n"
   ]
  },
  {
   "cell_type": "code",
   "execution_count": 49,
   "metadata": {},
   "outputs": [],
   "source": [
    "class PTBModel(object):\n",
    "\n",
    "\n",
    "    def __init__(self):\n",
    "        ######################################\n",
    "        # Setting parameters for ease of use #\n",
    "        ######################################\n",
    "        self.batch_size = batch_size\n",
    "        self.num_steps = num_steps\n",
    "        self.hidden_size_l1 = hidden_size_l1\n",
    "        self.hidden_size_l2 = hidden_size_l2\n",
    "        self.vocab_size = vocab_size\n",
    "        self.embeding_vector_size = embeding_vector_size\n",
    "        # Create a variable for the learning rate\n",
    "        self._lr = 1.0\n",
    "        \n",
    "        ###############################################################################\n",
    "        # Initializing the model using keras Sequential API  #\n",
    "        ###############################################################################\n",
    "        \n",
    "        self._model = tf.keras.models.Sequential()\n",
    "        \n",
    "        ####################################################################\n",
    "        # Creating the word embeddings layer and adding it to the sequence #\n",
    "        ####################################################################\n",
    "        with tf.device(\"/cpu:0\"):\n",
    "            # Create the embeddings for our input data. Size is hidden size.\n",
    "            self._embedding_layer = tf.keras.layers.Embedding(self.vocab_size, self.embeding_vector_size,batch_input_shape=(self.batch_size, self.num_steps),trainable=True,name=\"embedding_vocab\")  #[10000x200]\n",
    "            self._model.add(self._embedding_layer)\n",
    "            \n",
    "\n",
    "        ##########################################################################\n",
    "        # Creating the LSTM cell structure and connect it with the RNN structure #\n",
    "        ##########################################################################\n",
    "        # Create the LSTM Cells. \n",
    "        # This creates only the structure for the LSTM and has to be associated with a RNN unit still.\n",
    "        # The argument  of LSTMCell is size of hidden layer, that is, the number of hidden units of the LSTM (inside A). \n",
    "        # LSTM cell processes one word at a time and computes probabilities of the possible continuations of the sentence.\n",
    "        lstm_cell_l1 = tf.keras.layers.LSTMCell(hidden_size_l1)\n",
    "        lstm_cell_l2 = tf.keras.layers.LSTMCell(hidden_size_l2)\n",
    "        \n",
    "\n",
    "        \n",
    "        # By taking in the LSTM cells as parameters, the StackedRNNCells function junctions the LSTM units to the RNN units.\n",
    "        # RNN cell composed sequentially of stacked simple cells.\n",
    "        stacked_lstm = tf.keras.layers.StackedRNNCells([lstm_cell_l1, lstm_cell_l2])\n",
    "\n",
    "\n",
    "        \n",
    "\n",
    "        ############################################\n",
    "        # Creating the input structure for our RNN #\n",
    "        ############################################\n",
    "        # Input structure is 20x[30x200]\n",
    "        # Considering each word is represended by a 200 dimentional vector, and we have 30 batchs, we create 30 word-vectors of size [30xx2000]\n",
    "        # The input structure is fed from the embeddings, which are filled in by the input data\n",
    "        # Feeding a batch of b sentences to a RNN:\n",
    "        # In step 1,  first word of each of the b sentences (in a batch) is input in parallel.  \n",
    "        # In step 2,  second word of each of the b sentences is input in parallel. \n",
    "        # The parallelism is only for efficiency.  \n",
    "        # Each sentence in a batch is handled in parallel, but the network sees one word of a sentence at a time and does the computations accordingly. \n",
    "        # All the computations involving the words of all sentences in a batch at a given time step are done in parallel. \n",
    "\n",
    "        ########################################################################################################\n",
    "        # Instantiating our RNN model and setting stateful to True to feed forward the state to the next layer #\n",
    "        ########################################################################################################\n",
    "        \n",
    "        self._RNNlayer  =  tf.keras.layers.RNN(stacked_lstm,[batch_size, num_steps],return_state=False,stateful=True,trainable=True)\n",
    "        \n",
    "        # Define the initial state, i.e., the model state for the very first data point\n",
    "        # It initialize the state of the LSTM memory. The memory state of the network is initialized with a vector of zeros and gets updated after reading each word.\n",
    "        self._initial_state = tf.Variable(tf.zeros([batch_size,embeding_vector_size]),trainable=False)\n",
    "        self._RNNlayer.inital_state = self._initial_state\n",
    "    \n",
    "        ############################################\n",
    "        # Adding RNN layer to keras sequential API #\n",
    "        ############################################        \n",
    "        self._model.add(self._RNNlayer)\n",
    "        \n",
    "        #self._model.add(tf.keras.layers.LSTM(hidden_size_l1,return_sequences=True,stateful=True))\n",
    "        #self._model.add(tf.keras.layers.LSTM(hidden_size_l2,return_sequences=True))\n",
    "        \n",
    "        \n",
    "        ####################################################################################################\n",
    "        # Instantiating a Dense layer that connects the output to the vocab_size  and adding layer to model#\n",
    "        ####################################################################################################\n",
    "        self._dense = tf.keras.layers.Dense(self.vocab_size)\n",
    "        self._model.add(self._dense)\n",
    " \n",
    "        \n",
    "        ####################################################################################################\n",
    "        # Adding softmax activation layer and deriving probability to each class and adding layer to model #\n",
    "        ####################################################################################################\n",
    "        self._activation = tf.keras.layers.Activation('softmax')\n",
    "        self._model.add(self._activation)\n",
    "\n",
    "        ##########################################################\n",
    "        # Instantiating the stochastic gradient decent optimizer #\n",
    "        ########################################################## \n",
    "        self._optimizer = tf.keras.optimizers.SGD(lr=self._lr, clipnorm=max_grad_norm)\n",
    "        \n",
    "        \n",
    "        ##############################################################################\n",
    "        # Compiling and summarizing the model stacked using the keras sequential API #\n",
    "        ##############################################################################\n",
    "        self._model.compile(loss=self.crossentropy, optimizer=self._optimizer)\n",
    "        self._model.summary()\n",
    "\n",
    "\n",
    "    def crossentropy(self,y_true, y_pred):\n",
    "        return tf.keras.losses.sparse_categorical_crossentropy(y_true, y_pred)\n",
    "\n",
    "    def train_batch(self,_input_data,_targets):\n",
    "        #################################################\n",
    "        # Creating the Training Operation for our Model #\n",
    "        #################################################\n",
    "        # Create a variable for the learning rate\n",
    "        self._lr = tf.Variable(0.0, trainable=False)\n",
    "        # Get all TensorFlow variables marked as \"trainable\" (i.e. all of them except _lr, which we just created)\n",
    "        tvars = self._model.trainable_variables\n",
    "        # Define the gradient clipping threshold\n",
    "        with tf.GradientTape() as tape:\n",
    "            # Forward pass.\n",
    "            output_words_prob = self._model(_input_data)\n",
    "            # Loss value for this batch.\n",
    "            loss  = self.crossentropy(_targets, output_words_prob)\n",
    "            # average across batch and reduce sum\n",
    "            cost = tf.reduce_sum(loss/ self.batch_size)\n",
    "        # Get gradients of loss wrt the trainable variables.\n",
    "        grad_t_list = tape.gradient(cost, tvars)\n",
    "        # Define the gradient clipping threshold\n",
    "        grads, _ = tf.clip_by_global_norm(grad_t_list, max_grad_norm)\n",
    "        # Create the training TensorFlow Operation through our optimizer\n",
    "        train_op = self._optimizer.apply_gradients(zip(grads, tvars))\n",
    "        return cost\n",
    "        \n",
    "    def test_batch(self,_input_data,_targets):\n",
    "        #################################################\n",
    "        # Creating the Testing Operation for our Model #\n",
    "        #################################################\n",
    "        output_words_prob = self._model(_input_data)\n",
    "        loss  = self.crossentropy(_targets, output_words_prob)\n",
    "        # average across batch and reduce sum\n",
    "        cost = tf.reduce_sum(loss/ self.batch_size)\n",
    "\n",
    "        return cost\n",
    "    @classmethod\n",
    "    def instance(cls) : \n",
    "        return PTBModel()"
   ]
  },
  {
   "cell_type": "markdown",
   "metadata": {},
   "source": [
    "With that, the actual structure of our Recurrent Neural Network with Long Short-Term Memory is finished. What remains for us to do is to actually create the methods to run through time -- that is, the <code>run_epoch</code> method to be run at each epoch and a <code>main</code> script which ties all of this together.\n",
    "\n",
    "What our <code>run_epoch</code> method should do is take our input data and feed it to the relevant operations. This will return at the very least the current result for the cost function.\n"
   ]
  },
  {
   "cell_type": "code",
   "execution_count": 50,
   "metadata": {},
   "outputs": [],
   "source": [
    "\n",
    "########################################################################################################################\n",
    "# run_one_epoch takes as parameters  the model instance, the data to be fed, training or testing mode and verbose info #\n",
    "########################################################################################################################\n",
    "def run_one_epoch(m, data,is_training=True,verbose=False):\n",
    "\n",
    "    #Define the epoch size based on the length of the data, batch size and the number of steps\n",
    "    epoch_size = ((len(data) // m.batch_size) - 1) // m.num_steps\n",
    "    start_time = time.time()\n",
    "    costs = 0.\n",
    "    iters = 0\n",
    "    \n",
    "    m._model.reset_states()\n",
    "    \n",
    "    #For each step and data point\n",
    "    for step, (x, y) in enumerate(reader.ptb_iterator(data, m.batch_size, m.num_steps)):\n",
    "        \n",
    "        #Evaluate and return cost, state by running cost, final_state and the function passed as parameter\n",
    "        #y = tf.keras.utils.to_categorical(y, num_classes=vocab_size)\n",
    "        if is_training : \n",
    "            loss=  m.train_batch(x, y)\n",
    "        else :\n",
    "            loss = m.test_batch(x, y)\n",
    "                                   \n",
    "\n",
    "        #Add returned cost to costs (which keeps track of the total costs for this epoch)\n",
    "        costs += loss\n",
    "        \n",
    "        #Add number of steps to iteration counter\n",
    "        iters += m.num_steps\n",
    "\n",
    "        if verbose and step % (epoch_size // 10) == 10:\n",
    "            print(\"Itr %d of %d, perplexity: %.3f speed: %.0f wps\" % (step , epoch_size, np.exp(costs / iters), iters * m.batch_size / (time.time() - start_time)))\n",
    "        \n",
    "\n",
    "\n",
    "    # Returns the Perplexity rating for us to keep track of how the model is evolving\n",
    "    return np.exp(costs / iters)\n"
   ]
  },
  {
   "cell_type": "markdown",
   "metadata": {},
   "source": [
    "Now, we create the <code>main</code> method to tie everything together. The code here reads the data from the directory, using the <code>reader</code> helper module, and then trains and evaluates the model on both a testing and a validating subset of data.\n"
   ]
  },
  {
   "cell_type": "code",
   "execution_count": 51,
   "metadata": {},
   "outputs": [],
   "source": [
    "# Reads the data and separates it into training data, validation data and testing data\n",
    "raw_data = reader.ptb_raw_data(data_dir)\n",
    "train_data, valid_data, test_data, _, _ = raw_data"
   ]
  },
  {
   "cell_type": "code",
   "execution_count": null,
   "metadata": {},
   "outputs": [
    {
     "name": "stdout",
     "output_type": "stream",
     "text": [
      "Model: \"sequential_1\"\n",
      "_________________________________________________________________\n",
      "Layer (type)                 Output Shape              Param #   \n",
      "=================================================================\n",
      "embedding_vocab (Embedding)  (30, 20, 200)             2000000   \n",
      "_________________________________________________________________\n",
      "rnn_1 (RNN)                  (30, 20, 128)             671088    \n",
      "_________________________________________________________________\n",
      "dense_1 (Dense)              (30, 20, 10000)           1290000   \n",
      "_________________________________________________________________\n",
      "activation_1 (Activation)    (30, 20, 10000)           0         \n",
      "=================================================================\n",
      "Total params: 3,961,088\n",
      "Trainable params: 3,955,088\n",
      "Non-trainable params: 6,000\n",
      "_________________________________________________________________\n",
      "Epoch 1 : Learning rate: 1.000\n",
      "Itr 10 of 1549, perplexity: 4918.745 speed: 620 wps\n",
      "Itr 164 of 1549, perplexity: 1078.577 speed: 640 wps\n"
     ]
    }
   ],
   "source": [
    "\n",
    "# Instantiates the PTBModel class\n",
    "m=PTBModel.instance()   \n",
    "K = tf.keras.backend \n",
    "for i in range(max_epoch):\n",
    "    # Define the decay for this epoch\n",
    "    lr_decay = decay ** max(i - max_epoch_decay_lr, 0.0)\n",
    "    dcr = learning_rate * lr_decay\n",
    "    m._lr = dcr\n",
    "    K.set_value(m._model.optimizer.learning_rate,m._lr)\n",
    "    print(\"Epoch %d : Learning rate: %.3f\" % (i + 1, m._model.optimizer.learning_rate))\n",
    "    # Run the loop for this epoch in the training mode\n",
    "    train_perplexity = run_one_epoch(m, train_data,is_training=True,verbose=True)\n",
    "    print(\"Epoch %d : Train Perplexity: %.3f\" % (i + 1, train_perplexity))\n",
    "        \n",
    "    # Run the loop for this epoch in the validation mode\n",
    "    valid_perplexity = run_one_epoch(m, valid_data,is_training=False,verbose=False)\n",
    "    print(\"Epoch %d : Valid Perplexity: %.3f\" % (i + 1, valid_perplexity))\n",
    "    \n",
    "# Run the loop in the testing mode to see how effective was our training\n",
    "test_perplexity = run_one_epoch(m, test_data,is_training=False,verbose=False)\n",
    "print(\"Test Perplexity: %.3f\" % test_perplexity)"
   ]
  },
  {
   "cell_type": "markdown",
   "metadata": {},
   "source": [
    "As you can see, the model's perplexity rating drops very quickly after a few iterations. As was elaborated before, <b>lower Perplexity means that the model is more certain about its prediction</b>. As such, we can be sure that this model is performing well!\n"
   ]
  },
  {
   "cell_type": "markdown",
   "metadata": {},
   "source": [
    "* * *\n"
   ]
  }
 ],
 "metadata": {
  "kernelspec": {
   "display_name": "Python",
   "language": "python",
   "name": "conda-env-python-py"
  },
  "language_info": {
   "codemirror_mode": {
    "name": "ipython",
    "version": 3
   },
   "file_extension": ".py",
   "mimetype": "text/x-python",
   "name": "python",
   "nbconvert_exporter": "python",
   "pygments_lexer": "ipython3",
   "version": "3.7.12"
  }
 },
 "nbformat": 4,
 "nbformat_minor": 4
}
